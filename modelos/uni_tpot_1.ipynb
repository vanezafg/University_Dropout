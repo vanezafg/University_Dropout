{
 "cells": [
  {
   "cell_type": "code",
   "execution_count": 1,
   "id": "46605920-12c9-4cf2-a237-af9a74419e5d",
   "metadata": {},
   "outputs": [
    {
     "name": "stdout",
     "output_type": "stream",
     "text": [
      "Requirement already satisfied: tpot in c:\\users\\usuario\\appdata\\local\\programs\\python\\python310\\lib\\site-packages (0.11.7)\n",
      "Requirement already satisfied: update-checker>=0.16 in c:\\users\\usuario\\appdata\\local\\programs\\python\\python310\\lib\\site-packages (from tpot) (0.18.0)\n",
      "Requirement already satisfied: xgboost>=1.1.0 in c:\\users\\usuario\\appdata\\local\\programs\\python\\python310\\lib\\site-packages (from tpot) (1.7.4)\n",
      "Requirement already satisfied: pandas>=0.24.2 in c:\\users\\usuario\\appdata\\local\\programs\\python\\python310\\lib\\site-packages (from tpot) (1.5.3)\n",
      "Requirement already satisfied: scikit-learn>=0.22.0 in c:\\users\\usuario\\appdata\\local\\programs\\python\\python310\\lib\\site-packages (from tpot) (1.2.2)\n",
      "Requirement already satisfied: numpy>=1.16.3 in c:\\users\\usuario\\appdata\\local\\programs\\python\\python310\\lib\\site-packages (from tpot) (1.23.5)\n",
      "Requirement already satisfied: scipy>=1.3.1 in c:\\users\\usuario\\appdata\\local\\programs\\python\\python310\\lib\\site-packages (from tpot) (1.10.1)\n",
      "Requirement already satisfied: tqdm>=4.36.1 in c:\\users\\usuario\\appdata\\local\\programs\\python\\python310\\lib\\site-packages (from tpot) (4.65.0)\n",
      "Requirement already satisfied: stopit>=1.1.1 in c:\\users\\usuario\\appdata\\local\\programs\\python\\python310\\lib\\site-packages (from tpot) (1.1.2)\n",
      "Requirement already satisfied: joblib>=0.13.2 in c:\\users\\usuario\\appdata\\local\\programs\\python\\python310\\lib\\site-packages (from tpot) (1.2.0)\n",
      "Requirement already satisfied: deap>=1.2 in c:\\users\\usuario\\appdata\\local\\programs\\python\\python310\\lib\\site-packages (from tpot) (1.3.3)\n",
      "Requirement already satisfied: python-dateutil>=2.8.1 in c:\\users\\usuario\\appdata\\local\\programs\\python\\python310\\lib\\site-packages (from pandas>=0.24.2->tpot) (2.8.2)\n",
      "Requirement already satisfied: pytz>=2020.1 in c:\\users\\usuario\\appdata\\local\\programs\\python\\python310\\lib\\site-packages (from pandas>=0.24.2->tpot) (2022.7.1)\n",
      "Requirement already satisfied: threadpoolctl>=2.0.0 in c:\\users\\usuario\\appdata\\local\\programs\\python\\python310\\lib\\site-packages (from scikit-learn>=0.22.0->tpot) (3.1.0)\n",
      "Requirement already satisfied: colorama in c:\\users\\usuario\\appdata\\local\\programs\\python\\python310\\lib\\site-packages (from tqdm>=4.36.1->tpot) (0.4.5)\n",
      "Requirement already satisfied: requests>=2.3.0 in c:\\users\\usuario\\appdata\\local\\programs\\python\\python310\\lib\\site-packages (from update-checker>=0.16->tpot) (2.28.1)\n",
      "Requirement already satisfied: six>=1.5 in c:\\users\\usuario\\appdata\\local\\programs\\python\\python310\\lib\\site-packages (from python-dateutil>=2.8.1->pandas>=0.24.2->tpot) (1.16.0)\n",
      "Requirement already satisfied: idna<4,>=2.5 in c:\\users\\usuario\\appdata\\local\\programs\\python\\python310\\lib\\site-packages (from requests>=2.3.0->update-checker>=0.16->tpot) (3.4)\n",
      "Requirement already satisfied: urllib3<1.27,>=1.21.1 in c:\\users\\usuario\\appdata\\local\\programs\\python\\python310\\lib\\site-packages (from requests>=2.3.0->update-checker>=0.16->tpot) (1.26.12)\n",
      "Requirement already satisfied: certifi>=2017.4.17 in c:\\users\\usuario\\appdata\\local\\programs\\python\\python310\\lib\\site-packages (from requests>=2.3.0->update-checker>=0.16->tpot) (2022.9.24)\n",
      "Requirement already satisfied: charset-normalizer<3,>=2 in c:\\users\\usuario\\appdata\\local\\programs\\python\\python310\\lib\\site-packages (from requests>=2.3.0->update-checker>=0.16->tpot) (2.1.1)\n"
     ]
    },
    {
     "name": "stderr",
     "output_type": "stream",
     "text": [
      "\n",
      "[notice] A new release of pip is available: 23.0.1 -> 23.1.2\n",
      "[notice] To update, run: python.exe -m pip install --upgrade pip\n"
     ]
    }
   ],
   "source": [
    "# Instalando tpot\n",
    "!pip install tpot"
   ]
  },
  {
   "cell_type": "code",
   "execution_count": 2,
   "id": "af30fd28-02bf-4cb6-ac84-dcc54b5051eb",
   "metadata": {},
   "outputs": [
    {
     "name": "stderr",
     "output_type": "stream",
     "text": [
      "C:\\Users\\Usuario\\AppData\\Local\\Programs\\Python\\Python310\\lib\\site-packages\\tpot\\builtins\\__init__.py:36: UserWarning: Warning: optional dependency `torch` is not available. - skipping import of NN models.\n",
      "  warnings.warn(\"Warning: optional dependency `torch` is not available. - skipping import of NN models.\")\n"
     ]
    }
   ],
   "source": [
    "# Importar librerias\n",
    "from tpot import TPOTClassifier\n",
    "from sklearn.model_selection import train_test_split\n",
    "import pandas as pd\n",
    "import numpy as np"
   ]
  },
  {
   "cell_type": "code",
   "execution_count": null,
   "id": "bc5e11ab-4bbb-4fb4-ab37-e6378ed04984",
   "metadata": {},
   "outputs": [],
   "source": []
  },
  {
   "cell_type": "code",
   "execution_count": 3,
   "id": "c440b53b-913c-4507-85cd-d9a9d7a41f84",
   "metadata": {},
   "outputs": [
    {
     "data": {
      "text/html": [
       "<div>\n",
       "<style scoped>\n",
       "    .dataframe tbody tr th:only-of-type {\n",
       "        vertical-align: middle;\n",
       "    }\n",
       "\n",
       "    .dataframe tbody tr th {\n",
       "        vertical-align: top;\n",
       "    }\n",
       "\n",
       "    .dataframe thead th {\n",
       "        text-align: right;\n",
       "    }\n",
       "</style>\n",
       "<table border=\"1\" class=\"dataframe\">\n",
       "  <thead>\n",
       "    <tr style=\"text-align: right;\">\n",
       "      <th></th>\n",
       "      <th>Cod_Estudiante</th>\n",
       "      <th>TipoCole</th>\n",
       "      <th>ModalidadIngreso</th>\n",
       "      <th>Escuela</th>\n",
       "      <th>Facultad</th>\n",
       "      <th>PlanEstudio</th>\n",
       "      <th>UltimoPromSemestre</th>\n",
       "      <th>RepeticionAsigAcumuladas</th>\n",
       "      <th>ReingresoOtraEscuela</th>\n",
       "      <th>Sexo</th>\n",
       "      <th>...</th>\n",
       "      <th>Cod_AsignaturaIS-826</th>\n",
       "      <th>Cod_AsignaturaIS-827</th>\n",
       "      <th>Cod_AsignaturaIS-921</th>\n",
       "      <th>Cod_AsignaturaIS-922</th>\n",
       "      <th>Cod_AsignaturaIS-923</th>\n",
       "      <th>Cod_AsignaturaIS-924</th>\n",
       "      <th>Cod_AsignaturaIS-925</th>\n",
       "      <th>Cod_AsignaturaIS-926</th>\n",
       "      <th>Cod_AsignaturaIS-927</th>\n",
       "      <th>Cod_AsignaturaIS-928</th>\n",
       "    </tr>\n",
       "  </thead>\n",
       "  <tbody>\n",
       "    <tr>\n",
       "      <th>0</th>\n",
       "      <td>2017652773</td>\n",
       "      <td>Publico</td>\n",
       "      <td>OrdinarioGeneral</td>\n",
       "      <td>IAgroindustrial</td>\n",
       "      <td>Ingenieria</td>\n",
       "      <td>2016</td>\n",
       "      <td>7</td>\n",
       "      <td>3</td>\n",
       "      <td>0</td>\n",
       "      <td>Male</td>\n",
       "      <td>...</td>\n",
       "      <td>0</td>\n",
       "      <td>0</td>\n",
       "      <td>0</td>\n",
       "      <td>0</td>\n",
       "      <td>0</td>\n",
       "      <td>0</td>\n",
       "      <td>0</td>\n",
       "      <td>0</td>\n",
       "      <td>0</td>\n",
       "      <td>0</td>\n",
       "    </tr>\n",
       "    <tr>\n",
       "      <th>1</th>\n",
       "      <td>2017853766</td>\n",
       "      <td>Publico</td>\n",
       "      <td>OrdinarioGeneral</td>\n",
       "      <td>IMinas</td>\n",
       "      <td>Ingenieria</td>\n",
       "      <td>2016</td>\n",
       "      <td>6</td>\n",
       "      <td>5</td>\n",
       "      <td>0</td>\n",
       "      <td>Fema</td>\n",
       "      <td>...</td>\n",
       "      <td>0</td>\n",
       "      <td>0</td>\n",
       "      <td>0</td>\n",
       "      <td>0</td>\n",
       "      <td>0</td>\n",
       "      <td>0</td>\n",
       "      <td>0</td>\n",
       "      <td>0</td>\n",
       "      <td>0</td>\n",
       "      <td>0</td>\n",
       "    </tr>\n",
       "    <tr>\n",
       "      <th>2</th>\n",
       "      <td>2017754770</td>\n",
       "      <td>Publico</td>\n",
       "      <td>OrdinarioGeneral</td>\n",
       "      <td>IInformatica</td>\n",
       "      <td>Ingenieria</td>\n",
       "      <td>2016</td>\n",
       "      <td>2</td>\n",
       "      <td>0</td>\n",
       "      <td>0</td>\n",
       "      <td>Male</td>\n",
       "      <td>...</td>\n",
       "      <td>0</td>\n",
       "      <td>0</td>\n",
       "      <td>0</td>\n",
       "      <td>0</td>\n",
       "      <td>0</td>\n",
       "      <td>0</td>\n",
       "      <td>0</td>\n",
       "      <td>0</td>\n",
       "      <td>0</td>\n",
       "      <td>0</td>\n",
       "    </tr>\n",
       "    <tr>\n",
       "      <th>3</th>\n",
       "      <td>2017754768</td>\n",
       "      <td>Publico</td>\n",
       "      <td>OrdinarioGeneral</td>\n",
       "      <td>IInformatica</td>\n",
       "      <td>Ingenieria</td>\n",
       "      <td>2016</td>\n",
       "      <td>5</td>\n",
       "      <td>0</td>\n",
       "      <td>0</td>\n",
       "      <td>Fema</td>\n",
       "      <td>...</td>\n",
       "      <td>0</td>\n",
       "      <td>0</td>\n",
       "      <td>0</td>\n",
       "      <td>0</td>\n",
       "      <td>0</td>\n",
       "      <td>0</td>\n",
       "      <td>0</td>\n",
       "      <td>0</td>\n",
       "      <td>0</td>\n",
       "      <td>0</td>\n",
       "    </tr>\n",
       "    <tr>\n",
       "      <th>4</th>\n",
       "      <td>2017652782</td>\n",
       "      <td>Publico</td>\n",
       "      <td>1erosPuestosColegios</td>\n",
       "      <td>IAgroindustrial</td>\n",
       "      <td>Ingenieria</td>\n",
       "      <td>2016</td>\n",
       "      <td>10</td>\n",
       "      <td>2</td>\n",
       "      <td>0</td>\n",
       "      <td>Fema</td>\n",
       "      <td>...</td>\n",
       "      <td>0</td>\n",
       "      <td>0</td>\n",
       "      <td>0</td>\n",
       "      <td>0</td>\n",
       "      <td>0</td>\n",
       "      <td>0</td>\n",
       "      <td>0</td>\n",
       "      <td>0</td>\n",
       "      <td>0</td>\n",
       "      <td>0</td>\n",
       "    </tr>\n",
       "    <tr>\n",
       "      <th>...</th>\n",
       "      <td>...</td>\n",
       "      <td>...</td>\n",
       "      <td>...</td>\n",
       "      <td>...</td>\n",
       "      <td>...</td>\n",
       "      <td>...</td>\n",
       "      <td>...</td>\n",
       "      <td>...</td>\n",
       "      <td>...</td>\n",
       "      <td>...</td>\n",
       "      <td>...</td>\n",
       "      <td>...</td>\n",
       "      <td>...</td>\n",
       "      <td>...</td>\n",
       "      <td>...</td>\n",
       "      <td>...</td>\n",
       "      <td>...</td>\n",
       "      <td>...</td>\n",
       "      <td>...</td>\n",
       "      <td>...</td>\n",
       "      <td>...</td>\n",
       "    </tr>\n",
       "    <tr>\n",
       "      <th>152</th>\n",
       "      <td>2017853756</td>\n",
       "      <td>Publico</td>\n",
       "      <td>OrdinarioGeneral</td>\n",
       "      <td>IMinas</td>\n",
       "      <td>Ingenieria</td>\n",
       "      <td>2016</td>\n",
       "      <td>1</td>\n",
       "      <td>0</td>\n",
       "      <td>0</td>\n",
       "      <td>Male</td>\n",
       "      <td>...</td>\n",
       "      <td>0</td>\n",
       "      <td>0</td>\n",
       "      <td>0</td>\n",
       "      <td>0</td>\n",
       "      <td>0</td>\n",
       "      <td>0</td>\n",
       "      <td>0</td>\n",
       "      <td>0</td>\n",
       "      <td>0</td>\n",
       "      <td>0</td>\n",
       "    </tr>\n",
       "    <tr>\n",
       "      <th>153</th>\n",
       "      <td>2017651768</td>\n",
       "      <td>Publico</td>\n",
       "      <td>OrdinarioGeneral</td>\n",
       "      <td>GPDS</td>\n",
       "      <td>Letras</td>\n",
       "      <td>2016</td>\n",
       "      <td>17</td>\n",
       "      <td>0</td>\n",
       "      <td>0</td>\n",
       "      <td>Fema</td>\n",
       "      <td>...</td>\n",
       "      <td>0</td>\n",
       "      <td>0</td>\n",
       "      <td>0</td>\n",
       "      <td>0</td>\n",
       "      <td>0</td>\n",
       "      <td>0</td>\n",
       "      <td>0</td>\n",
       "      <td>0</td>\n",
       "      <td>0</td>\n",
       "      <td>0</td>\n",
       "    </tr>\n",
       "    <tr>\n",
       "      <th>154</th>\n",
       "      <td>2017653778</td>\n",
       "      <td>Publico</td>\n",
       "      <td>OrdinarioGeneral</td>\n",
       "      <td>IMinas</td>\n",
       "      <td>Ingenieria</td>\n",
       "      <td>2016</td>\n",
       "      <td>2</td>\n",
       "      <td>6</td>\n",
       "      <td>1</td>\n",
       "      <td>Fema</td>\n",
       "      <td>...</td>\n",
       "      <td>0</td>\n",
       "      <td>0</td>\n",
       "      <td>0</td>\n",
       "      <td>0</td>\n",
       "      <td>0</td>\n",
       "      <td>0</td>\n",
       "      <td>0</td>\n",
       "      <td>0</td>\n",
       "      <td>0</td>\n",
       "      <td>0</td>\n",
       "    </tr>\n",
       "    <tr>\n",
       "      <th>155</th>\n",
       "      <td>2017755780</td>\n",
       "      <td>Privado</td>\n",
       "      <td>OrdinarioGeneral</td>\n",
       "      <td>IAmbiental</td>\n",
       "      <td>Ingenieria</td>\n",
       "      <td>2016</td>\n",
       "      <td>5</td>\n",
       "      <td>4</td>\n",
       "      <td>0</td>\n",
       "      <td>Male</td>\n",
       "      <td>...</td>\n",
       "      <td>0</td>\n",
       "      <td>0</td>\n",
       "      <td>0</td>\n",
       "      <td>0</td>\n",
       "      <td>0</td>\n",
       "      <td>0</td>\n",
       "      <td>0</td>\n",
       "      <td>0</td>\n",
       "      <td>0</td>\n",
       "      <td>0</td>\n",
       "    </tr>\n",
       "    <tr>\n",
       "      <th>156</th>\n",
       "      <td>2017653796</td>\n",
       "      <td>Publico</td>\n",
       "      <td>CEPRE</td>\n",
       "      <td>IMinas</td>\n",
       "      <td>Ingenieria</td>\n",
       "      <td>2016</td>\n",
       "      <td>6</td>\n",
       "      <td>19</td>\n",
       "      <td>1</td>\n",
       "      <td>Male</td>\n",
       "      <td>...</td>\n",
       "      <td>0</td>\n",
       "      <td>0</td>\n",
       "      <td>0</td>\n",
       "      <td>0</td>\n",
       "      <td>0</td>\n",
       "      <td>0</td>\n",
       "      <td>0</td>\n",
       "      <td>0</td>\n",
       "      <td>0</td>\n",
       "      <td>0</td>\n",
       "    </tr>\n",
       "  </tbody>\n",
       "</table>\n",
       "<p>157 rows × 352 columns</p>\n",
       "</div>"
      ],
      "text/plain": [
       "     Cod_Estudiante TipoCole      ModalidadIngreso          Escuela  \\\n",
       "0        2017652773  Publico      OrdinarioGeneral  IAgroindustrial   \n",
       "1        2017853766  Publico      OrdinarioGeneral           IMinas   \n",
       "2        2017754770  Publico      OrdinarioGeneral     IInformatica   \n",
       "3        2017754768  Publico      OrdinarioGeneral     IInformatica   \n",
       "4        2017652782  Publico  1erosPuestosColegios  IAgroindustrial   \n",
       "..              ...      ...                   ...              ...   \n",
       "152      2017853756  Publico      OrdinarioGeneral           IMinas   \n",
       "153      2017651768  Publico      OrdinarioGeneral             GPDS   \n",
       "154      2017653778  Publico      OrdinarioGeneral           IMinas   \n",
       "155      2017755780  Privado      OrdinarioGeneral       IAmbiental   \n",
       "156      2017653796  Publico                 CEPRE           IMinas   \n",
       "\n",
       "       Facultad  PlanEstudio  UltimoPromSemestre  RepeticionAsigAcumuladas  \\\n",
       "0    Ingenieria         2016                   7                         3   \n",
       "1    Ingenieria         2016                   6                         5   \n",
       "2    Ingenieria         2016                   2                         0   \n",
       "3    Ingenieria         2016                   5                         0   \n",
       "4    Ingenieria         2016                  10                         2   \n",
       "..          ...          ...                 ...                       ...   \n",
       "152  Ingenieria         2016                   1                         0   \n",
       "153      Letras         2016                  17                         0   \n",
       "154  Ingenieria         2016                   2                         6   \n",
       "155  Ingenieria         2016                   5                         4   \n",
       "156  Ingenieria         2016                   6                        19   \n",
       "\n",
       "     ReingresoOtraEscuela  Sexo  ... Cod_AsignaturaIS-826  \\\n",
       "0                       0  Male  ...                    0   \n",
       "1                       0  Fema  ...                    0   \n",
       "2                       0  Male  ...                    0   \n",
       "3                       0  Fema  ...                    0   \n",
       "4                       0  Fema  ...                    0   \n",
       "..                    ...   ...  ...                  ...   \n",
       "152                     0  Male  ...                    0   \n",
       "153                     0  Fema  ...                    0   \n",
       "154                     1  Fema  ...                    0   \n",
       "155                     0  Male  ...                    0   \n",
       "156                     1  Male  ...                    0   \n",
       "\n",
       "     Cod_AsignaturaIS-827 Cod_AsignaturaIS-921 Cod_AsignaturaIS-922  \\\n",
       "0                       0                    0                    0   \n",
       "1                       0                    0                    0   \n",
       "2                       0                    0                    0   \n",
       "3                       0                    0                    0   \n",
       "4                       0                    0                    0   \n",
       "..                    ...                  ...                  ...   \n",
       "152                     0                    0                    0   \n",
       "153                     0                    0                    0   \n",
       "154                     0                    0                    0   \n",
       "155                     0                    0                    0   \n",
       "156                     0                    0                    0   \n",
       "\n",
       "    Cod_AsignaturaIS-923 Cod_AsignaturaIS-924  Cod_AsignaturaIS-925  \\\n",
       "0                      0                    0                     0   \n",
       "1                      0                    0                     0   \n",
       "2                      0                    0                     0   \n",
       "3                      0                    0                     0   \n",
       "4                      0                    0                     0   \n",
       "..                   ...                  ...                   ...   \n",
       "152                    0                    0                     0   \n",
       "153                    0                    0                     0   \n",
       "154                    0                    0                     0   \n",
       "155                    0                    0                     0   \n",
       "156                    0                    0                     0   \n",
       "\n",
       "     Cod_AsignaturaIS-926  Cod_AsignaturaIS-927  Cod_AsignaturaIS-928  \n",
       "0                       0                     0                     0  \n",
       "1                       0                     0                     0  \n",
       "2                       0                     0                     0  \n",
       "3                       0                     0                     0  \n",
       "4                       0                     0                     0  \n",
       "..                    ...                   ...                   ...  \n",
       "152                     0                     0                     0  \n",
       "153                     0                     0                     0  \n",
       "154                     0                     0                     0  \n",
       "155                     0                     0                     0  \n",
       "156                     0                     0                     0  \n",
       "\n",
       "[157 rows x 352 columns]"
      ]
     },
     "execution_count": 3,
     "metadata": {},
     "output_type": "execute_result"
    }
   ],
   "source": [
    "# Cargando datos, corresponde al periodo comprendido entre 2017-1 hasta el 2021-2 (5 años de estudio)\n",
    "# dfuni2017=pd.read_csv('\\DATA\\dfuni2017_train.csv')\n",
    "# dfuni2017\n",
    "\n",
    "# Ruta relativa a la carpeta \"DATA\"\n",
    "data_path = 'DATA/dfuni2017_train.csv'\n",
    "\n",
    "# Leer el archivo CSV\n",
    "dfuni2017 = pd.read_csv(data_path)\n",
    "\n",
    "# Verificar los datos leídos\n",
    "dfuni2017\n"
   ]
  },
  {
   "cell_type": "code",
   "execution_count": 4,
   "id": "f6ccb042-8a9f-44f2-a7bd-956d7fb794b1",
   "metadata": {},
   "outputs": [
    {
     "data": {
      "text/plain": [
       "10800"
      ]
     },
     "execution_count": 4,
     "metadata": {},
     "output_type": "execute_result"
    }
   ],
   "source": [
    "# Calculando la cantidad aproximada de registros de notas de estudiantes que ingresaron en el año 2017 (2017-1 y 2017-2)\n",
    "# M= cantidad_de_carreras_profesionales x cantidad_estudiantes_ingresantes_por_carrera x numero_aprox_asignaturas_cursadas\n",
    "M= 6 * 40 * 45\n",
    "M"
   ]
  },
  {
   "cell_type": "code",
   "execution_count": 5,
   "id": "0c03e6ab-2b7b-4a19-8652-e7e25192ecbe",
   "metadata": {},
   "outputs": [
    {
     "name": "stdout",
     "output_type": "stream",
     "text": [
      "<class 'pandas.core.frame.DataFrame'>\n",
      "RangeIndex: 157 entries, 0 to 156\n",
      "Columns: 352 entries, Cod_Estudiante to Cod_AsignaturaIS-928\n",
      "dtypes: int64(342), object(10)\n",
      "memory usage: 431.9+ KB\n"
     ]
    }
   ],
   "source": [
    "dfuni2017.info()"
   ]
  },
  {
   "cell_type": "code",
   "execution_count": 6,
   "id": "c7a6ff1e-67e4-4bb8-9457-98c1966307de",
   "metadata": {},
   "outputs": [],
   "source": [
    "# Aqui debo analizar\n"
   ]
  },
  {
   "cell_type": "code",
   "execution_count": 7,
   "id": "28cd033c-9021-4475-ba75-090fc52c50da",
   "metadata": {},
   "outputs": [],
   "source": [
    "#  Cambiar tipo de datos\n",
    "dfuni2017['Cod_Estudiante']=dfuni2017['Cod_Estudiante'].astype(\"category\")\n",
    "dfuni2017['TipoCole']=dfuni2017['TipoCole'].astype(\"category\")\n",
    "dfuni2017['ModalidadIngreso']=dfuni2017['ModalidadIngreso'].astype(\"category\")\n",
    "dfuni2017['Escuela']=dfuni2017['Escuela'].astype(\"category\")\n",
    "dfuni2017['Facultad']=dfuni2017['Facultad'].astype(\"category\")\n",
    "dfuni2017['PlanEstudio']=dfuni2017['PlanEstudio'].astype(\"category\")\n",
    "# dfuni2017['SemestreEnCurso']=dfuni2017['SemestreEnCurso'].astype(\"category\")\n",
    "\n",
    "dfuni2017['Sexo']=dfuni2017['Sexo'].astype(\"category\")\n",
    "dfuni2017['EstCivil']=dfuni2017['EstCivil'].astype(\"category\")\n",
    "dfuni2017['SemestreIngreso']=dfuni2017['SemestreIngreso'].astype(\"category\")\n",
    "dfuni2017['Filial']=dfuni2017['Filial'].astype(\"category\")\n",
    "# dfuni2017['ControlCicloAcad']=dfuni2017['ControlCicloAcad'].astype(\"category\")\n",
    "# dfuni2017['CicloAsig']=dfuni2017['CicloAsig'].astype(\"category\")\n",
    "# dfuni2017['Cod_Asignatura']=dfuni2017['Cod_Asignatura'].astype(\"category\")\n",
    "dfuni2017['CursaCV']=dfuni2017['CursaCV'].astype(\"category\")\n",
    "# dfuni2017['EstadoEstudiante']=dfuni2017['EstadoEstudiante'].astype(\"int\")"
   ]
  },
  {
   "cell_type": "code",
   "execution_count": 8,
   "id": "92e67653-5e0d-45c3-be31-26d36f29b902",
   "metadata": {
    "tags": []
   },
   "outputs": [],
   "source": [
    "# Reemplazar los valores en la columna del Estado del estudiante, variable = EstadoEst\n",
    "dfuni2017['EstadoEstudiante'] = dfuni2017['EstadoEstudiante'].replace({\"No_Deserto\": 0, \"Deserto\": 1})"
   ]
  },
  {
   "cell_type": "code",
   "execution_count": 9,
   "id": "f838d787-c0bb-429a-b62f-25e5ba87d126",
   "metadata": {
    "tags": []
   },
   "outputs": [],
   "source": [
    "# Cambiar tipo de dato\n",
    "dfuni2017['EstadoEstudiante']=dfuni2017['EstadoEstudiante'].astype(\"int\")"
   ]
  },
  {
   "cell_type": "code",
   "execution_count": 10,
   "id": "704dbfe6-4ef1-49fe-b605-3a2696f3bd52",
   "metadata": {},
   "outputs": [
    {
     "name": "stdout",
     "output_type": "stream",
     "text": [
      "<class 'pandas.core.frame.DataFrame'>\n",
      "RangeIndex: 157 entries, 0 to 156\n",
      "Columns: 352 entries, Cod_Estudiante to Cod_AsignaturaIS-928\n",
      "dtypes: category(11), int32(1), int64(339), object(1)\n",
      "memory usage: 426.3+ KB\n"
     ]
    }
   ],
   "source": [
    "dfuni2017.info()"
   ]
  },
  {
   "cell_type": "code",
   "execution_count": 11,
   "id": "6bdcdc36-cc4e-4464-af77-2b82a47ac3b6",
   "metadata": {
    "tags": []
   },
   "outputs": [
    {
     "data": {
      "text/html": [
       "<div>\n",
       "<style scoped>\n",
       "    .dataframe tbody tr th:only-of-type {\n",
       "        vertical-align: middle;\n",
       "    }\n",
       "\n",
       "    .dataframe tbody tr th {\n",
       "        vertical-align: top;\n",
       "    }\n",
       "\n",
       "    .dataframe thead th {\n",
       "        text-align: right;\n",
       "    }\n",
       "</style>\n",
       "<table border=\"1\" class=\"dataframe\">\n",
       "  <thead>\n",
       "    <tr style=\"text-align: right;\">\n",
       "      <th></th>\n",
       "      <th>Cod_Estudiante</th>\n",
       "      <th>TipoCole</th>\n",
       "      <th>ModalidadIngreso</th>\n",
       "      <th>Escuela</th>\n",
       "      <th>Facultad</th>\n",
       "      <th>PlanEstudio</th>\n",
       "      <th>UltimoPromSemestre</th>\n",
       "      <th>RepeticionAsigAcumuladas</th>\n",
       "      <th>ReingresoOtraEscuela</th>\n",
       "      <th>Sexo</th>\n",
       "      <th>...</th>\n",
       "      <th>Cod_AsignaturaIS-826</th>\n",
       "      <th>Cod_AsignaturaIS-827</th>\n",
       "      <th>Cod_AsignaturaIS-921</th>\n",
       "      <th>Cod_AsignaturaIS-922</th>\n",
       "      <th>Cod_AsignaturaIS-923</th>\n",
       "      <th>Cod_AsignaturaIS-924</th>\n",
       "      <th>Cod_AsignaturaIS-925</th>\n",
       "      <th>Cod_AsignaturaIS-926</th>\n",
       "      <th>Cod_AsignaturaIS-927</th>\n",
       "      <th>Cod_AsignaturaIS-928</th>\n",
       "    </tr>\n",
       "  </thead>\n",
       "  <tbody>\n",
       "    <tr>\n",
       "      <th>0</th>\n",
       "      <td>2017652773</td>\n",
       "      <td>Publico</td>\n",
       "      <td>OrdinarioGeneral</td>\n",
       "      <td>IAgroindustrial</td>\n",
       "      <td>Ingenieria</td>\n",
       "      <td>2016</td>\n",
       "      <td>7</td>\n",
       "      <td>3</td>\n",
       "      <td>0</td>\n",
       "      <td>Male</td>\n",
       "      <td>...</td>\n",
       "      <td>0</td>\n",
       "      <td>0</td>\n",
       "      <td>0</td>\n",
       "      <td>0</td>\n",
       "      <td>0</td>\n",
       "      <td>0</td>\n",
       "      <td>0</td>\n",
       "      <td>0</td>\n",
       "      <td>0</td>\n",
       "      <td>0</td>\n",
       "    </tr>\n",
       "    <tr>\n",
       "      <th>1</th>\n",
       "      <td>2017853766</td>\n",
       "      <td>Publico</td>\n",
       "      <td>OrdinarioGeneral</td>\n",
       "      <td>IMinas</td>\n",
       "      <td>Ingenieria</td>\n",
       "      <td>2016</td>\n",
       "      <td>6</td>\n",
       "      <td>5</td>\n",
       "      <td>0</td>\n",
       "      <td>Fema</td>\n",
       "      <td>...</td>\n",
       "      <td>0</td>\n",
       "      <td>0</td>\n",
       "      <td>0</td>\n",
       "      <td>0</td>\n",
       "      <td>0</td>\n",
       "      <td>0</td>\n",
       "      <td>0</td>\n",
       "      <td>0</td>\n",
       "      <td>0</td>\n",
       "      <td>0</td>\n",
       "    </tr>\n",
       "    <tr>\n",
       "      <th>2</th>\n",
       "      <td>2017754770</td>\n",
       "      <td>Publico</td>\n",
       "      <td>OrdinarioGeneral</td>\n",
       "      <td>IInformatica</td>\n",
       "      <td>Ingenieria</td>\n",
       "      <td>2016</td>\n",
       "      <td>2</td>\n",
       "      <td>0</td>\n",
       "      <td>0</td>\n",
       "      <td>Male</td>\n",
       "      <td>...</td>\n",
       "      <td>0</td>\n",
       "      <td>0</td>\n",
       "      <td>0</td>\n",
       "      <td>0</td>\n",
       "      <td>0</td>\n",
       "      <td>0</td>\n",
       "      <td>0</td>\n",
       "      <td>0</td>\n",
       "      <td>0</td>\n",
       "      <td>0</td>\n",
       "    </tr>\n",
       "    <tr>\n",
       "      <th>3</th>\n",
       "      <td>2017754768</td>\n",
       "      <td>Publico</td>\n",
       "      <td>OrdinarioGeneral</td>\n",
       "      <td>IInformatica</td>\n",
       "      <td>Ingenieria</td>\n",
       "      <td>2016</td>\n",
       "      <td>5</td>\n",
       "      <td>0</td>\n",
       "      <td>0</td>\n",
       "      <td>Fema</td>\n",
       "      <td>...</td>\n",
       "      <td>0</td>\n",
       "      <td>0</td>\n",
       "      <td>0</td>\n",
       "      <td>0</td>\n",
       "      <td>0</td>\n",
       "      <td>0</td>\n",
       "      <td>0</td>\n",
       "      <td>0</td>\n",
       "      <td>0</td>\n",
       "      <td>0</td>\n",
       "    </tr>\n",
       "    <tr>\n",
       "      <th>4</th>\n",
       "      <td>2017652782</td>\n",
       "      <td>Publico</td>\n",
       "      <td>1erosPuestosColegios</td>\n",
       "      <td>IAgroindustrial</td>\n",
       "      <td>Ingenieria</td>\n",
       "      <td>2016</td>\n",
       "      <td>10</td>\n",
       "      <td>2</td>\n",
       "      <td>0</td>\n",
       "      <td>Fema</td>\n",
       "      <td>...</td>\n",
       "      <td>0</td>\n",
       "      <td>0</td>\n",
       "      <td>0</td>\n",
       "      <td>0</td>\n",
       "      <td>0</td>\n",
       "      <td>0</td>\n",
       "      <td>0</td>\n",
       "      <td>0</td>\n",
       "      <td>0</td>\n",
       "      <td>0</td>\n",
       "    </tr>\n",
       "  </tbody>\n",
       "</table>\n",
       "<p>5 rows × 352 columns</p>\n",
       "</div>"
      ],
      "text/plain": [
       "  Cod_Estudiante TipoCole      ModalidadIngreso          Escuela    Facultad  \\\n",
       "0     2017652773  Publico      OrdinarioGeneral  IAgroindustrial  Ingenieria   \n",
       "1     2017853766  Publico      OrdinarioGeneral           IMinas  Ingenieria   \n",
       "2     2017754770  Publico      OrdinarioGeneral     IInformatica  Ingenieria   \n",
       "3     2017754768  Publico      OrdinarioGeneral     IInformatica  Ingenieria   \n",
       "4     2017652782  Publico  1erosPuestosColegios  IAgroindustrial  Ingenieria   \n",
       "\n",
       "  PlanEstudio  UltimoPromSemestre  RepeticionAsigAcumuladas  \\\n",
       "0        2016                   7                         3   \n",
       "1        2016                   6                         5   \n",
       "2        2016                   2                         0   \n",
       "3        2016                   5                         0   \n",
       "4        2016                  10                         2   \n",
       "\n",
       "   ReingresoOtraEscuela  Sexo  ... Cod_AsignaturaIS-826 Cod_AsignaturaIS-827  \\\n",
       "0                     0  Male  ...                    0                    0   \n",
       "1                     0  Fema  ...                    0                    0   \n",
       "2                     0  Male  ...                    0                    0   \n",
       "3                     0  Fema  ...                    0                    0   \n",
       "4                     0  Fema  ...                    0                    0   \n",
       "\n",
       "   Cod_AsignaturaIS-921 Cod_AsignaturaIS-922 Cod_AsignaturaIS-923  \\\n",
       "0                     0                    0                    0   \n",
       "1                     0                    0                    0   \n",
       "2                     0                    0                    0   \n",
       "3                     0                    0                    0   \n",
       "4                     0                    0                    0   \n",
       "\n",
       "  Cod_AsignaturaIS-924  Cod_AsignaturaIS-925  Cod_AsignaturaIS-926  \\\n",
       "0                    0                     0                     0   \n",
       "1                    0                     0                     0   \n",
       "2                    0                     0                     0   \n",
       "3                    0                     0                     0   \n",
       "4                    0                     0                     0   \n",
       "\n",
       "   Cod_AsignaturaIS-927  Cod_AsignaturaIS-928  \n",
       "0                     0                     0  \n",
       "1                     0                     0  \n",
       "2                     0                     0  \n",
       "3                     0                     0  \n",
       "4                     0                     0  \n",
       "\n",
       "[5 rows x 352 columns]"
      ]
     },
     "execution_count": 11,
     "metadata": {},
     "output_type": "execute_result"
    }
   ],
   "source": [
    "dfuni2017.head(5)"
   ]
  },
  {
   "cell_type": "code",
   "execution_count": 12,
   "id": "de6dcf81-92e7-4746-9a00-d8ca441f8e8c",
   "metadata": {},
   "outputs": [],
   "source": [
    "# Convertir el dato del tipo categorico a un tipo numerico unico entendible por scikit-learning\n",
    "# from sklearn.preprocessing import LabelEncoder\n",
    "\n",
    "# le = LabelEncoder()\n",
    "# dfunam2017['CodEst'] = le.fit_transform(dfunam2017['CodEst'])\n",
    "# dfunam2017['PlanEst'] = le.fit_transform(dfunam2017['PlanEst'])\n",
    "# dfunam2017['SemEnCurso'] = le.fit_transform(dfunam2017['SemEnCurso'])\n",
    "# dfunam2017['SemPerma'] = le.fit_transform(dfunam2017['SemPerma'])\n",
    "# dfunam2017['SemIngreso'] = le.fit_transform(dfunam2017['SemIngreso'])\n",
    "# dfunam2017['ControlCV'] = le.fit_transform(dfunam2017['ControlCV'])\n",
    "# dfunam2017['CicloAsig'] = le.fit_transform(dfunam2017['CicloAsig'])\n",
    "# dfunam2017['CodAsig'] = le.fit_transform(dfunam2017['CodAsig'])\n",
    "# dfunam2017['CursaCV'] = le.fit_transform(dfunam2017['CursaCV'])"
   ]
  },
  {
   "cell_type": "code",
   "execution_count": 13,
   "id": "adb13834-8883-41e2-95e6-b970d6048995",
   "metadata": {},
   "outputs": [],
   "source": [
    "# dfunam2017.info()"
   ]
  },
  {
   "cell_type": "code",
   "execution_count": null,
   "id": "fade1599-a1a1-4db9-b29c-16f35f6c32e3",
   "metadata": {},
   "outputs": [],
   "source": []
  },
  {
   "cell_type": "markdown",
   "id": "b6b3f882-9809-44b1-bbbc-29ab81fb35d0",
   "metadata": {
    "tags": []
   },
   "source": [
    "## Segundo intento para aplicar TopT"
   ]
  },
  {
   "cell_type": "markdown",
   "id": "2e91fc6d-14f4-4014-9304-730b70c73d0e",
   "metadata": {},
   "source": [
    "### Data Exploration"
   ]
  },
  {
   "cell_type": "code",
   "execution_count": 14,
   "id": "79e8a2f0-55e2-4186-973c-3ce808b2ce6e",
   "metadata": {
    "tags": []
   },
   "outputs": [
    {
     "data": {
      "text/plain": [
       "EstadoEstudiante\n",
       "0    81\n",
       "1    76\n",
       "dtype: int64"
      ]
     },
     "execution_count": 14,
     "metadata": {},
     "output_type": "execute_result"
    }
   ],
   "source": [
    "# Vamos a verificar cuántos estudiantes Desertan o No_desertan. Periodo 20171 - 20212\n",
    "\n",
    "filtro_agrupado_V3_2017_2021 = dfuni2017.groupby(['EstadoEstudiante']).size()\n",
    "filtro_agrupado_V3_2017_2021"
   ]
  },
  {
   "cell_type": "code",
   "execution_count": 15,
   "id": "596c3067-faa4-49f4-afc5-2caed2d46b05",
   "metadata": {
    "tags": []
   },
   "outputs": [
    {
     "data": {
      "text/plain": [
       "157"
      ]
     },
     "execution_count": 15,
     "metadata": {},
     "output_type": "execute_result"
    }
   ],
   "source": [
    "len(dfuni2017)"
   ]
  },
  {
   "cell_type": "code",
   "execution_count": 16,
   "id": "e13f3a06-8aa7-4cf7-bc02-57ee19c33246",
   "metadata": {},
   "outputs": [
    {
     "data": {
      "text/plain": [
       "Escuela          EstadoEstudiante\n",
       "GPDS             0                   23\n",
       "                 1                    6\n",
       "IAgroindustrial  1                   16\n",
       "                 0                   13\n",
       "IAmbiental       0                   15\n",
       "                 1                    9\n",
       "IInformatica     1                   20\n",
       "                 0                   10\n",
       "IMinas           1                   17\n",
       "                 0                   13\n",
       "IPesquera        1                    8\n",
       "                 0                    7\n",
       "Name: EstadoEstudiante, dtype: int64"
      ]
     },
     "execution_count": 16,
     "metadata": {},
     "output_type": "execute_result"
    }
   ],
   "source": [
    "# Agrupando en función a la Escuela Profesional\n",
    "dfuni2017.groupby(\"Escuela\").EstadoEstudiante.value_counts()"
   ]
  },
  {
   "cell_type": "code",
   "execution_count": 17,
   "id": "a2324e1f-df7e-455b-9f52-65e947607b45",
   "metadata": {},
   "outputs": [],
   "source": [
    "# OBS -> Verificar con el sistema de la U si existen desertores (código 2017-1 y 2017-2) en Agroindustria, Ambiental y Minas "
   ]
  },
  {
   "cell_type": "code",
   "execution_count": 18,
   "id": "511aa4c4-fce6-423d-860d-01ba3a7a731e",
   "metadata": {},
   "outputs": [
    {
     "data": {
      "text/plain": [
       "Sexo  EstadoEstudiante\n",
       "Fema  0                   41\n",
       "      1                   25\n",
       "Male  1                   51\n",
       "      0                   40\n",
       "Name: EstadoEstudiante, dtype: int64"
      ]
     },
     "execution_count": 18,
     "metadata": {},
     "output_type": "execute_result"
    }
   ],
   "source": [
    "# Agrupando en función al sexo del estudiante\n",
    "dfuni2017.groupby(\"Sexo\").EstadoEstudiante.value_counts()"
   ]
  },
  {
   "cell_type": "code",
   "execution_count": 19,
   "id": "84d45b34-2d08-45cf-97ae-343667a13389",
   "metadata": {},
   "outputs": [
    {
     "data": {
      "text/plain": [
       "Escuela          Sexo  EstadoEstudiante\n",
       "GPDS             Fema  0                   15\n",
       "                       1                    3\n",
       "                 Male  0                    8\n",
       "                       1                    3\n",
       "IAgroindustrial  Fema  1                    9\n",
       "                       0                    6\n",
       "                 Male  0                    7\n",
       "                       1                    7\n",
       "IAmbiental       Fema  0                   10\n",
       "                       1                    1\n",
       "                 Male  1                    8\n",
       "                       0                    5\n",
       "IInformatica     Fema  1                    6\n",
       "                       0                    4\n",
       "                 Male  1                   14\n",
       "                       0                    6\n",
       "IMinas           Fema  1                    3\n",
       "                       0                    1\n",
       "                 Male  1                   14\n",
       "                       0                   12\n",
       "IPesquera        Fema  0                    5\n",
       "                       1                    3\n",
       "                 Male  1                    5\n",
       "                       0                    2\n",
       "Name: EstadoEstudiante, dtype: int64"
      ]
     },
     "execution_count": 19,
     "metadata": {},
     "output_type": "execute_result"
    }
   ],
   "source": [
    "# Agrupamos en funcion a dos variables\n",
    "dfuni2017.groupby(['Escuela','Sexo']).EstadoEstudiante.value_counts()"
   ]
  },
  {
   "cell_type": "code",
   "execution_count": 20,
   "id": "87358ffd-4547-48eb-83d3-6abd0b8c2d36",
   "metadata": {
    "tags": []
   },
   "outputs": [],
   "source": [
    "# OBS: HAsta aqui hemos conseguido cambiar el tipo de datos, ahora debemos aplicr topot en la sección XXX"
   ]
  },
  {
   "cell_type": "markdown",
   "id": "0fb9ca2d-86a1-4a4f-b13f-68303a83c1fd",
   "metadata": {
    "tags": []
   },
   "source": [
    "### Data Munging (Recogida de datos)"
   ]
  },
  {
   "cell_type": "code",
   "execution_count": 21,
   "id": "e93a8d46-da3d-4eb4-8313-0b262c7ca6a7",
   "metadata": {},
   "outputs": [],
   "source": [
    "\n",
    "# El primer y más importante paso en el uso de TPOT en cualquier conjunto de datos es cambiar el nombre de la \n",
    "# clase de destino (variable de respuesta a la clase)."
   ]
  },
  {
   "cell_type": "code",
   "execution_count": 22,
   "id": "67a1d13c-265b-4238-bfe5-49c3629018f9",
   "metadata": {
    "tags": []
   },
   "outputs": [],
   "source": [
    "\n",
    "dfuni2017.rename(columns={'EstadoEstudiante': 'class'}, inplace=True)"
   ]
  },
  {
   "cell_type": "code",
   "execution_count": 23,
   "id": "ef6022e1-6daa-4c3b-93c0-cd08b568edd6",
   "metadata": {},
   "outputs": [],
   "source": [
    "# Actualmente, TPOT requiere que todos los datos estén en formato numérico. Como podemos ver a continuación, \n",
    "# nuestro conjunto de datos tiene 10 variables categóricas que contienen valores no numéricos: CodEst, Cole, \n",
    "# ModaIngreso, Facu, PlanEst, SemEnCurso, SemPerma, Sexo, EstCivil, SemIngreso, Filial, ControlCV, CicloAsig,\n",
    "# CodAsig y CursaCV"
   ]
  },
  {
   "cell_type": "code",
   "execution_count": 24,
   "id": "975eb44e-a07a-46b5-a325-db29b2bee209",
   "metadata": {
    "tags": []
   },
   "outputs": [
    {
     "data": {
      "text/plain": [
       "Cod_Estudiante          category\n",
       "TipoCole                category\n",
       "ModalidadIngreso        category\n",
       "Escuela                 category\n",
       "Facultad                category\n",
       "                          ...   \n",
       "Cod_AsignaturaIS-924       int64\n",
       "Cod_AsignaturaIS-925       int64\n",
       "Cod_AsignaturaIS-926       int64\n",
       "Cod_AsignaturaIS-927       int64\n",
       "Cod_AsignaturaIS-928       int64\n",
       "Length: 352, dtype: object"
      ]
     },
     "execution_count": 24,
     "metadata": {},
     "output_type": "execute_result"
    }
   ],
   "source": [
    "dfuni2017.dtypes"
   ]
  },
  {
   "cell_type": "code",
   "execution_count": 25,
   "id": "4f9d9829-8749-4756-81f5-d9f22bf4df99",
   "metadata": {},
   "outputs": [],
   "source": [
    "# A continuación, comprobamos el número de niveles que tiene cada una de las 10 variables categóricas."
   ]
  },
  {
   "cell_type": "code",
   "execution_count": 26,
   "id": "2ea60e7f-95bd-4e4d-8cd5-b52598dcd1c0",
   "metadata": {
    "tags": []
   },
   "outputs": [
    {
     "name": "stdout",
     "output_type": "stream",
     "text": [
      "Número de niveles de la categoría 'TipoCole': 2.00 \n",
      "Número de niveles de la categoría 'ModalidadIngreso': 4.00 \n",
      "Número de niveles de la categoría 'Facultad': 2.00 \n",
      "Número de niveles de la categoría 'Escuela': 6.00 \n",
      "Número de niveles de la categoría 'PlanEstudio': 1.00 \n",
      "Número de niveles de la categoría 'Sexo': 2.00 \n",
      "Número de niveles de la categoría 'EstCivil': 2.00 \n",
      "Número de niveles de la categoría 'SemestreIngreso': 1.00 \n",
      "Número de niveles de la categoría 'Filial': 3.00 \n",
      "Número de niveles de la categoría 'CursaCV': 2.00 \n"
     ]
    }
   ],
   "source": [
    "for cat in ['TipoCole', 'ModalidadIngreso', 'Facultad','Escuela','PlanEstudio',  'Sexo', 'EstCivil', 'SemestreIngreso', 'Filial',  'CursaCV']:\n",
    "    print(\"Número de niveles de la categoría '{0}': \\b {1:2.2f} \".format(cat, dfuni2017[cat].unique().size))"
   ]
  },
  {
   "cell_type": "code",
   "execution_count": 27,
   "id": "10d34527-58a8-4e7b-8588-6a927319f4b7",
   "metadata": {
    "tags": []
   },
   "outputs": [],
   "source": [
    "# ANALIZANDO QUE VARIABLES PUEDEN SER ELIMINADAS\n",
    "# SemestreIngreso - > Contiene una sola categoria.\n",
    "\n",
    "# Observación: Se recomienda eliminar los 3 variables, porque para este caso especifico, representa una cosntante:\n",
    "# SemestreIngreso = 2017\n",
    "# PlanEstudio = 2016"
   ]
  },
  {
   "cell_type": "code",
   "execution_count": 28,
   "id": "1645048d-21b5-4321-b3c8-4abeb43113ed",
   "metadata": {
    "tags": []
   },
   "outputs": [
    {
     "data": {
      "text/plain": [
       "Cod_Estudiante              category\n",
       "TipoCole                    category\n",
       "ModalidadIngreso            category\n",
       "Escuela                     category\n",
       "Facultad                    category\n",
       "PlanEstudio                 category\n",
       "UltimoPromSemestre             int64\n",
       "RepeticionAsigAcumuladas       int64\n",
       "ReingresoOtraEscuela           int64\n",
       "Sexo                        category\n",
       "EstCivil                    category\n",
       "SemestreIngreso             category\n",
       "class                          int32\n",
       "Filial                      category\n",
       "Cod_Asignatura                object\n",
       "CursaCV                     category\n",
       "NumSemCV                       int64\n",
       "NumSemReg                      int64\n",
       "PromEgresoSalida               int64\n",
       "Cod_AsignaturaCIAI1008         int64\n",
       "dtype: object"
      ]
     },
     "execution_count": 28,
     "metadata": {},
     "output_type": "execute_result"
    }
   ],
   "source": [
    "# Tipo de datos de las 20 primeras columnas\n",
    "columnas_primeras = dfuni2017.columns[:20]\n",
    "tipos_datos = dfuni2017[columnas_primeras].dtypes\n",
    "tipos_datos"
   ]
  },
  {
   "cell_type": "code",
   "execution_count": 29,
   "id": "19fe14cf-e22c-46ee-b2f4-d28bd20c2cec",
   "metadata": {
    "tags": []
   },
   "outputs": [],
   "source": [
    "# Eliminamos campos\n",
    "dfuni2017.drop(['Cod_Asignatura','PlanEstudio',\"SemestreIngreso\"],axis=1,inplace=True)"
   ]
  },
  {
   "cell_type": "code",
   "execution_count": 30,
   "id": "30a6165c-5ddc-4665-b014-c3a6fdf32305",
   "metadata": {
    "tags": []
   },
   "outputs": [
    {
     "data": {
      "text/html": [
       "<div>\n",
       "<style scoped>\n",
       "    .dataframe tbody tr th:only-of-type {\n",
       "        vertical-align: middle;\n",
       "    }\n",
       "\n",
       "    .dataframe tbody tr th {\n",
       "        vertical-align: top;\n",
       "    }\n",
       "\n",
       "    .dataframe thead th {\n",
       "        text-align: right;\n",
       "    }\n",
       "</style>\n",
       "<table border=\"1\" class=\"dataframe\">\n",
       "  <thead>\n",
       "    <tr style=\"text-align: right;\">\n",
       "      <th></th>\n",
       "      <th>Cod_Estudiante</th>\n",
       "      <th>TipoCole</th>\n",
       "      <th>ModalidadIngreso</th>\n",
       "      <th>Escuela</th>\n",
       "      <th>Facultad</th>\n",
       "      <th>UltimoPromSemestre</th>\n",
       "      <th>RepeticionAsigAcumuladas</th>\n",
       "      <th>ReingresoOtraEscuela</th>\n",
       "      <th>Sexo</th>\n",
       "      <th>EstCivil</th>\n",
       "      <th>...</th>\n",
       "      <th>Cod_AsignaturaIS-826</th>\n",
       "      <th>Cod_AsignaturaIS-827</th>\n",
       "      <th>Cod_AsignaturaIS-921</th>\n",
       "      <th>Cod_AsignaturaIS-922</th>\n",
       "      <th>Cod_AsignaturaIS-923</th>\n",
       "      <th>Cod_AsignaturaIS-924</th>\n",
       "      <th>Cod_AsignaturaIS-925</th>\n",
       "      <th>Cod_AsignaturaIS-926</th>\n",
       "      <th>Cod_AsignaturaIS-927</th>\n",
       "      <th>Cod_AsignaturaIS-928</th>\n",
       "    </tr>\n",
       "  </thead>\n",
       "  <tbody>\n",
       "    <tr>\n",
       "      <th>0</th>\n",
       "      <td>2017652773</td>\n",
       "      <td>Publico</td>\n",
       "      <td>OrdinarioGeneral</td>\n",
       "      <td>IAgroindustrial</td>\n",
       "      <td>Ingenieria</td>\n",
       "      <td>7</td>\n",
       "      <td>3</td>\n",
       "      <td>0</td>\n",
       "      <td>Male</td>\n",
       "      <td>Soltero</td>\n",
       "      <td>...</td>\n",
       "      <td>0</td>\n",
       "      <td>0</td>\n",
       "      <td>0</td>\n",
       "      <td>0</td>\n",
       "      <td>0</td>\n",
       "      <td>0</td>\n",
       "      <td>0</td>\n",
       "      <td>0</td>\n",
       "      <td>0</td>\n",
       "      <td>0</td>\n",
       "    </tr>\n",
       "    <tr>\n",
       "      <th>1</th>\n",
       "      <td>2017853766</td>\n",
       "      <td>Publico</td>\n",
       "      <td>OrdinarioGeneral</td>\n",
       "      <td>IMinas</td>\n",
       "      <td>Ingenieria</td>\n",
       "      <td>6</td>\n",
       "      <td>5</td>\n",
       "      <td>0</td>\n",
       "      <td>Fema</td>\n",
       "      <td>Soltero</td>\n",
       "      <td>...</td>\n",
       "      <td>0</td>\n",
       "      <td>0</td>\n",
       "      <td>0</td>\n",
       "      <td>0</td>\n",
       "      <td>0</td>\n",
       "      <td>0</td>\n",
       "      <td>0</td>\n",
       "      <td>0</td>\n",
       "      <td>0</td>\n",
       "      <td>0</td>\n",
       "    </tr>\n",
       "    <tr>\n",
       "      <th>2</th>\n",
       "      <td>2017754770</td>\n",
       "      <td>Publico</td>\n",
       "      <td>OrdinarioGeneral</td>\n",
       "      <td>IInformatica</td>\n",
       "      <td>Ingenieria</td>\n",
       "      <td>2</td>\n",
       "      <td>0</td>\n",
       "      <td>0</td>\n",
       "      <td>Male</td>\n",
       "      <td>Soltero</td>\n",
       "      <td>...</td>\n",
       "      <td>0</td>\n",
       "      <td>0</td>\n",
       "      <td>0</td>\n",
       "      <td>0</td>\n",
       "      <td>0</td>\n",
       "      <td>0</td>\n",
       "      <td>0</td>\n",
       "      <td>0</td>\n",
       "      <td>0</td>\n",
       "      <td>0</td>\n",
       "    </tr>\n",
       "    <tr>\n",
       "      <th>3</th>\n",
       "      <td>2017754768</td>\n",
       "      <td>Publico</td>\n",
       "      <td>OrdinarioGeneral</td>\n",
       "      <td>IInformatica</td>\n",
       "      <td>Ingenieria</td>\n",
       "      <td>5</td>\n",
       "      <td>0</td>\n",
       "      <td>0</td>\n",
       "      <td>Fema</td>\n",
       "      <td>Soltero</td>\n",
       "      <td>...</td>\n",
       "      <td>0</td>\n",
       "      <td>0</td>\n",
       "      <td>0</td>\n",
       "      <td>0</td>\n",
       "      <td>0</td>\n",
       "      <td>0</td>\n",
       "      <td>0</td>\n",
       "      <td>0</td>\n",
       "      <td>0</td>\n",
       "      <td>0</td>\n",
       "    </tr>\n",
       "    <tr>\n",
       "      <th>4</th>\n",
       "      <td>2017652782</td>\n",
       "      <td>Publico</td>\n",
       "      <td>1erosPuestosColegios</td>\n",
       "      <td>IAgroindustrial</td>\n",
       "      <td>Ingenieria</td>\n",
       "      <td>10</td>\n",
       "      <td>2</td>\n",
       "      <td>0</td>\n",
       "      <td>Fema</td>\n",
       "      <td>Soltero</td>\n",
       "      <td>...</td>\n",
       "      <td>0</td>\n",
       "      <td>0</td>\n",
       "      <td>0</td>\n",
       "      <td>0</td>\n",
       "      <td>0</td>\n",
       "      <td>0</td>\n",
       "      <td>0</td>\n",
       "      <td>0</td>\n",
       "      <td>0</td>\n",
       "      <td>0</td>\n",
       "    </tr>\n",
       "    <tr>\n",
       "      <th>...</th>\n",
       "      <td>...</td>\n",
       "      <td>...</td>\n",
       "      <td>...</td>\n",
       "      <td>...</td>\n",
       "      <td>...</td>\n",
       "      <td>...</td>\n",
       "      <td>...</td>\n",
       "      <td>...</td>\n",
       "      <td>...</td>\n",
       "      <td>...</td>\n",
       "      <td>...</td>\n",
       "      <td>...</td>\n",
       "      <td>...</td>\n",
       "      <td>...</td>\n",
       "      <td>...</td>\n",
       "      <td>...</td>\n",
       "      <td>...</td>\n",
       "      <td>...</td>\n",
       "      <td>...</td>\n",
       "      <td>...</td>\n",
       "      <td>...</td>\n",
       "    </tr>\n",
       "    <tr>\n",
       "      <th>152</th>\n",
       "      <td>2017853756</td>\n",
       "      <td>Publico</td>\n",
       "      <td>OrdinarioGeneral</td>\n",
       "      <td>IMinas</td>\n",
       "      <td>Ingenieria</td>\n",
       "      <td>1</td>\n",
       "      <td>0</td>\n",
       "      <td>0</td>\n",
       "      <td>Male</td>\n",
       "      <td>Soltero</td>\n",
       "      <td>...</td>\n",
       "      <td>0</td>\n",
       "      <td>0</td>\n",
       "      <td>0</td>\n",
       "      <td>0</td>\n",
       "      <td>0</td>\n",
       "      <td>0</td>\n",
       "      <td>0</td>\n",
       "      <td>0</td>\n",
       "      <td>0</td>\n",
       "      <td>0</td>\n",
       "    </tr>\n",
       "    <tr>\n",
       "      <th>153</th>\n",
       "      <td>2017651768</td>\n",
       "      <td>Publico</td>\n",
       "      <td>OrdinarioGeneral</td>\n",
       "      <td>GPDS</td>\n",
       "      <td>Letras</td>\n",
       "      <td>17</td>\n",
       "      <td>0</td>\n",
       "      <td>0</td>\n",
       "      <td>Fema</td>\n",
       "      <td>Soltero</td>\n",
       "      <td>...</td>\n",
       "      <td>0</td>\n",
       "      <td>0</td>\n",
       "      <td>0</td>\n",
       "      <td>0</td>\n",
       "      <td>0</td>\n",
       "      <td>0</td>\n",
       "      <td>0</td>\n",
       "      <td>0</td>\n",
       "      <td>0</td>\n",
       "      <td>0</td>\n",
       "    </tr>\n",
       "    <tr>\n",
       "      <th>154</th>\n",
       "      <td>2017653778</td>\n",
       "      <td>Publico</td>\n",
       "      <td>OrdinarioGeneral</td>\n",
       "      <td>IMinas</td>\n",
       "      <td>Ingenieria</td>\n",
       "      <td>2</td>\n",
       "      <td>6</td>\n",
       "      <td>1</td>\n",
       "      <td>Fema</td>\n",
       "      <td>Soltero</td>\n",
       "      <td>...</td>\n",
       "      <td>0</td>\n",
       "      <td>0</td>\n",
       "      <td>0</td>\n",
       "      <td>0</td>\n",
       "      <td>0</td>\n",
       "      <td>0</td>\n",
       "      <td>0</td>\n",
       "      <td>0</td>\n",
       "      <td>0</td>\n",
       "      <td>0</td>\n",
       "    </tr>\n",
       "    <tr>\n",
       "      <th>155</th>\n",
       "      <td>2017755780</td>\n",
       "      <td>Privado</td>\n",
       "      <td>OrdinarioGeneral</td>\n",
       "      <td>IAmbiental</td>\n",
       "      <td>Ingenieria</td>\n",
       "      <td>5</td>\n",
       "      <td>4</td>\n",
       "      <td>0</td>\n",
       "      <td>Male</td>\n",
       "      <td>Soltero</td>\n",
       "      <td>...</td>\n",
       "      <td>0</td>\n",
       "      <td>0</td>\n",
       "      <td>0</td>\n",
       "      <td>0</td>\n",
       "      <td>0</td>\n",
       "      <td>0</td>\n",
       "      <td>0</td>\n",
       "      <td>0</td>\n",
       "      <td>0</td>\n",
       "      <td>0</td>\n",
       "    </tr>\n",
       "    <tr>\n",
       "      <th>156</th>\n",
       "      <td>2017653796</td>\n",
       "      <td>Publico</td>\n",
       "      <td>CEPRE</td>\n",
       "      <td>IMinas</td>\n",
       "      <td>Ingenieria</td>\n",
       "      <td>6</td>\n",
       "      <td>19</td>\n",
       "      <td>1</td>\n",
       "      <td>Male</td>\n",
       "      <td>Soltero</td>\n",
       "      <td>...</td>\n",
       "      <td>0</td>\n",
       "      <td>0</td>\n",
       "      <td>0</td>\n",
       "      <td>0</td>\n",
       "      <td>0</td>\n",
       "      <td>0</td>\n",
       "      <td>0</td>\n",
       "      <td>0</td>\n",
       "      <td>0</td>\n",
       "      <td>0</td>\n",
       "    </tr>\n",
       "  </tbody>\n",
       "</table>\n",
       "<p>157 rows × 349 columns</p>\n",
       "</div>"
      ],
      "text/plain": [
       "    Cod_Estudiante TipoCole      ModalidadIngreso          Escuela  \\\n",
       "0       2017652773  Publico      OrdinarioGeneral  IAgroindustrial   \n",
       "1       2017853766  Publico      OrdinarioGeneral           IMinas   \n",
       "2       2017754770  Publico      OrdinarioGeneral     IInformatica   \n",
       "3       2017754768  Publico      OrdinarioGeneral     IInformatica   \n",
       "4       2017652782  Publico  1erosPuestosColegios  IAgroindustrial   \n",
       "..             ...      ...                   ...              ...   \n",
       "152     2017853756  Publico      OrdinarioGeneral           IMinas   \n",
       "153     2017651768  Publico      OrdinarioGeneral             GPDS   \n",
       "154     2017653778  Publico      OrdinarioGeneral           IMinas   \n",
       "155     2017755780  Privado      OrdinarioGeneral       IAmbiental   \n",
       "156     2017653796  Publico                 CEPRE           IMinas   \n",
       "\n",
       "       Facultad  UltimoPromSemestre  RepeticionAsigAcumuladas  \\\n",
       "0    Ingenieria                   7                         3   \n",
       "1    Ingenieria                   6                         5   \n",
       "2    Ingenieria                   2                         0   \n",
       "3    Ingenieria                   5                         0   \n",
       "4    Ingenieria                  10                         2   \n",
       "..          ...                 ...                       ...   \n",
       "152  Ingenieria                   1                         0   \n",
       "153      Letras                  17                         0   \n",
       "154  Ingenieria                   2                         6   \n",
       "155  Ingenieria                   5                         4   \n",
       "156  Ingenieria                   6                        19   \n",
       "\n",
       "     ReingresoOtraEscuela  Sexo EstCivil  ...  Cod_AsignaturaIS-826  \\\n",
       "0                       0  Male  Soltero  ...                     0   \n",
       "1                       0  Fema  Soltero  ...                     0   \n",
       "2                       0  Male  Soltero  ...                     0   \n",
       "3                       0  Fema  Soltero  ...                     0   \n",
       "4                       0  Fema  Soltero  ...                     0   \n",
       "..                    ...   ...      ...  ...                   ...   \n",
       "152                     0  Male  Soltero  ...                     0   \n",
       "153                     0  Fema  Soltero  ...                     0   \n",
       "154                     1  Fema  Soltero  ...                     0   \n",
       "155                     0  Male  Soltero  ...                     0   \n",
       "156                     1  Male  Soltero  ...                     0   \n",
       "\n",
       "    Cod_AsignaturaIS-827 Cod_AsignaturaIS-921  Cod_AsignaturaIS-922  \\\n",
       "0                      0                    0                     0   \n",
       "1                      0                    0                     0   \n",
       "2                      0                    0                     0   \n",
       "3                      0                    0                     0   \n",
       "4                      0                    0                     0   \n",
       "..                   ...                  ...                   ...   \n",
       "152                    0                    0                     0   \n",
       "153                    0                    0                     0   \n",
       "154                    0                    0                     0   \n",
       "155                    0                    0                     0   \n",
       "156                    0                    0                     0   \n",
       "\n",
       "     Cod_AsignaturaIS-923  Cod_AsignaturaIS-924  Cod_AsignaturaIS-925  \\\n",
       "0                       0                     0                     0   \n",
       "1                       0                     0                     0   \n",
       "2                       0                     0                     0   \n",
       "3                       0                     0                     0   \n",
       "4                       0                     0                     0   \n",
       "..                    ...                   ...                   ...   \n",
       "152                     0                     0                     0   \n",
       "153                     0                     0                     0   \n",
       "154                     0                     0                     0   \n",
       "155                     0                     0                     0   \n",
       "156                     0                     0                     0   \n",
       "\n",
       "     Cod_AsignaturaIS-926  Cod_AsignaturaIS-927  Cod_AsignaturaIS-928  \n",
       "0                       0                     0                     0  \n",
       "1                       0                     0                     0  \n",
       "2                       0                     0                     0  \n",
       "3                       0                     0                     0  \n",
       "4                       0                     0                     0  \n",
       "..                    ...                   ...                   ...  \n",
       "152                     0                     0                     0  \n",
       "153                     0                     0                     0  \n",
       "154                     0                     0                     0  \n",
       "155                     0                     0                     0  \n",
       "156                     0                     0                     0  \n",
       "\n",
       "[157 rows x 349 columns]"
      ]
     },
     "execution_count": 30,
     "metadata": {},
     "output_type": "execute_result"
    }
   ],
   "source": [
    "dfuni2017"
   ]
  },
  {
   "cell_type": "code",
   "execution_count": null,
   "id": "6db66f3f-c63c-47ed-a9ad-abf33b700d46",
   "metadata": {
    "tags": []
   },
   "outputs": [],
   "source": []
  },
  {
   "cell_type": "code",
   "execution_count": 31,
   "id": "eae2139c-2bc6-435d-aae0-c36e699034f0",
   "metadata": {
    "tags": []
   },
   "outputs": [
    {
     "name": "stdout",
     "output_type": "stream",
     "text": [
      "Niveles de categoria 'TipoCole': ['Publico', 'Privado']\n",
      "Categories (2, object): ['Privado', 'Publico']\n",
      "Niveles de categoria 'ModalidadIngreso': ['OrdinarioGeneral', '1erosPuestosColegios', 'CEPRE', 'TituladosGraduadosUniversitarios']\n",
      "Categories (4, object): ['1erosPuestosColegios', 'CEPRE', 'OrdinarioGeneral', 'TituladosGraduadosUniversitarios']\n",
      "Niveles de categoria 'Facultad': ['Ingenieria', 'Letras']\n",
      "Categories (2, object): ['Ingenieria', 'Letras']\n",
      "Niveles de categoria 'Escuela': ['IAgroindustrial', 'IMinas', 'IInformatica', 'IAmbiental', 'GPDS', 'IPesquera']\n",
      "Categories (6, object): ['GPDS', 'IAgroindustrial', 'IAmbiental', 'IInformatica', 'IMinas', 'IPesquera']\n",
      "Niveles de categoria 'Sexo': ['Male', 'Fema']\n",
      "Categories (2, object): ['Fema', 'Male']\n",
      "Niveles de categoria 'EstCivil': ['Soltero', 'Conviviente']\n",
      "Categories (2, object): ['Conviviente', 'Soltero']\n",
      "Niveles de categoria 'Filial': ['M', 'Ich', 'I']\n",
      "Categories (3, object): ['I', 'Ich', 'M']\n",
      "Niveles de categoria 'CursaCV': ['T', 'F']\n",
      "Categories (2, object): ['F', 'T']\n"
     ]
    }
   ],
   "source": [
    "# PAra conocer las categorías\n",
    "for cat in ['TipoCole', 'ModalidadIngreso', 'Facultad', 'Escuela', 'Sexo', 'EstCivil',  'Filial',  'CursaCV']:\n",
    "    print(\"Niveles de categoria '{0}': {1}\".format(cat, dfuni2017[cat].unique()))"
   ]
  },
  {
   "cell_type": "code",
   "execution_count": 32,
   "id": "29a67e24-450c-41a4-b895-0eac93d07974",
   "metadata": {},
   "outputs": [],
   "source": [
    "# En las siguientes lineas se estaria configurando las categoriasa  numerico pero de forma manual"
   ]
  },
  {
   "cell_type": "code",
   "execution_count": 33,
   "id": "2ddf2ab7-861f-44b4-9fc7-ff924da4977f",
   "metadata": {},
   "outputs": [],
   "source": [
    "# Llevar las categprías a formatos numéricos\n",
    "dfuni2017['TipoCole'] = dfuni2017['TipoCole'].map({'Publico':0,'Privado':1})\n",
    "dfuni2017['ModalidadIngreso'] = dfuni2017['ModalidadIngreso'].map({'OrdinarioGeneral':0,'1erosPuestosColegios':1,'CEPRE':2, 'Discapacidad':3, 'TituladosGraduadosUniversitarios':4})\n",
    "dfuni2017['Facultad'] = dfuni2017['Facultad'].map({'Letras':0,'Ingenieria':1})\n",
    "dfuni2017['Escuela'] = dfuni2017['Escuela'].map({'GPDS':0, 'IAgroindustrial':1, 'IAmbiental':2, 'IInformatica':3, 'IMinas':4, 'IPesquera':5})\n",
    "dfuni2017['Sexo'] = dfuni2017['Sexo'].map({'Male':0,'Fema':1})\n",
    "dfuni2017['EstCivil'] = dfuni2017['EstCivil'].map({'Soltero':0, 'Casado':1,'Divorciado':2,'Conviviente':3})\n",
    "# dfuni2017['SemIngreso'] = dfuni2017['SemIngreso'].map({20171:0,20172:1})\n",
    "dfuni2017['Filial'] = dfuni2017['Filial'].map({'M':0,'I':1,'Ich':1})\n",
    "# dfuni2017['ControlCV'] = dfuni2017['ControlCV'].map({20171:0,20172:1,20181:2,20182:3,20191:4,20192:5,20201:6,20202:7,20211:8,20212:9,20180:10,20190:11,20200:12,20210:13,20203:14})\n",
    "# dfuni2017['CicloAsig'] = dfuni2017['CicloAsig'].map({'I':0,'II':1,'III':2,'IV':3,'V':4,'VI':5,'VII':6,'VIII':7,'IX':8,'X':9})\n",
    "dfuni2017['CursaCV'] = dfuni2017['CursaCV'].map({'F':0,'T':1})\n",
    "# Falta codificar las asignaturas asignadas.\n",
    "                                                           "
   ]
  },
  {
   "cell_type": "code",
   "execution_count": 34,
   "id": "bc63e8f2-a669-48eb-bd5d-c2497a4d9ae7",
   "metadata": {
    "tags": []
   },
   "outputs": [
    {
     "name": "stdout",
     "output_type": "stream",
     "text": [
      "Niveles de categoria 'TipoCole': [0, 1]\n",
      "Categories (2, int64): [1, 0]\n",
      "Niveles de categoria 'ModalidadIngreso': [0, 1, 2, 4]\n",
      "Categories (4, int64): [1, 2, 0, 4]\n",
      "Niveles de categoria 'Facultad': [1, 0]\n",
      "Categories (2, int64): [1, 0]\n",
      "Niveles de categoria 'Escuela': [1, 4, 3, 2, 0, 5]\n",
      "Categories (6, int64): [0, 1, 2, 3, 4, 5]\n",
      "Niveles de categoria 'Sexo': [0, 1]\n",
      "Categories (2, int64): [1, 0]\n",
      "Niveles de categoria 'EstCivil': [0, 3]\n",
      "Categories (2, int64): [3, 0]\n",
      "Niveles de categoria 'Filial': [0 1]\n",
      "Niveles de categoria 'CursaCV': [1, 0]\n",
      "Categories (2, int64): [0, 1]\n"
     ]
    }
   ],
   "source": [
    "# Volver a verificar las categorías\n",
    "for cat in ['TipoCole', 'ModalidadIngreso', 'Facultad', 'Escuela','Sexo', 'EstCivil',  'Filial',  'CursaCV']:\n",
    "    print(\"Niveles de categoria '{0}': {1}\".format(cat, dfuni2017[cat].unique()))"
   ]
  },
  {
   "cell_type": "code",
   "execution_count": 35,
   "id": "87838a1c-a629-4a63-9285-d9b23928bae5",
   "metadata": {
    "tags": []
   },
   "outputs": [],
   "source": [
    "# Transformar los códigos de las asignaturas a un valor numérico # Esta fue la 1era opción, pero luego se aplico Scikit-learn.\n",
    "# Codificar las asignaturas en una nueva columna llamada 'CodAsig_Cod'\n",
    "# dfunam2017['CodAsig_Cod'] = pd.factorize(dfunam2017['CodAsig'])[0]\n",
    "# dfunam2017"
   ]
  },
  {
   "cell_type": "code",
   "execution_count": 36,
   "id": "54022cf5-3d43-4173-b2cc-72aa8eab4628",
   "metadata": {
    "tags": []
   },
   "outputs": [],
   "source": [
    "# Visualizamos un registro específico de COdAsig para verificar los cambios.\n",
    "# consulta=dfunam2017[dfunam2017.CodAsig==\"CIAI808\"]\n",
    "# consulta.head(505)"
   ]
  },
  {
   "cell_type": "code",
   "execution_count": 37,
   "id": "02797d39-dfc6-45e1-b465-3ad26519d739",
   "metadata": {
    "tags": []
   },
   "outputs": [],
   "source": [
    "# Eliminar la columna CodAsig\n",
    "# dfunam2017.drop(\"CodAsig\",axis=1,inplace=True)\n"
   ]
  },
  {
   "cell_type": "code",
   "execution_count": 38,
   "id": "24fcf04a-fc70-40a5-be06-22a49912272d",
   "metadata": {
    "tags": []
   },
   "outputs": [
    {
     "data": {
      "text/plain": [
       "Cod_Estudiante          category\n",
       "TipoCole                category\n",
       "ModalidadIngreso        category\n",
       "Escuela                 category\n",
       "Facultad                category\n",
       "                          ...   \n",
       "Cod_AsignaturaIS-924       int64\n",
       "Cod_AsignaturaIS-925       int64\n",
       "Cod_AsignaturaIS-926       int64\n",
       "Cod_AsignaturaIS-927       int64\n",
       "Cod_AsignaturaIS-928       int64\n",
       "Length: 349, dtype: object"
      ]
     },
     "execution_count": 38,
     "metadata": {},
     "output_type": "execute_result"
    }
   ],
   "source": [
    "# Verificamos tipos de datos\n",
    "dfuni2017.dtypes"
   ]
  },
  {
   "cell_type": "code",
   "execution_count": 39,
   "id": "02961189-1227-445a-8f17-0a795248209b",
   "metadata": {
    "tags": []
   },
   "outputs": [],
   "source": [
    "# Renombrar CodAsig_Cod como CodAsig\n",
    "# dfuni2017.rename(columns={'CodAsig_Cod':'CodAsig'},\n",
    "#               inplace=True)"
   ]
  },
  {
   "cell_type": "code",
   "execution_count": 40,
   "id": "a2c75232-3cf2-4d14-b559-41f0cd8fbc3b",
   "metadata": {
    "tags": []
   },
   "outputs": [
    {
     "data": {
      "text/plain": [
       "Cod_Estudiante          category\n",
       "TipoCole                   int32\n",
       "ModalidadIngreso           int32\n",
       "Escuela                    int32\n",
       "Facultad                   int32\n",
       "                          ...   \n",
       "Cod_AsignaturaIS-924       int64\n",
       "Cod_AsignaturaIS-925       int64\n",
       "Cod_AsignaturaIS-926       int64\n",
       "Cod_AsignaturaIS-927       int64\n",
       "Cod_AsignaturaIS-928       int64\n",
       "Length: 349, dtype: object"
      ]
     },
     "execution_count": 40,
     "metadata": {},
     "output_type": "execute_result"
    }
   ],
   "source": [
    "# Cambiar tipo de dato\n",
    "dfuni2017['TipoCole']=dfuni2017['TipoCole'].astype(\"int\")\n",
    "dfuni2017['ModalidadIngreso']=dfuni2017['ModalidadIngreso'].astype(\"int\")\n",
    "dfuni2017['Facultad']=dfuni2017['Facultad'].astype(\"int\")\n",
    "dfuni2017['Escuela']=dfuni2017['Escuela'].astype(\"int\")\n",
    "dfuni2017['Sexo']=dfuni2017['Sexo'].astype(\"int\")\n",
    "dfuni2017['EstCivil']=dfuni2017['EstCivil'].astype(\"int\")\n",
    "dfuni2017['Filial']=dfuni2017['Filial'].astype(\"int\")\n",
    "# dfuni2017['SemIngreso']=dfuni2017['SemIngreso'].astype(\"int\")\n",
    "# dfuni2017['ControlCV']=dfuni2017['ControlCV'].astype(\"int\")\n",
    "# dfuni2017['CicloAsig']=dfuni2017['CicloAsig'].astype(\"int\")\n",
    "# dfuni2017['CodAsig']=dfuni2017['CodAsig'].astype(\"int\")\n",
    "\n",
    "dfuni2017['CursaCV']=dfuni2017['CursaCV'].astype(\"int\")\n",
    "dfuni2017.dtypes"
   ]
  },
  {
   "cell_type": "code",
   "execution_count": 41,
   "id": "7718997f-051c-4987-82dd-a3a6ad9725d3",
   "metadata": {
    "tags": []
   },
   "outputs": [
    {
     "data": {
      "text/plain": [
       "Cod_Estudiante              category\n",
       "TipoCole                       int32\n",
       "ModalidadIngreso               int32\n",
       "Escuela                        int32\n",
       "Facultad                       int32\n",
       "UltimoPromSemestre             int64\n",
       "RepeticionAsigAcumuladas       int64\n",
       "ReingresoOtraEscuela           int64\n",
       "Sexo                           int32\n",
       "EstCivil                       int32\n",
       "class                          int32\n",
       "Filial                         int32\n",
       "CursaCV                        int32\n",
       "NumSemCV                       int64\n",
       "NumSemReg                      int64\n",
       "PromEgresoSalida               int64\n",
       "Cod_AsignaturaCIAI1008         int64\n",
       "Cod_AsignaturaCIAI807          int64\n",
       "Cod_AsignaturaCIAI808          int64\n",
       "Cod_AsignaturaCIAI908          int64\n",
       "dtype: object"
      ]
     },
     "execution_count": 41,
     "metadata": {},
     "output_type": "execute_result"
    }
   ],
   "source": [
    "# Tipo de datos de las 20 primeras columnas\n",
    "columnas_primeras = dfuni2017.columns[:20]\n",
    "tipos_datos = dfuni2017[columnas_primeras].dtypes\n",
    "tipos_datos"
   ]
  },
  {
   "cell_type": "code",
   "execution_count": 42,
   "id": "d0e62691-4e23-45e2-92ae-f5d35f9dd067",
   "metadata": {
    "tags": []
   },
   "outputs": [
    {
     "data": {
      "text/plain": [
       "Cod_Estudiante          0\n",
       "TipoCole                0\n",
       "ModalidadIngreso        0\n",
       "Escuela                 0\n",
       "Facultad                0\n",
       "                       ..\n",
       "Cod_AsignaturaIS-924    0\n",
       "Cod_AsignaturaIS-925    0\n",
       "Cod_AsignaturaIS-926    0\n",
       "Cod_AsignaturaIS-927    0\n",
       "Cod_AsignaturaIS-928    0\n",
       "Length: 349, dtype: int64"
      ]
     },
     "execution_count": 42,
     "metadata": {},
     "output_type": "execute_result"
    }
   ],
   "source": [
    "# Verificando valores nulos\n",
    "dfuni2017.isnull().sum()"
   ]
  },
  {
   "cell_type": "code",
   "execution_count": null,
   "id": "98000ee1-2e30-49d3-b0bb-cbf93ef5fa0b",
   "metadata": {
    "tags": []
   },
   "outputs": [],
   "source": []
  },
  {
   "cell_type": "code",
   "execution_count": 43,
   "id": "dc0b39c7-5b0f-4de1-bb89-72268a02025d",
   "metadata": {
    "tags": []
   },
   "outputs": [
    {
     "data": {
      "text/plain": [
       "Cod_Estudiante              0\n",
       "TipoCole                    0\n",
       "ModalidadIngreso            0\n",
       "Escuela                     0\n",
       "Facultad                    0\n",
       "UltimoPromSemestre          0\n",
       "RepeticionAsigAcumuladas    0\n",
       "ReingresoOtraEscuela        0\n",
       "Sexo                        0\n",
       "EstCivil                    0\n",
       "class                       0\n",
       "Filial                      0\n",
       "CursaCV                     0\n",
       "NumSemCV                    0\n",
       "NumSemReg                   0\n",
       "PromEgresoSalida            0\n",
       "Cod_AsignaturaCIAI1008      0\n",
       "Cod_AsignaturaCIAI807       0\n",
       "Cod_AsignaturaCIAI808       0\n",
       "Cod_AsignaturaCIAI908       0\n",
       "dtype: int64"
      ]
     },
     "execution_count": 43,
     "metadata": {},
     "output_type": "execute_result"
    }
   ],
   "source": [
    "# NULOS de las primeras columnas\n",
    "columnas_primeras = dfuni2017.columns[:20]\n",
    "nulos_primeras_columnas = dfuni2017[columnas_primeras].isnull().sum()\n",
    "nulos_primeras_columnas"
   ]
  },
  {
   "cell_type": "code",
   "execution_count": 44,
   "id": "cbd55075-ca29-4320-b540-9617fc6ade76",
   "metadata": {
    "tags": []
   },
   "outputs": [
    {
     "data": {
      "text/plain": [
       "False"
      ]
     },
     "execution_count": 44,
     "metadata": {},
     "output_type": "execute_result"
    }
   ],
   "source": [
    "# Verificar si hay algun nulo en todo el dataframe\n",
    "hay_nulos = dfuni2017[columnas_primeras].isnull().any().any()\n",
    "hay_nulos"
   ]
  },
  {
   "cell_type": "code",
   "execution_count": 45,
   "id": "abbedc01-88d2-4b0a-a3c0-f7bb49905c7e",
   "metadata": {},
   "outputs": [],
   "source": [
    "# Se recomienda que las variables que presnetan varios niveles sean eliminados del análisis en aras de la simplicidad.\n",
    "# sin embargo, por ser la ESCUELA un elemento improtante  para la deserción, vamos a\n",
    "# intentar procesarlo."
   ]
  },
  {
   "cell_type": "code",
   "execution_count": 46,
   "id": "e472b600-9166-46ef-970b-f4011ec77584",
   "metadata": {},
   "outputs": [],
   "source": [
    "# Para _____________, codificamos los niveles como dígitos utilizando el MultiLabelBinarizer de Scikit-learn y los tratamos como \n",
    "# nuevas características.\n",
    "\n",
    "from sklearn.preprocessing import MultiLabelBinarizer\n",
    "mlb = MultiLabelBinarizer()\n",
    "EscuelaTrans = mlb.fit_transform([{str(val)} for val in dfuni2017['Escuela'].values])"
   ]
  },
  {
   "cell_type": "code",
   "execution_count": 47,
   "id": "4025cebc-0d01-4637-8922-b7fb5edf2c80",
   "metadata": {
    "tags": []
   },
   "outputs": [
    {
     "data": {
      "text/plain": [
       "array([[0, 1, 0, 0, 0, 0],\n",
       "       [0, 0, 0, 0, 1, 0],\n",
       "       [0, 0, 0, 1, 0, 0],\n",
       "       [0, 0, 0, 1, 0, 0],\n",
       "       [0, 1, 0, 0, 0, 0],\n",
       "       [0, 0, 0, 1, 0, 0],\n",
       "       [0, 0, 1, 0, 0, 0],\n",
       "       [0, 1, 0, 0, 0, 0],\n",
       "       [1, 0, 0, 0, 0, 0],\n",
       "       [1, 0, 0, 0, 0, 0],\n",
       "       [1, 0, 0, 0, 0, 0],\n",
       "       [1, 0, 0, 0, 0, 0],\n",
       "       [0, 1, 0, 0, 0, 0],\n",
       "       [0, 0, 0, 1, 0, 0],\n",
       "       [0, 0, 0, 0, 1, 0],\n",
       "       [0, 0, 0, 1, 0, 0],\n",
       "       [0, 1, 0, 0, 0, 0],\n",
       "       [0, 0, 1, 0, 0, 0],\n",
       "       [0, 0, 1, 0, 0, 0],\n",
       "       [0, 0, 0, 0, 1, 0],\n",
       "       [0, 1, 0, 0, 0, 0],\n",
       "       [0, 0, 0, 0, 1, 0],\n",
       "       [0, 0, 0, 1, 0, 0],\n",
       "       [0, 0, 0, 0, 1, 0],\n",
       "       [0, 0, 0, 1, 0, 0],\n",
       "       [1, 0, 0, 0, 0, 0],\n",
       "       [0, 0, 0, 0, 0, 1],\n",
       "       [0, 0, 1, 0, 0, 0],\n",
       "       [0, 0, 0, 1, 0, 0],\n",
       "       [1, 0, 0, 0, 0, 0],\n",
       "       [1, 0, 0, 0, 0, 0],\n",
       "       [0, 0, 0, 0, 1, 0],\n",
       "       [0, 1, 0, 0, 0, 0],\n",
       "       [0, 0, 0, 0, 1, 0],\n",
       "       [0, 0, 0, 0, 1, 0],\n",
       "       [0, 0, 0, 1, 0, 0],\n",
       "       [0, 0, 1, 0, 0, 0],\n",
       "       [0, 0, 0, 0, 1, 0],\n",
       "       [0, 0, 0, 0, 1, 0],\n",
       "       [0, 0, 0, 1, 0, 0],\n",
       "       [0, 0, 0, 1, 0, 0],\n",
       "       [0, 0, 0, 0, 1, 0],\n",
       "       [1, 0, 0, 0, 0, 0],\n",
       "       [0, 0, 0, 1, 0, 0],\n",
       "       [0, 1, 0, 0, 0, 0],\n",
       "       [1, 0, 0, 0, 0, 0],\n",
       "       [0, 0, 0, 1, 0, 0],\n",
       "       [0, 0, 0, 1, 0, 0],\n",
       "       [1, 0, 0, 0, 0, 0],\n",
       "       [1, 0, 0, 0, 0, 0],\n",
       "       [0, 0, 1, 0, 0, 0],\n",
       "       [0, 0, 1, 0, 0, 0],\n",
       "       [1, 0, 0, 0, 0, 0],\n",
       "       [1, 0, 0, 0, 0, 0],\n",
       "       [0, 0, 0, 1, 0, 0],\n",
       "       [0, 0, 0, 0, 0, 1],\n",
       "       [0, 0, 0, 0, 0, 1],\n",
       "       [0, 0, 0, 1, 0, 0],\n",
       "       [1, 0, 0, 0, 0, 0],\n",
       "       [0, 0, 0, 1, 0, 0],\n",
       "       [1, 0, 0, 0, 0, 0],\n",
       "       [0, 0, 1, 0, 0, 0],\n",
       "       [0, 1, 0, 0, 0, 0],\n",
       "       [0, 0, 0, 1, 0, 0],\n",
       "       [0, 0, 0, 0, 0, 1],\n",
       "       [0, 0, 1, 0, 0, 0],\n",
       "       [0, 1, 0, 0, 0, 0],\n",
       "       [0, 0, 1, 0, 0, 0],\n",
       "       [0, 1, 0, 0, 0, 0],\n",
       "       [0, 1, 0, 0, 0, 0],\n",
       "       [0, 0, 0, 1, 0, 0],\n",
       "       [0, 1, 0, 0, 0, 0],\n",
       "       [0, 0, 0, 1, 0, 0],\n",
       "       [1, 0, 0, 0, 0, 0],\n",
       "       [0, 0, 1, 0, 0, 0],\n",
       "       [0, 0, 1, 0, 0, 0],\n",
       "       [0, 0, 0, 0, 1, 0],\n",
       "       [1, 0, 0, 0, 0, 0],\n",
       "       [1, 0, 0, 0, 0, 0],\n",
       "       [0, 1, 0, 0, 0, 0],\n",
       "       [0, 0, 0, 0, 1, 0],\n",
       "       [0, 0, 1, 0, 0, 0],\n",
       "       [0, 1, 0, 0, 0, 0],\n",
       "       [0, 0, 0, 1, 0, 0],\n",
       "       [0, 0, 0, 1, 0, 0],\n",
       "       [1, 0, 0, 0, 0, 0],\n",
       "       [0, 0, 0, 0, 1, 0],\n",
       "       [0, 1, 0, 0, 0, 0],\n",
       "       [0, 0, 0, 1, 0, 0],\n",
       "       [0, 0, 0, 0, 0, 1],\n",
       "       [0, 0, 1, 0, 0, 0],\n",
       "       [0, 0, 0, 0, 0, 1],\n",
       "       [0, 1, 0, 0, 0, 0],\n",
       "       [0, 0, 0, 0, 1, 0],\n",
       "       [1, 0, 0, 0, 0, 0],\n",
       "       [1, 0, 0, 0, 0, 0],\n",
       "       [0, 0, 0, 0, 1, 0],\n",
       "       [0, 0, 0, 0, 1, 0],\n",
       "       [0, 0, 0, 0, 1, 0],\n",
       "       [0, 0, 0, 0, 0, 1],\n",
       "       [0, 0, 0, 0, 0, 1],\n",
       "       [0, 0, 0, 0, 1, 0],\n",
       "       [1, 0, 0, 0, 0, 0],\n",
       "       [1, 0, 0, 0, 0, 0],\n",
       "       [0, 1, 0, 0, 0, 0],\n",
       "       [0, 0, 1, 0, 0, 0],\n",
       "       [0, 0, 0, 1, 0, 0],\n",
       "       [1, 0, 0, 0, 0, 0],\n",
       "       [0, 0, 1, 0, 0, 0],\n",
       "       [0, 1, 0, 0, 0, 0],\n",
       "       [0, 0, 0, 0, 0, 1],\n",
       "       [0, 0, 0, 1, 0, 0],\n",
       "       [0, 0, 1, 0, 0, 0],\n",
       "       [0, 0, 0, 0, 0, 1],\n",
       "       [0, 1, 0, 0, 0, 0],\n",
       "       [0, 1, 0, 0, 0, 0],\n",
       "       [0, 0, 0, 0, 1, 0],\n",
       "       [0, 1, 0, 0, 0, 0],\n",
       "       [0, 0, 1, 0, 0, 0],\n",
       "       [0, 1, 0, 0, 0, 0],\n",
       "       [0, 0, 0, 0, 0, 1],\n",
       "       [0, 0, 1, 0, 0, 0],\n",
       "       [0, 1, 0, 0, 0, 0],\n",
       "       [0, 1, 0, 0, 0, 0],\n",
       "       [0, 0, 0, 0, 1, 0],\n",
       "       [1, 0, 0, 0, 0, 0],\n",
       "       [0, 1, 0, 0, 0, 0],\n",
       "       [0, 0, 1, 0, 0, 0],\n",
       "       [0, 0, 0, 0, 0, 1],\n",
       "       [0, 0, 1, 0, 0, 0],\n",
       "       [0, 0, 1, 0, 0, 0],\n",
       "       [0, 0, 0, 1, 0, 0],\n",
       "       [1, 0, 0, 0, 0, 0],\n",
       "       [0, 0, 0, 1, 0, 0],\n",
       "       [0, 0, 0, 0, 0, 1],\n",
       "       [1, 0, 0, 0, 0, 0],\n",
       "       [0, 1, 0, 0, 0, 0],\n",
       "       [0, 0, 0, 1, 0, 0],\n",
       "       [0, 0, 0, 1, 0, 0],\n",
       "       [0, 0, 0, 1, 0, 0],\n",
       "       [0, 0, 0, 0, 1, 0],\n",
       "       [0, 0, 0, 0, 1, 0],\n",
       "       [0, 0, 0, 0, 1, 0],\n",
       "       [0, 0, 0, 0, 1, 0],\n",
       "       [0, 0, 0, 0, 0, 1],\n",
       "       [0, 1, 0, 0, 0, 0],\n",
       "       [0, 0, 0, 0, 0, 1],\n",
       "       [0, 0, 0, 0, 1, 0],\n",
       "       [0, 0, 0, 0, 1, 0],\n",
       "       [1, 0, 0, 0, 0, 0],\n",
       "       [0, 0, 1, 0, 0, 0],\n",
       "       [0, 1, 0, 0, 0, 0],\n",
       "       [0, 0, 0, 0, 1, 0],\n",
       "       [1, 0, 0, 0, 0, 0],\n",
       "       [0, 0, 0, 0, 1, 0],\n",
       "       [0, 0, 1, 0, 0, 0],\n",
       "       [0, 0, 0, 0, 1, 0]])"
      ]
     },
     "execution_count": 47,
     "metadata": {},
     "output_type": "execute_result"
    }
   ],
   "source": [
    "EscuelaTrans"
   ]
  },
  {
   "cell_type": "code",
   "execution_count": 48,
   "id": "40463b51-38bf-4e8b-9fdd-cbd05f9a3528",
   "metadata": {
    "tags": []
   },
   "outputs": [],
   "source": [
    "\n",
    "# Se elimine las características que no serán utilizadas del conjunto de datos.\n",
    "dfuni2017_new = dfuni2017.drop(['Escuela', 'Cod_Estudiante'], axis=1)"
   ]
  },
  {
   "cell_type": "code",
   "execution_count": 49,
   "id": "935a1cea-ac54-4e23-b231-c08b9b201b1e",
   "metadata": {},
   "outputs": [
    {
     "data": {
      "text/html": [
       "<div>\n",
       "<style scoped>\n",
       "    .dataframe tbody tr th:only-of-type {\n",
       "        vertical-align: middle;\n",
       "    }\n",
       "\n",
       "    .dataframe tbody tr th {\n",
       "        vertical-align: top;\n",
       "    }\n",
       "\n",
       "    .dataframe thead th {\n",
       "        text-align: right;\n",
       "    }\n",
       "</style>\n",
       "<table border=\"1\" class=\"dataframe\">\n",
       "  <thead>\n",
       "    <tr style=\"text-align: right;\">\n",
       "      <th></th>\n",
       "      <th>TipoCole</th>\n",
       "      <th>ModalidadIngreso</th>\n",
       "      <th>Facultad</th>\n",
       "      <th>UltimoPromSemestre</th>\n",
       "      <th>RepeticionAsigAcumuladas</th>\n",
       "      <th>ReingresoOtraEscuela</th>\n",
       "      <th>Sexo</th>\n",
       "      <th>EstCivil</th>\n",
       "      <th>class</th>\n",
       "      <th>Filial</th>\n",
       "      <th>...</th>\n",
       "      <th>Cod_AsignaturaIS-826</th>\n",
       "      <th>Cod_AsignaturaIS-827</th>\n",
       "      <th>Cod_AsignaturaIS-921</th>\n",
       "      <th>Cod_AsignaturaIS-922</th>\n",
       "      <th>Cod_AsignaturaIS-923</th>\n",
       "      <th>Cod_AsignaturaIS-924</th>\n",
       "      <th>Cod_AsignaturaIS-925</th>\n",
       "      <th>Cod_AsignaturaIS-926</th>\n",
       "      <th>Cod_AsignaturaIS-927</th>\n",
       "      <th>Cod_AsignaturaIS-928</th>\n",
       "    </tr>\n",
       "  </thead>\n",
       "  <tbody>\n",
       "    <tr>\n",
       "      <th>0</th>\n",
       "      <td>0</td>\n",
       "      <td>0</td>\n",
       "      <td>1</td>\n",
       "      <td>7</td>\n",
       "      <td>3</td>\n",
       "      <td>0</td>\n",
       "      <td>0</td>\n",
       "      <td>0</td>\n",
       "      <td>1</td>\n",
       "      <td>0</td>\n",
       "      <td>...</td>\n",
       "      <td>0</td>\n",
       "      <td>0</td>\n",
       "      <td>0</td>\n",
       "      <td>0</td>\n",
       "      <td>0</td>\n",
       "      <td>0</td>\n",
       "      <td>0</td>\n",
       "      <td>0</td>\n",
       "      <td>0</td>\n",
       "      <td>0</td>\n",
       "    </tr>\n",
       "    <tr>\n",
       "      <th>1</th>\n",
       "      <td>0</td>\n",
       "      <td>0</td>\n",
       "      <td>1</td>\n",
       "      <td>6</td>\n",
       "      <td>5</td>\n",
       "      <td>0</td>\n",
       "      <td>1</td>\n",
       "      <td>0</td>\n",
       "      <td>1</td>\n",
       "      <td>1</td>\n",
       "      <td>...</td>\n",
       "      <td>0</td>\n",
       "      <td>0</td>\n",
       "      <td>0</td>\n",
       "      <td>0</td>\n",
       "      <td>0</td>\n",
       "      <td>0</td>\n",
       "      <td>0</td>\n",
       "      <td>0</td>\n",
       "      <td>0</td>\n",
       "      <td>0</td>\n",
       "    </tr>\n",
       "    <tr>\n",
       "      <th>2</th>\n",
       "      <td>0</td>\n",
       "      <td>0</td>\n",
       "      <td>1</td>\n",
       "      <td>2</td>\n",
       "      <td>0</td>\n",
       "      <td>0</td>\n",
       "      <td>0</td>\n",
       "      <td>0</td>\n",
       "      <td>1</td>\n",
       "      <td>1</td>\n",
       "      <td>...</td>\n",
       "      <td>0</td>\n",
       "      <td>0</td>\n",
       "      <td>0</td>\n",
       "      <td>0</td>\n",
       "      <td>0</td>\n",
       "      <td>0</td>\n",
       "      <td>0</td>\n",
       "      <td>0</td>\n",
       "      <td>0</td>\n",
       "      <td>0</td>\n",
       "    </tr>\n",
       "    <tr>\n",
       "      <th>3</th>\n",
       "      <td>0</td>\n",
       "      <td>0</td>\n",
       "      <td>1</td>\n",
       "      <td>5</td>\n",
       "      <td>0</td>\n",
       "      <td>0</td>\n",
       "      <td>1</td>\n",
       "      <td>0</td>\n",
       "      <td>1</td>\n",
       "      <td>1</td>\n",
       "      <td>...</td>\n",
       "      <td>0</td>\n",
       "      <td>0</td>\n",
       "      <td>0</td>\n",
       "      <td>0</td>\n",
       "      <td>0</td>\n",
       "      <td>0</td>\n",
       "      <td>0</td>\n",
       "      <td>0</td>\n",
       "      <td>0</td>\n",
       "      <td>0</td>\n",
       "    </tr>\n",
       "    <tr>\n",
       "      <th>4</th>\n",
       "      <td>0</td>\n",
       "      <td>1</td>\n",
       "      <td>1</td>\n",
       "      <td>10</td>\n",
       "      <td>2</td>\n",
       "      <td>0</td>\n",
       "      <td>1</td>\n",
       "      <td>0</td>\n",
       "      <td>1</td>\n",
       "      <td>0</td>\n",
       "      <td>...</td>\n",
       "      <td>0</td>\n",
       "      <td>0</td>\n",
       "      <td>0</td>\n",
       "      <td>0</td>\n",
       "      <td>0</td>\n",
       "      <td>0</td>\n",
       "      <td>0</td>\n",
       "      <td>0</td>\n",
       "      <td>0</td>\n",
       "      <td>0</td>\n",
       "    </tr>\n",
       "    <tr>\n",
       "      <th>...</th>\n",
       "      <td>...</td>\n",
       "      <td>...</td>\n",
       "      <td>...</td>\n",
       "      <td>...</td>\n",
       "      <td>...</td>\n",
       "      <td>...</td>\n",
       "      <td>...</td>\n",
       "      <td>...</td>\n",
       "      <td>...</td>\n",
       "      <td>...</td>\n",
       "      <td>...</td>\n",
       "      <td>...</td>\n",
       "      <td>...</td>\n",
       "      <td>...</td>\n",
       "      <td>...</td>\n",
       "      <td>...</td>\n",
       "      <td>...</td>\n",
       "      <td>...</td>\n",
       "      <td>...</td>\n",
       "      <td>...</td>\n",
       "      <td>...</td>\n",
       "    </tr>\n",
       "    <tr>\n",
       "      <th>152</th>\n",
       "      <td>0</td>\n",
       "      <td>0</td>\n",
       "      <td>1</td>\n",
       "      <td>1</td>\n",
       "      <td>0</td>\n",
       "      <td>0</td>\n",
       "      <td>0</td>\n",
       "      <td>0</td>\n",
       "      <td>1</td>\n",
       "      <td>1</td>\n",
       "      <td>...</td>\n",
       "      <td>0</td>\n",
       "      <td>0</td>\n",
       "      <td>0</td>\n",
       "      <td>0</td>\n",
       "      <td>0</td>\n",
       "      <td>0</td>\n",
       "      <td>0</td>\n",
       "      <td>0</td>\n",
       "      <td>0</td>\n",
       "      <td>0</td>\n",
       "    </tr>\n",
       "    <tr>\n",
       "      <th>153</th>\n",
       "      <td>0</td>\n",
       "      <td>0</td>\n",
       "      <td>0</td>\n",
       "      <td>17</td>\n",
       "      <td>0</td>\n",
       "      <td>0</td>\n",
       "      <td>1</td>\n",
       "      <td>0</td>\n",
       "      <td>0</td>\n",
       "      <td>0</td>\n",
       "      <td>...</td>\n",
       "      <td>0</td>\n",
       "      <td>0</td>\n",
       "      <td>0</td>\n",
       "      <td>0</td>\n",
       "      <td>0</td>\n",
       "      <td>0</td>\n",
       "      <td>0</td>\n",
       "      <td>0</td>\n",
       "      <td>0</td>\n",
       "      <td>0</td>\n",
       "    </tr>\n",
       "    <tr>\n",
       "      <th>154</th>\n",
       "      <td>0</td>\n",
       "      <td>0</td>\n",
       "      <td>1</td>\n",
       "      <td>2</td>\n",
       "      <td>6</td>\n",
       "      <td>1</td>\n",
       "      <td>1</td>\n",
       "      <td>0</td>\n",
       "      <td>1</td>\n",
       "      <td>0</td>\n",
       "      <td>...</td>\n",
       "      <td>0</td>\n",
       "      <td>0</td>\n",
       "      <td>0</td>\n",
       "      <td>0</td>\n",
       "      <td>0</td>\n",
       "      <td>0</td>\n",
       "      <td>0</td>\n",
       "      <td>0</td>\n",
       "      <td>0</td>\n",
       "      <td>0</td>\n",
       "    </tr>\n",
       "    <tr>\n",
       "      <th>155</th>\n",
       "      <td>1</td>\n",
       "      <td>0</td>\n",
       "      <td>1</td>\n",
       "      <td>5</td>\n",
       "      <td>4</td>\n",
       "      <td>0</td>\n",
       "      <td>0</td>\n",
       "      <td>0</td>\n",
       "      <td>1</td>\n",
       "      <td>1</td>\n",
       "      <td>...</td>\n",
       "      <td>0</td>\n",
       "      <td>0</td>\n",
       "      <td>0</td>\n",
       "      <td>0</td>\n",
       "      <td>0</td>\n",
       "      <td>0</td>\n",
       "      <td>0</td>\n",
       "      <td>0</td>\n",
       "      <td>0</td>\n",
       "      <td>0</td>\n",
       "    </tr>\n",
       "    <tr>\n",
       "      <th>156</th>\n",
       "      <td>0</td>\n",
       "      <td>2</td>\n",
       "      <td>1</td>\n",
       "      <td>6</td>\n",
       "      <td>19</td>\n",
       "      <td>1</td>\n",
       "      <td>0</td>\n",
       "      <td>0</td>\n",
       "      <td>0</td>\n",
       "      <td>0</td>\n",
       "      <td>...</td>\n",
       "      <td>0</td>\n",
       "      <td>0</td>\n",
       "      <td>0</td>\n",
       "      <td>0</td>\n",
       "      <td>0</td>\n",
       "      <td>0</td>\n",
       "      <td>0</td>\n",
       "      <td>0</td>\n",
       "      <td>0</td>\n",
       "      <td>0</td>\n",
       "    </tr>\n",
       "  </tbody>\n",
       "</table>\n",
       "<p>157 rows × 347 columns</p>\n",
       "</div>"
      ],
      "text/plain": [
       "     TipoCole  ModalidadIngreso  Facultad  UltimoPromSemestre  \\\n",
       "0           0                 0         1                   7   \n",
       "1           0                 0         1                   6   \n",
       "2           0                 0         1                   2   \n",
       "3           0                 0         1                   5   \n",
       "4           0                 1         1                  10   \n",
       "..        ...               ...       ...                 ...   \n",
       "152         0                 0         1                   1   \n",
       "153         0                 0         0                  17   \n",
       "154         0                 0         1                   2   \n",
       "155         1                 0         1                   5   \n",
       "156         0                 2         1                   6   \n",
       "\n",
       "     RepeticionAsigAcumuladas  ReingresoOtraEscuela  Sexo  EstCivil  class  \\\n",
       "0                           3                     0     0         0      1   \n",
       "1                           5                     0     1         0      1   \n",
       "2                           0                     0     0         0      1   \n",
       "3                           0                     0     1         0      1   \n",
       "4                           2                     0     1         0      1   \n",
       "..                        ...                   ...   ...       ...    ...   \n",
       "152                         0                     0     0         0      1   \n",
       "153                         0                     0     1         0      0   \n",
       "154                         6                     1     1         0      1   \n",
       "155                         4                     0     0         0      1   \n",
       "156                        19                     1     0         0      0   \n",
       "\n",
       "     Filial  ...  Cod_AsignaturaIS-826  Cod_AsignaturaIS-827  \\\n",
       "0         0  ...                     0                     0   \n",
       "1         1  ...                     0                     0   \n",
       "2         1  ...                     0                     0   \n",
       "3         1  ...                     0                     0   \n",
       "4         0  ...                     0                     0   \n",
       "..      ...  ...                   ...                   ...   \n",
       "152       1  ...                     0                     0   \n",
       "153       0  ...                     0                     0   \n",
       "154       0  ...                     0                     0   \n",
       "155       1  ...                     0                     0   \n",
       "156       0  ...                     0                     0   \n",
       "\n",
       "     Cod_AsignaturaIS-921  Cod_AsignaturaIS-922  Cod_AsignaturaIS-923  \\\n",
       "0                       0                     0                     0   \n",
       "1                       0                     0                     0   \n",
       "2                       0                     0                     0   \n",
       "3                       0                     0                     0   \n",
       "4                       0                     0                     0   \n",
       "..                    ...                   ...                   ...   \n",
       "152                     0                     0                     0   \n",
       "153                     0                     0                     0   \n",
       "154                     0                     0                     0   \n",
       "155                     0                     0                     0   \n",
       "156                     0                     0                     0   \n",
       "\n",
       "     Cod_AsignaturaIS-924  Cod_AsignaturaIS-925  Cod_AsignaturaIS-926  \\\n",
       "0                       0                     0                     0   \n",
       "1                       0                     0                     0   \n",
       "2                       0                     0                     0   \n",
       "3                       0                     0                     0   \n",
       "4                       0                     0                     0   \n",
       "..                    ...                   ...                   ...   \n",
       "152                     0                     0                     0   \n",
       "153                     0                     0                     0   \n",
       "154                     0                     0                     0   \n",
       "155                     0                     0                     0   \n",
       "156                     0                     0                     0   \n",
       "\n",
       "     Cod_AsignaturaIS-927  Cod_AsignaturaIS-928  \n",
       "0                       0                     0  \n",
       "1                       0                     0  \n",
       "2                       0                     0  \n",
       "3                       0                     0  \n",
       "4                       0                     0  \n",
       "..                    ...                   ...  \n",
       "152                     0                     0  \n",
       "153                     0                     0  \n",
       "154                     0                     0  \n",
       "155                     0                     0  \n",
       "156                     0                     0  \n",
       "\n",
       "[157 rows x 347 columns]"
      ]
     },
     "execution_count": 49,
     "metadata": {},
     "output_type": "execute_result"
    }
   ],
   "source": [
    "dfuni2017_new"
   ]
  },
  {
   "cell_type": "code",
   "execution_count": 50,
   "id": "16873696-dc79-4fe1-a086-dbb196bf564a",
   "metadata": {
    "tags": []
   },
   "outputs": [],
   "source": [
    "# Comprobar que la codificación es correcta\n",
    "assert (len(dfuni2017['Escuela'].unique()) == len(mlb.classes_)), \"Not Equal\" "
   ]
  },
  {
   "cell_type": "code",
   "execution_count": 51,
   "id": "caa894ab-9100-45ae-af6d-ff85151c08d0",
   "metadata": {
    "tags": []
   },
   "outputs": [],
   "source": [
    "# A continuación, añadimos las características codificadas para formar el conjunto de datos final que se utilizará con TPOT.\n",
    "dfuni2017_new = np.hstack((dfuni2017_new.values,EscuelaTrans))"
   ]
  },
  {
   "cell_type": "code",
   "execution_count": 52,
   "id": "f9d1f675-dd7b-45b6-9051-7e2f8469790c",
   "metadata": {
    "tags": []
   },
   "outputs": [
    {
     "data": {
      "text/plain": [
       "False"
      ]
     },
     "execution_count": 52,
     "metadata": {},
     "output_type": "execute_result"
    }
   ],
   "source": [
    "# Verificar si hay nulos\n",
    "np.isnan(dfuni2017_new).any()\n",
    "# hay_nulos = np.isnan(dfuni2017_new).any()\n",
    "# hay_nulos"
   ]
  },
  {
   "cell_type": "code",
   "execution_count": 53,
   "id": "d5ecc8a1-deba-49d6-bda9-6b61e500611a",
   "metadata": {
    "tags": []
   },
   "outputs": [
    {
     "data": {
      "text/plain": [
       "353"
      ]
     },
     "execution_count": 53,
     "metadata": {},
     "output_type": "execute_result"
    }
   ],
   "source": [
    "# Teniendo en cuenta que el conjunto de datos final está en la forma de una matriz numpy, podemos comprobar el número \n",
    "# de características en el conjunto de datos final de la siguiente manera.\n",
    "dfuni2017_new[0].size"
   ]
  },
  {
   "cell_type": "code",
   "execution_count": 54,
   "id": "81def1e1-aad1-45f7-9b80-2d23ab04f3ff",
   "metadata": {
    "tags": []
   },
   "outputs": [],
   "source": [
    "# Finalmente almacenamos las etiquetas de clase, que necesitamos predecir, en una variable separada.\n",
    "dfuni2017_class = dfuni2017['class'].values"
   ]
  },
  {
   "cell_type": "markdown",
   "id": "64230e5a-7c29-4c77-954b-82aa231906dc",
   "metadata": {
    "tags": []
   },
   "source": [
    "## Análisis de datos con TPOT"
   ]
  },
  {
   "cell_type": "markdown",
   "id": "16cac90f-a5ff-4e6a-a593-435f9a5a0512",
   "metadata": {
    "tags": []
   },
   "source": [
    "Para comenzar nuestro análisis, tenemos que dividir nuestros datos de entrenamiento en conjuntos de entrenamiento y validación. El conjunto de validación es sólo para darnos una idea del error del conjunto de prueba. La selección y ajuste del modelo está totalmente a cargo de TPOT, por lo que si queremos, podemos omitir la creación de este conjunto de validación."
   ]
  },
  {
   "cell_type": "code",
   "execution_count": 55,
   "id": "b0ac31f2-e478-4237-ae78-73d708769883",
   "metadata": {
    "tags": []
   },
   "outputs": [
    {
     "data": {
      "text/plain": [
       "(117, 40)"
      ]
     },
     "execution_count": 55,
     "metadata": {},
     "output_type": "execute_result"
    }
   ],
   "source": [
    "# En este caso, se dividió el conjunto de índices dfuni2017.index en dos conjuntos: uno para entrenamiento y otro para prueba (validación).\n",
    "# El parámetro train_size se estableció en 0.75, lo que significa que el 75% de los índices se asignaron al conjunto de entrenamiento, \n",
    "# y el parámetro test_size se estableció en 0.25, lo que significa que el 25% de los índices se asignaron al conjunto de prueba (validación).\n",
    "training_indices, validation_indices = training_indices, testing_indices = train_test_split(dfuni2017.index, stratify = dfuni2017_class, train_size=0.75, test_size=0.25)\n",
    "training_indices.size, validation_indices.size"
   ]
  },
  {
   "cell_type": "code",
   "execution_count": 56,
   "id": "38eadc3e-806f-4e57-ad2f-23d6a768c971",
   "metadata": {},
   "outputs": [],
   "source": [
    "# Observación:\n",
    "# El resultado (168, 57) indica que el conjunto de entrenamiento tiene 168 índices y el conjunto de prueba (validación) tiene 57 índices. \n",
    "# Es importante destacar que estos números pueden variar según la división aleatoria de los datos o los parámetros utilizados en la función train_test_split()."
   ]
  },
  {
   "cell_type": "markdown",
   "id": "30493d84-f777-4de6-bf0a-3a136b545f39",
   "metadata": {},
   "source": [
    "Después de eso, procedemos a llamar a las funciones de ajuste, puntuación y exportación en nuestro conjunto de datos de entrenamiento. Para tener una mejor idea de cómo funcionan estas funciones, consulte la documentación de TPOT aquí.\n",
    "\n",
    "Un parámetro importante de TPOT es el número de generaciones. Como nuestro objetivo es sólo ilustrar el uso de TPOT, hemos establecido el tiempo máximo de optimización en 5 minutos (max_time_mins=5). En un portátil estándar con 4 GB de RAM, tarda aproximadamente 5 minutos por generación en ejecutarse. Por cada generación añadida, debería tardar 5 minutos más. Así, para el valor por defecto de 100, el tiempo total de ejecución podría ser aproximadamente de unas 8 horas."
   ]
  },
  {
   "cell_type": "code",
   "execution_count": 57,
   "id": "627e7edb-b20c-47f8-91de-79ea2ec6eabf",
   "metadata": {
    "tags": []
   },
   "outputs": [
    {
     "data": {
      "application/vnd.jupyter.widget-view+json": {
       "model_id": "598dbc62e73843d4ada70d4b1996dfe7",
       "version_major": 2,
       "version_minor": 0
      },
      "text/plain": [
       "Optimization Progress:   0%|          | 0/60 [00:00<?, ?pipeline/s]"
      ]
     },
     "metadata": {},
     "output_type": "display_data"
    },
    {
     "name": "stdout",
     "output_type": "stream",
     "text": [
      "\n",
      "Generation 1 - Current best internal CV score: 1.0\n",
      "\n",
      "Generation 2 - Current best internal CV score: 1.0\n",
      "\n",
      "Generation 3 - Current best internal CV score: 1.0\n",
      "\n",
      "Generation 4 - Current best internal CV score: 1.0\n",
      "\n",
      "90.17 minutes have elapsed. TPOT will close down.\n",
      "TPOT closed during evaluation in one generation.\n",
      "WARNING: TPOT may not provide a good pipeline if TPOT is stopped/interrupted in a early generation.\n",
      "\n",
      "\n",
      "TPOT closed prematurely. Will use the current best pipeline.\n",
      "\n",
      "Best pipeline: ExtraTreesClassifier(input_matrix, bootstrap=False, criterion=entropy, max_features=0.7500000000000001, min_samples_leaf=19, min_samples_split=3, n_estimators=100)\n"
     ]
    },
    {
     "data": {
      "text/html": [
       "<style>#sk-container-id-1 {color: black;background-color: white;}#sk-container-id-1 pre{padding: 0;}#sk-container-id-1 div.sk-toggleable {background-color: white;}#sk-container-id-1 label.sk-toggleable__label {cursor: pointer;display: block;width: 100%;margin-bottom: 0;padding: 0.3em;box-sizing: border-box;text-align: center;}#sk-container-id-1 label.sk-toggleable__label-arrow:before {content: \"▸\";float: left;margin-right: 0.25em;color: #696969;}#sk-container-id-1 label.sk-toggleable__label-arrow:hover:before {color: black;}#sk-container-id-1 div.sk-estimator:hover label.sk-toggleable__label-arrow:before {color: black;}#sk-container-id-1 div.sk-toggleable__content {max-height: 0;max-width: 0;overflow: hidden;text-align: left;background-color: #f0f8ff;}#sk-container-id-1 div.sk-toggleable__content pre {margin: 0.2em;color: black;border-radius: 0.25em;background-color: #f0f8ff;}#sk-container-id-1 input.sk-toggleable__control:checked~div.sk-toggleable__content {max-height: 200px;max-width: 100%;overflow: auto;}#sk-container-id-1 input.sk-toggleable__control:checked~label.sk-toggleable__label-arrow:before {content: \"▾\";}#sk-container-id-1 div.sk-estimator input.sk-toggleable__control:checked~label.sk-toggleable__label {background-color: #d4ebff;}#sk-container-id-1 div.sk-label input.sk-toggleable__control:checked~label.sk-toggleable__label {background-color: #d4ebff;}#sk-container-id-1 input.sk-hidden--visually {border: 0;clip: rect(1px 1px 1px 1px);clip: rect(1px, 1px, 1px, 1px);height: 1px;margin: -1px;overflow: hidden;padding: 0;position: absolute;width: 1px;}#sk-container-id-1 div.sk-estimator {font-family: monospace;background-color: #f0f8ff;border: 1px dotted black;border-radius: 0.25em;box-sizing: border-box;margin-bottom: 0.5em;}#sk-container-id-1 div.sk-estimator:hover {background-color: #d4ebff;}#sk-container-id-1 div.sk-parallel-item::after {content: \"\";width: 100%;border-bottom: 1px solid gray;flex-grow: 1;}#sk-container-id-1 div.sk-label:hover label.sk-toggleable__label {background-color: #d4ebff;}#sk-container-id-1 div.sk-serial::before {content: \"\";position: absolute;border-left: 1px solid gray;box-sizing: border-box;top: 0;bottom: 0;left: 50%;z-index: 0;}#sk-container-id-1 div.sk-serial {display: flex;flex-direction: column;align-items: center;background-color: white;padding-right: 0.2em;padding-left: 0.2em;position: relative;}#sk-container-id-1 div.sk-item {position: relative;z-index: 1;}#sk-container-id-1 div.sk-parallel {display: flex;align-items: stretch;justify-content: center;background-color: white;position: relative;}#sk-container-id-1 div.sk-item::before, #sk-container-id-1 div.sk-parallel-item::before {content: \"\";position: absolute;border-left: 1px solid gray;box-sizing: border-box;top: 0;bottom: 0;left: 50%;z-index: -1;}#sk-container-id-1 div.sk-parallel-item {display: flex;flex-direction: column;z-index: 1;position: relative;background-color: white;}#sk-container-id-1 div.sk-parallel-item:first-child::after {align-self: flex-end;width: 50%;}#sk-container-id-1 div.sk-parallel-item:last-child::after {align-self: flex-start;width: 50%;}#sk-container-id-1 div.sk-parallel-item:only-child::after {width: 0;}#sk-container-id-1 div.sk-dashed-wrapped {border: 1px dashed gray;margin: 0 0.4em 0.5em 0.4em;box-sizing: border-box;padding-bottom: 0.4em;background-color: white;}#sk-container-id-1 div.sk-label label {font-family: monospace;font-weight: bold;display: inline-block;line-height: 1.2em;}#sk-container-id-1 div.sk-label-container {text-align: center;}#sk-container-id-1 div.sk-container {/* jupyter's `normalize.less` sets `[hidden] { display: none; }` but bootstrap.min.css set `[hidden] { display: none !important; }` so we also need the `!important` here to be able to override the default hidden behavior on the sphinx rendered scikit-learn.org. See: https://github.com/scikit-learn/scikit-learn/issues/21755 */display: inline-block !important;position: relative;}#sk-container-id-1 div.sk-text-repr-fallback {display: none;}</style><div id=\"sk-container-id-1\" class=\"sk-top-container\"><div class=\"sk-text-repr-fallback\"><pre>TPOTClassifier(max_eval_time_mins=0.06, max_time_mins=15, population_size=60,\n",
       "               verbosity=2)</pre><b>In a Jupyter environment, please rerun this cell to show the HTML representation or trust the notebook. <br />On GitHub, the HTML representation is unable to render, please try loading this page with nbviewer.org.</b></div><div class=\"sk-container\" hidden><div class=\"sk-item\"><div class=\"sk-estimator sk-toggleable\"><input class=\"sk-toggleable__control sk-hidden--visually\" id=\"sk-estimator-id-1\" type=\"checkbox\" checked><label for=\"sk-estimator-id-1\" class=\"sk-toggleable__label sk-toggleable__label-arrow\">TPOTClassifier</label><div class=\"sk-toggleable__content\"><pre>TPOTClassifier(max_eval_time_mins=0.06, max_time_mins=15, population_size=60,\n",
       "               verbosity=2)</pre></div></div></div></div></div>"
      ],
      "text/plain": [
       "TPOTClassifier(max_eval_time_mins=0.06, max_time_mins=15, population_size=60,\n",
       "               verbosity=2)"
      ]
     },
     "execution_count": 57,
     "metadata": {},
     "output_type": "execute_result"
    }
   ],
   "source": [
    "tpot = TPOTClassifier(verbosity=2, max_time_mins=15, max_eval_time_mins=0.06, population_size=60)\n",
    "tpot.fit(dfuni2017_new[training_indices], dfuni2017_class[training_indices])"
   ]
  },
  {
   "cell_type": "code",
   "execution_count": 58,
   "id": "c0851a1d-8cdc-4901-999c-bbb7151be539",
   "metadata": {},
   "outputs": [
    {
     "name": "stderr",
     "output_type": "stream",
     "text": [
      "C:\\Users\\Usuario\\AppData\\Local\\Programs\\Python\\Python310\\lib\\site-packages\\sklearn\\metrics\\_scorer.py:794: FutureWarning: sklearn.metrics.SCORERS is deprecated and will be removed in v1.3. Please use sklearn.metrics.get_scorer_names to get a list of available scorers and sklearn.metrics.get_metric to get scorer.\n",
      "  warnings.warn(\n"
     ]
    },
    {
     "data": {
      "text/plain": [
       "1.0"
      ]
     },
     "execution_count": 58,
     "metadata": {},
     "output_type": "execute_result"
    }
   ],
   "source": [
    "tpot.score(dfuni2017_new[validation_indices], dfuni2017.loc[validation_indices, 'class'].values)"
   ]
  },
  {
   "cell_type": "code",
   "execution_count": 59,
   "id": "71efb3dc-6502-4b4e-a2ad-4010f7a3e26d",
   "metadata": {},
   "outputs": [],
   "source": [
    "# Exportamos tpot_dfunam2017_pipeline\n",
    "tpot.export('tpot_dfunam2017_pipeline.py')"
   ]
  },
  {
   "cell_type": "markdown",
   "id": "648bbef1-ae38-4fba-8584-fc733eed9606",
   "metadata": {},
   "source": [
    "Veamos el código generado. Como podemos ver, el clasificador de _____  fue el que mejor funcionó en el conjunto de datos dado de todos los demás modelos que TPOT evalúa actualmente. Si ejecutamos TPOT durante más generaciones, la puntuación debería mejorar aún más."
   ]
  },
  {
   "cell_type": "code",
   "execution_count": 60,
   "id": "3bf256b3-d356-4439-9881-3a9b9de76d17",
   "metadata": {
    "tags": []
   },
   "outputs": [
    {
     "name": "stdout",
     "output_type": "stream",
     "text": [
      "import numpy as np\n",
      "import pandas as pd\n",
      "from sklearn.ensemble import ExtraTreesClassifier\n",
      "from sklearn.model_selection import train_test_split\n",
      "\n",
      "# NOTE: Make sure that the outcome column is labeled 'target' in the data file\n",
      "tpot_data = pd.read_csv('PATH/TO/DATA/FILE', sep='COLUMN_SEPARATOR', dtype=np.float64)\n",
      "features = tpot_data.drop('target', axis=1)\n",
      "training_features, testing_features, training_target, testing_target = \\\n",
      "            train_test_split(features, tpot_data['target'], random_state=None)\n",
      "\n",
      "# Average CV score on the training set was: 1.0\n",
      "exported_pipeline = ExtraTreesClassifier(bootstrap=False, criterion=\"entropy\", max_features=0.7500000000000001, min_samples_leaf=19, min_samples_split=3, n_estimators=100)\n",
      "\n",
      "exported_pipeline.fit(training_features, training_target)\n",
      "results = exported_pipeline.predict(testing_features)\n",
      "\n"
     ]
    }
   ],
   "source": [
    "# VZ \n",
    "# Cargar el archivo del modelo\n",
    "with open('tpot_dfunam2017_pipeline.py', 'r') as file:\n",
    "    pipeline_code = file.read()\n",
    "\n",
    "# Visualizar el contenido del archivo\n",
    "print(pipeline_code)"
   ]
  },
  {
   "cell_type": "code",
   "execution_count": null,
   "id": "d79a68e4-1e90-4503-9edc-4995d612cebf",
   "metadata": {},
   "outputs": [],
   "source": []
  },
  {
   "cell_type": "markdown",
   "id": "a4975a76-2519-48ae-972e-8e32c9d2667b",
   "metadata": {},
   "source": [
    "### Hacer predicciones sobre los datos de envío"
   ]
  },
  {
   "cell_type": "code",
   "execution_count": 61,
   "id": "5de67518-95ae-4964-8fc6-517998110066",
   "metadata": {
    "tags": []
   },
   "outputs": [
    {
     "data": {
      "text/html": [
       "<div>\n",
       "<style scoped>\n",
       "    .dataframe tbody tr th:only-of-type {\n",
       "        vertical-align: middle;\n",
       "    }\n",
       "\n",
       "    .dataframe tbody tr th {\n",
       "        vertical-align: top;\n",
       "    }\n",
       "\n",
       "    .dataframe thead th {\n",
       "        text-align: right;\n",
       "    }\n",
       "</style>\n",
       "<table border=\"1\" class=\"dataframe\">\n",
       "  <thead>\n",
       "    <tr style=\"text-align: right;\">\n",
       "      <th></th>\n",
       "      <th>Cod_Estudiante</th>\n",
       "      <th>PlanEstudio</th>\n",
       "      <th>UltimoPromSemestre</th>\n",
       "      <th>RepeticionAsigAcumuladas</th>\n",
       "      <th>ReingresoOtraEscuela</th>\n",
       "      <th>SemestreIngreso</th>\n",
       "      <th>NumSemCV</th>\n",
       "      <th>NumSemReg</th>\n",
       "      <th>PromEgresoSalida</th>\n",
       "      <th>Cod_AsignaturaCIAI1008</th>\n",
       "      <th>...</th>\n",
       "      <th>Cod_AsignaturaIS-826</th>\n",
       "      <th>Cod_AsignaturaIS-827</th>\n",
       "      <th>Cod_AsignaturaIS-921</th>\n",
       "      <th>Cod_AsignaturaIS-922</th>\n",
       "      <th>Cod_AsignaturaIS-923</th>\n",
       "      <th>Cod_AsignaturaIS-924</th>\n",
       "      <th>Cod_AsignaturaIS-925</th>\n",
       "      <th>Cod_AsignaturaIS-926</th>\n",
       "      <th>Cod_AsignaturaIS-927</th>\n",
       "      <th>Cod_AsignaturaIS-928</th>\n",
       "    </tr>\n",
       "  </thead>\n",
       "  <tbody>\n",
       "    <tr>\n",
       "      <th>count</th>\n",
       "      <td>6.800000e+01</td>\n",
       "      <td>68.0</td>\n",
       "      <td>68.000000</td>\n",
       "      <td>68.000000</td>\n",
       "      <td>68.000000</td>\n",
       "      <td>68.0</td>\n",
       "      <td>68.000000</td>\n",
       "      <td>68.000000</td>\n",
       "      <td>68.000000</td>\n",
       "      <td>68.000000</td>\n",
       "      <td>...</td>\n",
       "      <td>68.000000</td>\n",
       "      <td>68.000000</td>\n",
       "      <td>68.000000</td>\n",
       "      <td>68.000000</td>\n",
       "      <td>68.000000</td>\n",
       "      <td>68.000000</td>\n",
       "      <td>68.000000</td>\n",
       "      <td>68.000000</td>\n",
       "      <td>68.000000</td>\n",
       "      <td>68.000000</td>\n",
       "    </tr>\n",
       "    <tr>\n",
       "      <th>mean</th>\n",
       "      <td>2.017726e+09</td>\n",
       "      <td>2016.0</td>\n",
       "      <td>9.294118</td>\n",
       "      <td>4.691176</td>\n",
       "      <td>0.161765</td>\n",
       "      <td>20171.0</td>\n",
       "      <td>0.455882</td>\n",
       "      <td>6.779412</td>\n",
       "      <td>10.838235</td>\n",
       "      <td>0.485294</td>\n",
       "      <td>...</td>\n",
       "      <td>1.000000</td>\n",
       "      <td>1.205882</td>\n",
       "      <td>1.117647</td>\n",
       "      <td>0.955882</td>\n",
       "      <td>0.735294</td>\n",
       "      <td>0.720588</td>\n",
       "      <td>0.897059</td>\n",
       "      <td>0.970588</td>\n",
       "      <td>0.720588</td>\n",
       "      <td>0.220588</td>\n",
       "    </tr>\n",
       "    <tr>\n",
       "      <th>std</th>\n",
       "      <td>7.177645e+04</td>\n",
       "      <td>0.0</td>\n",
       "      <td>5.274718</td>\n",
       "      <td>4.990311</td>\n",
       "      <td>0.370973</td>\n",
       "      <td>0.0</td>\n",
       "      <td>0.871332</td>\n",
       "      <td>3.519013</td>\n",
       "      <td>3.555993</td>\n",
       "      <td>2.809858</td>\n",
       "      <td>...</td>\n",
       "      <td>3.905603</td>\n",
       "      <td>4.195089</td>\n",
       "      <td>4.009427</td>\n",
       "      <td>3.387571</td>\n",
       "      <td>3.471064</td>\n",
       "      <td>3.031406</td>\n",
       "      <td>3.632933</td>\n",
       "      <td>3.935945</td>\n",
       "      <td>3.384978</td>\n",
       "      <td>1.819017</td>\n",
       "    </tr>\n",
       "    <tr>\n",
       "      <th>min</th>\n",
       "      <td>2.017652e+09</td>\n",
       "      <td>2016.0</td>\n",
       "      <td>0.000000</td>\n",
       "      <td>0.000000</td>\n",
       "      <td>0.000000</td>\n",
       "      <td>20171.0</td>\n",
       "      <td>0.000000</td>\n",
       "      <td>1.000000</td>\n",
       "      <td>0.000000</td>\n",
       "      <td>0.000000</td>\n",
       "      <td>...</td>\n",
       "      <td>0.000000</td>\n",
       "      <td>0.000000</td>\n",
       "      <td>0.000000</td>\n",
       "      <td>0.000000</td>\n",
       "      <td>0.000000</td>\n",
       "      <td>0.000000</td>\n",
       "      <td>0.000000</td>\n",
       "      <td>0.000000</td>\n",
       "      <td>0.000000</td>\n",
       "      <td>0.000000</td>\n",
       "    </tr>\n",
       "    <tr>\n",
       "      <th>25%</th>\n",
       "      <td>2.017653e+09</td>\n",
       "      <td>2016.0</td>\n",
       "      <td>5.750000</td>\n",
       "      <td>0.000000</td>\n",
       "      <td>0.000000</td>\n",
       "      <td>20171.0</td>\n",
       "      <td>0.000000</td>\n",
       "      <td>3.000000</td>\n",
       "      <td>9.000000</td>\n",
       "      <td>0.000000</td>\n",
       "      <td>...</td>\n",
       "      <td>0.000000</td>\n",
       "      <td>0.000000</td>\n",
       "      <td>0.000000</td>\n",
       "      <td>0.000000</td>\n",
       "      <td>0.000000</td>\n",
       "      <td>0.000000</td>\n",
       "      <td>0.000000</td>\n",
       "      <td>0.000000</td>\n",
       "      <td>0.000000</td>\n",
       "      <td>0.000000</td>\n",
       "    </tr>\n",
       "    <tr>\n",
       "      <th>50%</th>\n",
       "      <td>2.017755e+09</td>\n",
       "      <td>2016.0</td>\n",
       "      <td>10.000000</td>\n",
       "      <td>3.000000</td>\n",
       "      <td>0.000000</td>\n",
       "      <td>20171.0</td>\n",
       "      <td>0.000000</td>\n",
       "      <td>7.500000</td>\n",
       "      <td>12.000000</td>\n",
       "      <td>0.000000</td>\n",
       "      <td>...</td>\n",
       "      <td>0.000000</td>\n",
       "      <td>0.000000</td>\n",
       "      <td>0.000000</td>\n",
       "      <td>0.000000</td>\n",
       "      <td>0.000000</td>\n",
       "      <td>0.000000</td>\n",
       "      <td>0.000000</td>\n",
       "      <td>0.000000</td>\n",
       "      <td>0.000000</td>\n",
       "      <td>0.000000</td>\n",
       "    </tr>\n",
       "    <tr>\n",
       "      <th>75%</th>\n",
       "      <td>2.017757e+09</td>\n",
       "      <td>2016.0</td>\n",
       "      <td>14.000000</td>\n",
       "      <td>8.000000</td>\n",
       "      <td>0.000000</td>\n",
       "      <td>20171.0</td>\n",
       "      <td>1.000000</td>\n",
       "      <td>10.000000</td>\n",
       "      <td>13.000000</td>\n",
       "      <td>0.000000</td>\n",
       "      <td>...</td>\n",
       "      <td>0.000000</td>\n",
       "      <td>0.000000</td>\n",
       "      <td>0.000000</td>\n",
       "      <td>0.000000</td>\n",
       "      <td>0.000000</td>\n",
       "      <td>0.000000</td>\n",
       "      <td>0.000000</td>\n",
       "      <td>0.000000</td>\n",
       "      <td>0.000000</td>\n",
       "      <td>0.000000</td>\n",
       "    </tr>\n",
       "    <tr>\n",
       "      <th>max</th>\n",
       "      <td>2.017854e+09</td>\n",
       "      <td>2016.0</td>\n",
       "      <td>17.000000</td>\n",
       "      <td>21.000000</td>\n",
       "      <td>1.000000</td>\n",
       "      <td>20171.0</td>\n",
       "      <td>4.000000</td>\n",
       "      <td>11.000000</td>\n",
       "      <td>17.000000</td>\n",
       "      <td>17.000000</td>\n",
       "      <td>...</td>\n",
       "      <td>22.000000</td>\n",
       "      <td>18.000000</td>\n",
       "      <td>16.000000</td>\n",
       "      <td>17.000000</td>\n",
       "      <td>18.000000</td>\n",
       "      <td>16.000000</td>\n",
       "      <td>17.000000</td>\n",
       "      <td>19.000000</td>\n",
       "      <td>17.000000</td>\n",
       "      <td>15.000000</td>\n",
       "    </tr>\n",
       "  </tbody>\n",
       "</table>\n",
       "<p>8 rows × 342 columns</p>\n",
       "</div>"
      ],
      "text/plain": [
       "       Cod_Estudiante  PlanEstudio  UltimoPromSemestre  \\\n",
       "count    6.800000e+01         68.0           68.000000   \n",
       "mean     2.017726e+09       2016.0            9.294118   \n",
       "std      7.177645e+04          0.0            5.274718   \n",
       "min      2.017652e+09       2016.0            0.000000   \n",
       "25%      2.017653e+09       2016.0            5.750000   \n",
       "50%      2.017755e+09       2016.0           10.000000   \n",
       "75%      2.017757e+09       2016.0           14.000000   \n",
       "max      2.017854e+09       2016.0           17.000000   \n",
       "\n",
       "       RepeticionAsigAcumuladas  ReingresoOtraEscuela  SemestreIngreso  \\\n",
       "count                 68.000000             68.000000             68.0   \n",
       "mean                   4.691176              0.161765          20171.0   \n",
       "std                    4.990311              0.370973              0.0   \n",
       "min                    0.000000              0.000000          20171.0   \n",
       "25%                    0.000000              0.000000          20171.0   \n",
       "50%                    3.000000              0.000000          20171.0   \n",
       "75%                    8.000000              0.000000          20171.0   \n",
       "max                   21.000000              1.000000          20171.0   \n",
       "\n",
       "        NumSemCV  NumSemReg  PromEgresoSalida  Cod_AsignaturaCIAI1008  ...  \\\n",
       "count  68.000000  68.000000         68.000000               68.000000  ...   \n",
       "mean    0.455882   6.779412         10.838235                0.485294  ...   \n",
       "std     0.871332   3.519013          3.555993                2.809858  ...   \n",
       "min     0.000000   1.000000          0.000000                0.000000  ...   \n",
       "25%     0.000000   3.000000          9.000000                0.000000  ...   \n",
       "50%     0.000000   7.500000         12.000000                0.000000  ...   \n",
       "75%     1.000000  10.000000         13.000000                0.000000  ...   \n",
       "max     4.000000  11.000000         17.000000               17.000000  ...   \n",
       "\n",
       "       Cod_AsignaturaIS-826  Cod_AsignaturaIS-827  Cod_AsignaturaIS-921  \\\n",
       "count             68.000000             68.000000             68.000000   \n",
       "mean               1.000000              1.205882              1.117647   \n",
       "std                3.905603              4.195089              4.009427   \n",
       "min                0.000000              0.000000              0.000000   \n",
       "25%                0.000000              0.000000              0.000000   \n",
       "50%                0.000000              0.000000              0.000000   \n",
       "75%                0.000000              0.000000              0.000000   \n",
       "max               22.000000             18.000000             16.000000   \n",
       "\n",
       "       Cod_AsignaturaIS-922  Cod_AsignaturaIS-923  Cod_AsignaturaIS-924  \\\n",
       "count             68.000000             68.000000             68.000000   \n",
       "mean               0.955882              0.735294              0.720588   \n",
       "std                3.387571              3.471064              3.031406   \n",
       "min                0.000000              0.000000              0.000000   \n",
       "25%                0.000000              0.000000              0.000000   \n",
       "50%                0.000000              0.000000              0.000000   \n",
       "75%                0.000000              0.000000              0.000000   \n",
       "max               17.000000             18.000000             16.000000   \n",
       "\n",
       "       Cod_AsignaturaIS-925  Cod_AsignaturaIS-926  Cod_AsignaturaIS-927  \\\n",
       "count             68.000000             68.000000             68.000000   \n",
       "mean               0.897059              0.970588              0.720588   \n",
       "std                3.632933              3.935945              3.384978   \n",
       "min                0.000000              0.000000              0.000000   \n",
       "25%                0.000000              0.000000              0.000000   \n",
       "50%                0.000000              0.000000              0.000000   \n",
       "75%                0.000000              0.000000              0.000000   \n",
       "max               17.000000             19.000000             17.000000   \n",
       "\n",
       "       Cod_AsignaturaIS-928  \n",
       "count             68.000000  \n",
       "mean               0.220588  \n",
       "std                1.819017  \n",
       "min                0.000000  \n",
       "25%                0.000000  \n",
       "50%                0.000000  \n",
       "75%                0.000000  \n",
       "max               15.000000  \n",
       "\n",
       "[8 rows x 342 columns]"
      ]
     },
     "execution_count": 61,
     "metadata": {},
     "output_type": "execute_result"
    }
   ],
   "source": [
    "# Leer el conjunto de datos de envío\n",
    "# titanic_sub = pd.read_csv('data/titanic_test.csv')\n",
    "# titanic_sub.describe()\n",
    "\n",
    "# dfuni2017 = pd.read_csv('/dfuni2017_test.csv')\n",
    "\n",
    "# Ruta relativa a la carpeta \"DATA\"\n",
    "data_path = 'DATA/dfuni2017_test.csv'\n",
    "\n",
    "# Leer el archivo CSV\n",
    "dfuni2017_sub = pd.read_csv(data_path)\n",
    "\n",
    "# Verificar los datos leídos\n",
    "dfuni2017_sub\n",
    "\n",
    "dfuni2017_sub.describe()"
   ]
  },
  {
   "cell_type": "markdown",
   "id": "7843aa07-98ed-4cd7-a698-d6b012226eec",
   "metadata": {},
   "source": [
    "El paso más importante aquí es comprobar si hay nuevos niveles en las variables categóricas del conjunto de datos de envío que están ausentes en el conjunto de entrenamiento. Los identificamos y los establecemos en nuestro valor de marcador de posición \"-999\", es decir, los tratamos como valores perdidos. Esto garantiza la coherencia del entrenamiento, ya que, de lo contrario, el modelo no sabría qué hacer con los nuevos niveles del conjunto de datos enviado.\n"
   ]
  },
  {
   "cell_type": "code",
   "execution_count": 62,
   "id": "12ca825a-981c-485a-8ab0-bec482a29368",
   "metadata": {
    "tags": []
   },
   "outputs": [],
   "source": [
    "   \n",
    "for var in ['Escuela']:\n",
    "    new = list(set(dfuni2017_sub[var]) - set(dfuni2017[var]))\n",
    "    dfuni2017_sub.loc[dfuni2017_sub[var].isin(new), var] = -999\n",
    "    "
   ]
  },
  {
   "cell_type": "markdown",
   "id": "e2b14367-0741-4377-bf1e-f377cd3f27e6",
   "metadata": {},
   "source": [
    "A continuación, llevamos a cabo los pasos de munición de datos como se hizo anteriormente para el conjunto de datos de entrenamiento."
   ]
  },
  {
   "cell_type": "code",
   "execution_count": 63,
   "id": "e5de4ba4-5dc3-45a2-8ffc-9c0377157b3b",
   "metadata": {},
   "outputs": [],
   "source": [
    "# titanic_sub['Sex'] = titanic_sub['Sex'].map({'male':0,'female':1})\n",
    "# titanic_sub['Embarked'] = titanic_sub['Embarked'].map({'S':0,'C':1,'Q':2})"
   ]
  },
  {
   "cell_type": "code",
   "execution_count": 64,
   "id": "72a6a46a-90bf-418d-9220-852c606bee5b",
   "metadata": {},
   "outputs": [],
   "source": [
    "#  Cambiar tipo de datos\n",
    "dfuni2017_sub['Cod_Estudiante']=dfuni2017_sub['Cod_Estudiante'].astype(\"category\")\n",
    "dfuni2017_sub['TipoCole']=dfuni2017_sub['TipoCole'].astype(\"category\")\n",
    "dfuni2017_sub['ModalidadIngreso']=dfuni2017_sub['ModalidadIngreso'].astype(\"category\")\n",
    "dfuni2017_sub['Escuela']=dfuni2017_sub['Escuela'].astype(\"category\")\n",
    "dfuni2017_sub['Facultad']=dfuni2017_sub['Facultad'].astype(\"category\")\n",
    "dfuni2017_sub['PlanEstudio']=dfuni2017_sub['PlanEstudio'].astype(\"category\")\n",
    "# dfuni2017_sub['SemestreEnCurso']=dfuni2017_sub['SemestreEnCurso'].astype(\"category\")\n",
    "\n",
    "dfuni2017_sub['Sexo']=dfuni2017_sub['Sexo'].astype(\"category\")\n",
    "dfuni2017_sub['EstCivil']=dfuni2017_sub['EstCivil'].astype(\"category\")\n",
    "dfuni2017_sub['SemestreIngreso']=dfuni2017_sub['SemestreIngreso'].astype(\"category\")\n",
    "dfuni2017_sub['Filial']=dfuni2017_sub['Filial'].astype(\"category\")\n",
    "# dfuni2017_sub['ControlCicloAcad']=dfuni2017_sub['ControlCicloAcad'].astype(\"category\")\n",
    "# dfuni2017_sub['CicloAsig']=dfuni2017_sub['CicloAsig'].astype(\"category\")\n",
    "# dfuni2017_sub['Cod_Asignatura']=dfuni2017_sub['Cod_Asignatura'].astype(\"category\")\n",
    "dfuni2017_sub['CursaCV']=dfuni2017_sub['CursaCV'].astype(\"category\")\n",
    "# dfuni2017_sub['EstadoEstudiante']=dfuni2017_sub['EstadoEstudiante'].astype(\"int\")"
   ]
  },
  {
   "cell_type": "code",
   "execution_count": 65,
   "id": "959760fc-9665-4dca-9798-7d68ad1221f2",
   "metadata": {
    "tags": []
   },
   "outputs": [],
   "source": [
    "# En las siguientes lineas se estaria configurando las categoriasa  numerico pero de forma manual"
   ]
  },
  {
   "cell_type": "code",
   "execution_count": 66,
   "id": "8cfa608f-2d66-47d6-bef2-ea919f46eb95",
   "metadata": {
    "tags": []
   },
   "outputs": [],
   "source": [
    "# Llevar las categprías a formatos numéricos\n",
    "dfuni2017_sub['TipoCole'] = dfuni2017_sub['TipoCole'].map({'Publico':0,'Privado':1})\n",
    "dfuni2017_sub['ModalidadIngreso'] = dfuni2017_sub['ModalidadIngreso'].map({'OrdinarioGeneral':0,'1erosPuestosColegios':1,'CEPRE':2, 'Discapacidad':3, 'TituladosGraduadosUniversitarios':4})\n",
    "dfuni2017_sub['Facultad'] = dfuni2017_sub['Facultad'].map({'Letras':0,'Ingenieria':1})\n",
    "dfuni2017_sub['Escuela'] = dfuni2017_sub['Escuela'].map({'GPDS':0, 'IAgroindustrial':1, 'IAmbiental':2, 'IInformatica':3, 'IMinas':4, 'IPesquera':5})\n",
    "dfuni2017_sub['Sexo'] = dfuni2017_sub['Sexo'].map({'Male':0,'Fema':1})\n",
    "dfuni2017_sub['EstCivil'] = dfuni2017_sub['EstCivil'].map({'Soltero':0, 'Casado':1,'Divorciado':2,'Conviviente':3})\n",
    "# dfuni2017_sub['SemIngreso'] = dfuni2017_sub['SemIngreso'].map({20171:0,20172:1})\n",
    "dfuni2017_sub['Filial'] = dfuni2017_sub['Filial'].map({'M':0,'I':1,'Ich':1})\n",
    "# dfuni2017_sub['ControlCV'] = dfuni2017_sub['ControlCV'].map({20171:0,20172:1,20181:2,20182:3,20191:4,20192:5,20201:6,20202:7,20211:8,20212:9,20180:10,20190:11,20200:12,20210:13,20203:14})\n",
    "# dfuni2017_sub['CicloAsig'] = dfuni2017_sub['CicloAsig'].map({'I':0,'II':1,'III':2,'IV':3,'V':4,'VI':5,'VII':6,'VIII':7,'IX':8,'X':9})\n",
    "dfuni2017_sub['CursaCV'] = dfuni2017_sub['CursaCV'].map({'F':0,'T':1})\n",
    "# Falta codificar las asignaturas asignadas."
   ]
  },
  {
   "cell_type": "code",
   "execution_count": 67,
   "id": "a138618f-26a4-4d02-82c8-9de888c4a3f6",
   "metadata": {},
   "outputs": [
    {
     "name": "stdout",
     "output_type": "stream",
     "text": [
      "Niveles de categoria 'TipoCole': [0, 1]\n",
      "Categories (2, int64): [1, 0]\n",
      "Niveles de categoria 'ModalidadIngreso': [0, 1, 2, 3]\n",
      "Categories (4, int64): [1, 2, 3, 0]\n",
      "Niveles de categoria 'Facultad': [0, 1]\n",
      "Categories (2, int64): [1, 0]\n",
      "Niveles de categoria 'Escuela': [nan]\n",
      "Niveles de categoria 'Sexo': [1, 0]\n",
      "Categories (2, int64): [1, 0]\n",
      "Niveles de categoria 'EstCivil': [0, 1, 2]\n",
      "Categories (3, int64): [1, 2, 0]\n",
      "Niveles de categoria 'Filial': [0 1]\n",
      "Niveles de categoria 'CursaCV': [0, 1]\n",
      "Categories (2, int64): [0, 1]\n"
     ]
    }
   ],
   "source": [
    "for cat in ['TipoCole', 'ModalidadIngreso', 'Facultad', 'Escuela','Sexo', 'EstCivil',  'Filial',  'CursaCV']:\n",
    "    print(\"Niveles de categoria '{0}': {1}\".format(cat, dfuni2017_sub[cat].unique()))"
   ]
  },
  {
   "cell_type": "code",
   "execution_count": 68,
   "id": "edc1669c-c33f-4c34-bf07-0321bc068d16",
   "metadata": {},
   "outputs": [
    {
     "data": {
      "text/plain": [
       "Cod_Estudiante          False\n",
       "TipoCole                False\n",
       "ModalidadIngreso        False\n",
       "Escuela                 False\n",
       "Facultad                False\n",
       "                        ...  \n",
       "Cod_AsignaturaIS-924    False\n",
       "Cod_AsignaturaIS-925    False\n",
       "Cod_AsignaturaIS-926    False\n",
       "Cod_AsignaturaIS-927    False\n",
       "Cod_AsignaturaIS-928    False\n",
       "Length: 352, dtype: bool"
      ]
     },
     "execution_count": 68,
     "metadata": {},
     "output_type": "execute_result"
    }
   ],
   "source": [
    "dfuni2017_sub = dfuni2017_sub.fillna(-999)\n",
    "pd.isnull(dfuni2017_sub).any()"
   ]
  },
  {
   "cell_type": "markdown",
   "id": "2b1a17ae-28d8-4f10-8f6c-9893ae0197f2",
   "metadata": {},
   "source": [
    "Al llamar a MultiLabelBinarizer para el conjunto de datos de envío, primero ajustamos de nuevo el conjunto de datos de entrenamiento para aprender los niveles y, a continuación, transformamos los valores del conjunto de datos de envío. Esto garantiza que sólo se transformen los niveles presentes en el conjunto de datos de entrenamiento. Si se siguen encontrando nuevos niveles en el conjunto de datos enviado, se producirá un error y tendremos que volver atrás y comprobar el paso anterior de sustituir los nuevos niveles por el valor del marcador de posición."
   ]
  },
  {
   "cell_type": "code",
   "execution_count": 69,
   "id": "bb8bc22b-9af4-4bb2-9cbb-f410adcc81f8",
   "metadata": {},
   "outputs": [
    {
     "name": "stderr",
     "output_type": "stream",
     "text": [
      "C:\\Users\\Usuario\\AppData\\Local\\Programs\\Python\\Python310\\lib\\site-packages\\sklearn\\preprocessing\\_label.py:895: UserWarning: unknown class(es) ['-999.0'] will be ignored\n",
      "  warnings.warn(\n"
     ]
    }
   ],
   "source": [
    "from sklearn.preprocessing import MultiLabelBinarizer\n",
    "mlb = MultiLabelBinarizer()\n",
    "SubEscuelaTrans = mlb.fit([{str(val)} for val in dfuni2017['Escuela'].values]).transform([{str(val)} for val in dfuni2017_sub['Escuela'].values])\n",
    "# Eliminamos campos\n",
    "dfuni2017_sub.drop(['Cod_Asignatura','PlanEstudio',\"SemestreIngreso\"],axis=1,inplace=True)\n"
   ]
  },
  {
   "cell_type": "code",
   "execution_count": 70,
   "id": "dba18250-e04b-4dcb-81fb-92191a5d3580",
   "metadata": {},
   "outputs": [],
   "source": [
    "# Formar el nuevo conjunto de datos de presentación\n",
    "dfuni2017_sub_new = np.hstack((dfuni2017_sub.values,SubEscuelaTrans))"
   ]
  },
  {
   "cell_type": "code",
   "execution_count": 71,
   "id": "3bc1e939-77aa-4c8b-82fc-62788acc1007",
   "metadata": {},
   "outputs": [],
   "source": [
    "# np.any(np.isnan(dfuni2017_sub_new))"
   ]
  },
  {
   "cell_type": "code",
   "execution_count": 72,
   "id": "21f74f45-b035-451b-bb73-dfd0d95436ab",
   "metadata": {},
   "outputs": [],
   "source": [
    "# Se elimine las características que no serán utilizadas del conjunto de datos.\n",
    "dfuni2017_new = dfuni2017.drop(['Escuela', 'Cod_Estudiante'], axis=1)"
   ]
  },
  {
   "cell_type": "code",
   "execution_count": 73,
   "id": "61f5b484-c35e-45b7-9478-43c7fe926067",
   "metadata": {},
   "outputs": [],
   "source": [
    " # Garantizar el mismo número de características tanto en el conjunto de datos final de entrenamiento como en el de envío.\n",
    "# assert (dfuni2017_new.shape[1] == dfuni2017_sub_new.shape[1]), 'Not Equal'"
   ]
  },
  {
   "cell_type": "code",
   "execution_count": 74,
   "id": "1fa86ef2-2e34-49f3-ac68-6071b3e8ee18",
   "metadata": {},
   "outputs": [
    {
     "name": "stdout",
     "output_type": "stream",
     "text": [
      "Número de columnas en dfuni2017_new: 347\n",
      "Número de columnas en dfuni2017_sub_new: 355\n"
     ]
    }
   ],
   "source": [
    "# Para verificar el tamaño de cada dataframe\n",
    "print(\"Número de columnas en dfuni2017_new:\", dfuni2017_new.shape[1])\n",
    "print(\"Número de columnas en dfuni2017_sub_new:\", dfuni2017_sub_new.shape[1])"
   ]
  },
  {
   "cell_type": "code",
   "execution_count": 75,
   "id": "334413a1-7740-47e8-a24e-3b3aa1db5494",
   "metadata": {},
   "outputs": [],
   "source": [
    "# Observación, debemos examinar cada dataframe para corregir la desigualdad."
   ]
  },
  {
   "cell_type": "code",
   "execution_count": null,
   "id": "59ff1e39-f723-4c80-a0e2-3736bbefdc37",
   "metadata": {},
   "outputs": [],
   "source": []
  },
  {
   "cell_type": "code",
   "execution_count": null,
   "id": "e7192746-ce5f-42cb-a23b-f814bc52af70",
   "metadata": {},
   "outputs": [],
   "source": []
  },
  {
   "cell_type": "code",
   "execution_count": null,
   "id": "3a0a9e63-f40a-4eaf-a615-0860ac8b9983",
   "metadata": {},
   "outputs": [],
   "source": []
  },
  {
   "cell_type": "code",
   "execution_count": null,
   "id": "1ec0edb8-d3ea-4ae8-b370-c62bc0b7ca98",
   "metadata": {},
   "outputs": [],
   "source": []
  },
  {
   "cell_type": "code",
   "execution_count": null,
   "id": "eeafedc4-c4e5-4b0c-a024-928a103dca80",
   "metadata": {},
   "outputs": [],
   "source": []
  },
  {
   "cell_type": "code",
   "execution_count": null,
   "id": "395b4a06-1db6-4411-a7f3-1aa18a6eed37",
   "metadata": {},
   "outputs": [],
   "source": []
  },
  {
   "cell_type": "code",
   "execution_count": null,
   "id": "4539b103-3b15-4354-be7c-c8f282458de4",
   "metadata": {},
   "outputs": [],
   "source": []
  },
  {
   "cell_type": "code",
   "execution_count": null,
   "id": "afa3a25c-c204-4ba7-a460-6d03e9b51621",
   "metadata": {},
   "outputs": [],
   "source": []
  },
  {
   "cell_type": "code",
   "execution_count": null,
   "id": "e2a895ce-501e-4abc-a88d-5b1328800683",
   "metadata": {},
   "outputs": [],
   "source": []
  },
  {
   "cell_type": "code",
   "execution_count": null,
   "id": "c79522df-ecaa-4f82-8765-b109711210b2",
   "metadata": {},
   "outputs": [],
   "source": []
  },
  {
   "cell_type": "code",
   "execution_count": null,
   "id": "d3d69df5-0794-4d77-862f-99bd58fd3868",
   "metadata": {},
   "outputs": [],
   "source": []
  }
 ],
 "metadata": {
  "kernelspec": {
   "display_name": "Python 3 (ipykernel)",
   "language": "python",
   "name": "python3"
  },
  "language_info": {
   "codemirror_mode": {
    "name": "ipython",
    "version": 3
   },
   "file_extension": ".py",
   "mimetype": "text/x-python",
   "name": "python",
   "nbconvert_exporter": "python",
   "pygments_lexer": "ipython3",
   "version": "3.10.7"
  }
 },
 "nbformat": 4,
 "nbformat_minor": 5
}
