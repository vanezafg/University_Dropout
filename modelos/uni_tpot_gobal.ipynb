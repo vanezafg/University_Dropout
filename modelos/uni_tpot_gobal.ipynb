{
 "cells": [
  {
   "cell_type": "code",
   "execution_count": 1,
   "id": "42d388f4-4a2d-436c-ae37-ef20f0fc02e8",
   "metadata": {
    "tags": []
   },
   "outputs": [],
   "source": [
    "# Se analiza la totalidad de estudiantes matriculados desde el periodo 20161 hasta el 20211\n",
    "# En este grupo se integrada sólo 6 carreras profesionales, se excluye Administración e ICivil.\n",
    "# Se maneja una población de 2259 registros únicos con 295 columnas pivoteadas en función a CodAsig.\n",
    "# dfuniGlobal_train = 1581 Registros (70%)\n",
    "# dfuniGlobal_test =   696 Registros (30%)"
   ]
  },
  {
   "cell_type": "code",
   "execution_count": 2,
   "id": "46605920-12c9-4cf2-a237-af9a74419e5d",
   "metadata": {},
   "outputs": [
    {
     "name": "stdout",
     "output_type": "stream",
     "text": [
      "Requirement already satisfied: tpot in c:\\users\\usuario\\appdata\\local\\programs\\python\\python310\\lib\\site-packages (0.11.7)\n",
      "Requirement already satisfied: scikit-learn>=0.22.0 in c:\\users\\usuario\\appdata\\local\\programs\\python\\python310\\lib\\site-packages (from tpot) (1.2.2)\n",
      "Requirement already satisfied: scipy>=1.3.1 in c:\\users\\usuario\\appdata\\local\\programs\\python\\python310\\lib\\site-packages (from tpot) (1.10.1)\n",
      "Requirement already satisfied: stopit>=1.1.1 in c:\\users\\usuario\\appdata\\local\\programs\\python\\python310\\lib\\site-packages (from tpot) (1.1.2)\n",
      "Requirement already satisfied: update-checker>=0.16 in c:\\users\\usuario\\appdata\\local\\programs\\python\\python310\\lib\\site-packages (from tpot) (0.18.0)\n",
      "Requirement already satisfied: numpy>=1.16.3 in c:\\users\\usuario\\appdata\\local\\programs\\python\\python310\\lib\\site-packages (from tpot) (1.23.5)\n",
      "Requirement already satisfied: tqdm>=4.36.1 in c:\\users\\usuario\\appdata\\local\\programs\\python\\python310\\lib\\site-packages (from tpot) (4.65.0)\n",
      "Requirement already satisfied: joblib>=0.13.2 in c:\\users\\usuario\\appdata\\local\\programs\\python\\python310\\lib\\site-packages (from tpot) (1.2.0)\n",
      "Requirement already satisfied: deap>=1.2 in c:\\users\\usuario\\appdata\\local\\programs\\python\\python310\\lib\\site-packages (from tpot) (1.3.3)\n",
      "Requirement already satisfied: pandas>=0.24.2 in c:\\users\\usuario\\appdata\\local\\programs\\python\\python310\\lib\\site-packages (from tpot) (1.5.3)\n",
      "Requirement already satisfied: xgboost>=1.1.0 in c:\\users\\usuario\\appdata\\local\\programs\\python\\python310\\lib\\site-packages (from tpot) (1.7.4)\n",
      "Requirement already satisfied: pytz>=2020.1 in c:\\users\\usuario\\appdata\\local\\programs\\python\\python310\\lib\\site-packages (from pandas>=0.24.2->tpot) (2022.7.1)\n",
      "Requirement already satisfied: python-dateutil>=2.8.1 in c:\\users\\usuario\\appdata\\local\\programs\\python\\python310\\lib\\site-packages (from pandas>=0.24.2->tpot) (2.8.2)\n",
      "Requirement already satisfied: threadpoolctl>=2.0.0 in c:\\users\\usuario\\appdata\\local\\programs\\python\\python310\\lib\\site-packages (from scikit-learn>=0.22.0->tpot) (3.1.0)\n",
      "Requirement already satisfied: colorama in c:\\users\\usuario\\appdata\\local\\programs\\python\\python310\\lib\\site-packages (from tqdm>=4.36.1->tpot) (0.4.5)\n",
      "Requirement already satisfied: requests>=2.3.0 in c:\\users\\usuario\\appdata\\local\\programs\\python\\python310\\lib\\site-packages (from update-checker>=0.16->tpot) (2.28.1)\n",
      "Requirement already satisfied: six>=1.5 in c:\\users\\usuario\\appdata\\local\\programs\\python\\python310\\lib\\site-packages (from python-dateutil>=2.8.1->pandas>=0.24.2->tpot) (1.16.0)\n",
      "Requirement already satisfied: charset-normalizer<3,>=2 in c:\\users\\usuario\\appdata\\local\\programs\\python\\python310\\lib\\site-packages (from requests>=2.3.0->update-checker>=0.16->tpot) (2.1.1)\n",
      "Requirement already satisfied: urllib3<1.27,>=1.21.1 in c:\\users\\usuario\\appdata\\local\\programs\\python\\python310\\lib\\site-packages (from requests>=2.3.0->update-checker>=0.16->tpot) (1.26.12)\n",
      "Requirement already satisfied: certifi>=2017.4.17 in c:\\users\\usuario\\appdata\\local\\programs\\python\\python310\\lib\\site-packages (from requests>=2.3.0->update-checker>=0.16->tpot) (2022.9.24)\n",
      "Requirement already satisfied: idna<4,>=2.5 in c:\\users\\usuario\\appdata\\local\\programs\\python\\python310\\lib\\site-packages (from requests>=2.3.0->update-checker>=0.16->tpot) (3.4)\n"
     ]
    },
    {
     "name": "stderr",
     "output_type": "stream",
     "text": [
      "\n",
      "[notice] A new release of pip is available: 23.0.1 -> 23.1.2\n",
      "[notice] To update, run: python.exe -m pip install --upgrade pip\n"
     ]
    }
   ],
   "source": [
    "# Instalando tpot\n",
    "!pip install tpot"
   ]
  },
  {
   "cell_type": "code",
   "execution_count": 87,
   "id": "af30fd28-02bf-4cb6-ac84-dcc54b5051eb",
   "metadata": {},
   "outputs": [],
   "source": [
    "# Importar librerias\n",
    "from tpot import TPOTClassifier\n",
    "from sklearn.model_selection import train_test_split\n",
    "import pandas as pd\n",
    "import numpy as np"
   ]
  },
  {
   "cell_type": "code",
   "execution_count": 88,
   "id": "c440b53b-913c-4507-85cd-d9a9d7a41f84",
   "metadata": {},
   "outputs": [
    {
     "data": {
      "text/html": [
       "<div>\n",
       "<style scoped>\n",
       "    .dataframe tbody tr th:only-of-type {\n",
       "        vertical-align: middle;\n",
       "    }\n",
       "\n",
       "    .dataframe tbody tr th {\n",
       "        vertical-align: top;\n",
       "    }\n",
       "\n",
       "    .dataframe thead th {\n",
       "        text-align: right;\n",
       "    }\n",
       "</style>\n",
       "<table border=\"1\" class=\"dataframe\">\n",
       "  <thead>\n",
       "    <tr style=\"text-align: right;\">\n",
       "      <th></th>\n",
       "      <th>Cod_Estudiante</th>\n",
       "      <th>TipoCole</th>\n",
       "      <th>ModalidadIngreso</th>\n",
       "      <th>Escuela</th>\n",
       "      <th>Facultad</th>\n",
       "      <th>UltimoPromSemestre</th>\n",
       "      <th>RepeticionAsigAcumuladas</th>\n",
       "      <th>ReingresoOtraEscuela</th>\n",
       "      <th>Sexo</th>\n",
       "      <th>EstCivil</th>\n",
       "      <th>...</th>\n",
       "      <th>Cod_AsignaturaISSDS07</th>\n",
       "      <th>Cod_AsignaturaISSDT10</th>\n",
       "      <th>Cod_AsignaturaISSEX07</th>\n",
       "      <th>Cod_AsignaturaISSIM09</th>\n",
       "      <th>Cod_AsignaturaISSOP06</th>\n",
       "      <th>Cod_AsignaturaISSSI09</th>\n",
       "      <th>Cod_AsignaturaISSTD08</th>\n",
       "      <th>Cod_AsignaturaISTGS05</th>\n",
       "      <th>Cod_AsignaturaISTYT10</th>\n",
       "      <th>AnioAcademico</th>\n",
       "    </tr>\n",
       "  </thead>\n",
       "  <tbody>\n",
       "    <tr>\n",
       "      <th>0</th>\n",
       "      <td>2016653801</td>\n",
       "      <td>Publico</td>\n",
       "      <td>OrdinarioGeneral</td>\n",
       "      <td>IMinas</td>\n",
       "      <td>Ingenieria</td>\n",
       "      <td>7</td>\n",
       "      <td>0</td>\n",
       "      <td>0</td>\n",
       "      <td>Fema</td>\n",
       "      <td>Soltero</td>\n",
       "      <td>...</td>\n",
       "      <td>0</td>\n",
       "      <td>0</td>\n",
       "      <td>0</td>\n",
       "      <td>0</td>\n",
       "      <td>0</td>\n",
       "      <td>0</td>\n",
       "      <td>0</td>\n",
       "      <td>0</td>\n",
       "      <td>0</td>\n",
       "      <td>Primero</td>\n",
       "    </tr>\n",
       "    <tr>\n",
       "      <th>1</th>\n",
       "      <td>2021653788</td>\n",
       "      <td>Publico</td>\n",
       "      <td>OrdinarioGeneral</td>\n",
       "      <td>IMinas</td>\n",
       "      <td>Ingenieria</td>\n",
       "      <td>0</td>\n",
       "      <td>2</td>\n",
       "      <td>0</td>\n",
       "      <td>Male</td>\n",
       "      <td>Soltero</td>\n",
       "      <td>...</td>\n",
       "      <td>0</td>\n",
       "      <td>0</td>\n",
       "      <td>0</td>\n",
       "      <td>0</td>\n",
       "      <td>0</td>\n",
       "      <td>0</td>\n",
       "      <td>0</td>\n",
       "      <td>0</td>\n",
       "      <td>0</td>\n",
       "      <td>Primero</td>\n",
       "    </tr>\n",
       "    <tr>\n",
       "      <th>2</th>\n",
       "      <td>2021853767</td>\n",
       "      <td>Publico</td>\n",
       "      <td>OrdinarioGeneral</td>\n",
       "      <td>IMinas</td>\n",
       "      <td>Ingenieria</td>\n",
       "      <td>5</td>\n",
       "      <td>0</td>\n",
       "      <td>0</td>\n",
       "      <td>Male</td>\n",
       "      <td>Soltero</td>\n",
       "      <td>...</td>\n",
       "      <td>0</td>\n",
       "      <td>0</td>\n",
       "      <td>0</td>\n",
       "      <td>0</td>\n",
       "      <td>0</td>\n",
       "      <td>0</td>\n",
       "      <td>0</td>\n",
       "      <td>0</td>\n",
       "      <td>0</td>\n",
       "      <td>Primero</td>\n",
       "    </tr>\n",
       "    <tr>\n",
       "      <th>3</th>\n",
       "      <td>2017653824</td>\n",
       "      <td>Publico</td>\n",
       "      <td>OrdinarioGeneral</td>\n",
       "      <td>IMinas</td>\n",
       "      <td>Ingenieria</td>\n",
       "      <td>0</td>\n",
       "      <td>0</td>\n",
       "      <td>0</td>\n",
       "      <td>Male</td>\n",
       "      <td>Soltero</td>\n",
       "      <td>...</td>\n",
       "      <td>0</td>\n",
       "      <td>0</td>\n",
       "      <td>0</td>\n",
       "      <td>0</td>\n",
       "      <td>0</td>\n",
       "      <td>0</td>\n",
       "      <td>0</td>\n",
       "      <td>0</td>\n",
       "      <td>0</td>\n",
       "      <td>Primero</td>\n",
       "    </tr>\n",
       "    <tr>\n",
       "      <th>4</th>\n",
       "      <td>2017651787</td>\n",
       "      <td>Publico</td>\n",
       "      <td>1erosPuestosColegios</td>\n",
       "      <td>GPDS</td>\n",
       "      <td>Letras</td>\n",
       "      <td>13</td>\n",
       "      <td>1</td>\n",
       "      <td>0</td>\n",
       "      <td>Fema</td>\n",
       "      <td>Soltero</td>\n",
       "      <td>...</td>\n",
       "      <td>0</td>\n",
       "      <td>0</td>\n",
       "      <td>0</td>\n",
       "      <td>0</td>\n",
       "      <td>0</td>\n",
       "      <td>0</td>\n",
       "      <td>0</td>\n",
       "      <td>0</td>\n",
       "      <td>0</td>\n",
       "      <td>Primero</td>\n",
       "    </tr>\n",
       "    <tr>\n",
       "      <th>...</th>\n",
       "      <td>...</td>\n",
       "      <td>...</td>\n",
       "      <td>...</td>\n",
       "      <td>...</td>\n",
       "      <td>...</td>\n",
       "      <td>...</td>\n",
       "      <td>...</td>\n",
       "      <td>...</td>\n",
       "      <td>...</td>\n",
       "      <td>...</td>\n",
       "      <td>...</td>\n",
       "      <td>...</td>\n",
       "      <td>...</td>\n",
       "      <td>...</td>\n",
       "      <td>...</td>\n",
       "      <td>...</td>\n",
       "      <td>...</td>\n",
       "      <td>...</td>\n",
       "      <td>...</td>\n",
       "      <td>...</td>\n",
       "      <td>...</td>\n",
       "    </tr>\n",
       "    <tr>\n",
       "      <th>1576</th>\n",
       "      <td>2020651797</td>\n",
       "      <td>Ausente_TipoCole</td>\n",
       "      <td>CEPRE</td>\n",
       "      <td>GPDS</td>\n",
       "      <td>Letras</td>\n",
       "      <td>14</td>\n",
       "      <td>0</td>\n",
       "      <td>0</td>\n",
       "      <td>Male</td>\n",
       "      <td>Soltero</td>\n",
       "      <td>...</td>\n",
       "      <td>0</td>\n",
       "      <td>0</td>\n",
       "      <td>0</td>\n",
       "      <td>0</td>\n",
       "      <td>0</td>\n",
       "      <td>0</td>\n",
       "      <td>0</td>\n",
       "      <td>0</td>\n",
       "      <td>0</td>\n",
       "      <td>Primero</td>\n",
       "    </tr>\n",
       "    <tr>\n",
       "      <th>1577</th>\n",
       "      <td>2018755807</td>\n",
       "      <td>Ausente_TipoCole</td>\n",
       "      <td>OrdinarioGeneral</td>\n",
       "      <td>IAmbiental</td>\n",
       "      <td>Ingenieria</td>\n",
       "      <td>0</td>\n",
       "      <td>1</td>\n",
       "      <td>0</td>\n",
       "      <td>Fema</td>\n",
       "      <td>Soltero</td>\n",
       "      <td>...</td>\n",
       "      <td>0</td>\n",
       "      <td>0</td>\n",
       "      <td>0</td>\n",
       "      <td>0</td>\n",
       "      <td>0</td>\n",
       "      <td>0</td>\n",
       "      <td>0</td>\n",
       "      <td>0</td>\n",
       "      <td>0</td>\n",
       "      <td>Primero</td>\n",
       "    </tr>\n",
       "    <tr>\n",
       "      <th>1578</th>\n",
       "      <td>2018651808</td>\n",
       "      <td>Ausente_TipoCole</td>\n",
       "      <td>OrdinarioGeneral</td>\n",
       "      <td>GPDS</td>\n",
       "      <td>Letras</td>\n",
       "      <td>13</td>\n",
       "      <td>0</td>\n",
       "      <td>0</td>\n",
       "      <td>Fema</td>\n",
       "      <td>Soltero</td>\n",
       "      <td>...</td>\n",
       "      <td>0</td>\n",
       "      <td>0</td>\n",
       "      <td>0</td>\n",
       "      <td>0</td>\n",
       "      <td>0</td>\n",
       "      <td>0</td>\n",
       "      <td>0</td>\n",
       "      <td>0</td>\n",
       "      <td>0</td>\n",
       "      <td>Primero</td>\n",
       "    </tr>\n",
       "    <tr>\n",
       "      <th>1579</th>\n",
       "      <td>2019754784</td>\n",
       "      <td>Publico</td>\n",
       "      <td>OrdinarioGeneral</td>\n",
       "      <td>IInformatica</td>\n",
       "      <td>Ingenieria</td>\n",
       "      <td>11</td>\n",
       "      <td>0</td>\n",
       "      <td>1</td>\n",
       "      <td>Fema</td>\n",
       "      <td>Soltero</td>\n",
       "      <td>...</td>\n",
       "      <td>0</td>\n",
       "      <td>0</td>\n",
       "      <td>0</td>\n",
       "      <td>0</td>\n",
       "      <td>0</td>\n",
       "      <td>0</td>\n",
       "      <td>0</td>\n",
       "      <td>0</td>\n",
       "      <td>0</td>\n",
       "      <td>Primero</td>\n",
       "    </tr>\n",
       "    <tr>\n",
       "      <th>1580</th>\n",
       "      <td>2018754756</td>\n",
       "      <td>Publico</td>\n",
       "      <td>OrdinarioGeneral</td>\n",
       "      <td>IInformatica</td>\n",
       "      <td>Ingenieria</td>\n",
       "      <td>0</td>\n",
       "      <td>0</td>\n",
       "      <td>0</td>\n",
       "      <td>Male</td>\n",
       "      <td>Soltero</td>\n",
       "      <td>...</td>\n",
       "      <td>0</td>\n",
       "      <td>0</td>\n",
       "      <td>0</td>\n",
       "      <td>0</td>\n",
       "      <td>0</td>\n",
       "      <td>0</td>\n",
       "      <td>0</td>\n",
       "      <td>0</td>\n",
       "      <td>0</td>\n",
       "      <td>Primero</td>\n",
       "    </tr>\n",
       "  </tbody>\n",
       "</table>\n",
       "<p>1581 rows × 696 columns</p>\n",
       "</div>"
      ],
      "text/plain": [
       "      Cod_Estudiante          TipoCole      ModalidadIngreso       Escuela  \\\n",
       "0         2016653801           Publico      OrdinarioGeneral        IMinas   \n",
       "1         2021653788           Publico      OrdinarioGeneral        IMinas   \n",
       "2         2021853767           Publico      OrdinarioGeneral        IMinas   \n",
       "3         2017653824           Publico      OrdinarioGeneral        IMinas   \n",
       "4         2017651787           Publico  1erosPuestosColegios          GPDS   \n",
       "...              ...               ...                   ...           ...   \n",
       "1576      2020651797  Ausente_TipoCole                 CEPRE          GPDS   \n",
       "1577      2018755807  Ausente_TipoCole      OrdinarioGeneral    IAmbiental   \n",
       "1578      2018651808  Ausente_TipoCole      OrdinarioGeneral          GPDS   \n",
       "1579      2019754784           Publico      OrdinarioGeneral  IInformatica   \n",
       "1580      2018754756           Publico      OrdinarioGeneral  IInformatica   \n",
       "\n",
       "        Facultad  UltimoPromSemestre  RepeticionAsigAcumuladas  \\\n",
       "0     Ingenieria                   7                         0   \n",
       "1     Ingenieria                   0                         2   \n",
       "2     Ingenieria                   5                         0   \n",
       "3     Ingenieria                   0                         0   \n",
       "4         Letras                  13                         1   \n",
       "...          ...                 ...                       ...   \n",
       "1576      Letras                  14                         0   \n",
       "1577  Ingenieria                   0                         1   \n",
       "1578      Letras                  13                         0   \n",
       "1579  Ingenieria                  11                         0   \n",
       "1580  Ingenieria                   0                         0   \n",
       "\n",
       "      ReingresoOtraEscuela  Sexo EstCivil  ...  Cod_AsignaturaISSDS07  \\\n",
       "0                        0  Fema  Soltero  ...                      0   \n",
       "1                        0  Male  Soltero  ...                      0   \n",
       "2                        0  Male  Soltero  ...                      0   \n",
       "3                        0  Male  Soltero  ...                      0   \n",
       "4                        0  Fema  Soltero  ...                      0   \n",
       "...                    ...   ...      ...  ...                    ...   \n",
       "1576                     0  Male  Soltero  ...                      0   \n",
       "1577                     0  Fema  Soltero  ...                      0   \n",
       "1578                     0  Fema  Soltero  ...                      0   \n",
       "1579                     1  Fema  Soltero  ...                      0   \n",
       "1580                     0  Male  Soltero  ...                      0   \n",
       "\n",
       "     Cod_AsignaturaISSDT10 Cod_AsignaturaISSEX07 Cod_AsignaturaISSIM09  \\\n",
       "0                        0                     0                     0   \n",
       "1                        0                     0                     0   \n",
       "2                        0                     0                     0   \n",
       "3                        0                     0                     0   \n",
       "4                        0                     0                     0   \n",
       "...                    ...                   ...                   ...   \n",
       "1576                     0                     0                     0   \n",
       "1577                     0                     0                     0   \n",
       "1578                     0                     0                     0   \n",
       "1579                     0                     0                     0   \n",
       "1580                     0                     0                     0   \n",
       "\n",
       "     Cod_AsignaturaISSOP06  Cod_AsignaturaISSSI09  Cod_AsignaturaISSTD08  \\\n",
       "0                        0                      0                      0   \n",
       "1                        0                      0                      0   \n",
       "2                        0                      0                      0   \n",
       "3                        0                      0                      0   \n",
       "4                        0                      0                      0   \n",
       "...                    ...                    ...                    ...   \n",
       "1576                     0                      0                      0   \n",
       "1577                     0                      0                      0   \n",
       "1578                     0                      0                      0   \n",
       "1579                     0                      0                      0   \n",
       "1580                     0                      0                      0   \n",
       "\n",
       "      Cod_AsignaturaISTGS05  Cod_AsignaturaISTYT10  AnioAcademico  \n",
       "0                         0                      0        Primero  \n",
       "1                         0                      0        Primero  \n",
       "2                         0                      0        Primero  \n",
       "3                         0                      0        Primero  \n",
       "4                         0                      0        Primero  \n",
       "...                     ...                    ...            ...  \n",
       "1576                      0                      0        Primero  \n",
       "1577                      0                      0        Primero  \n",
       "1578                      0                      0        Primero  \n",
       "1579                      0                      0        Primero  \n",
       "1580                      0                      0        Primero  \n",
       "\n",
       "[1581 rows x 696 columns]"
      ]
     },
     "execution_count": 88,
     "metadata": {},
     "output_type": "execute_result"
    }
   ],
   "source": [
    "# Cargando datos, corresponde al periodo comprendido entre 2016-1 hasta el 2021-2 (población universal de estudiantes).\n",
    "\n",
    "# Ruta relativa a la carpeta \"DATA\"\n",
    "data_path = 'DATA/dfuniGlobal_train.csv'\n",
    "\n",
    "# Leer el archivo CSV\n",
    "dfuniGlobal = pd.read_csv(data_path)\n",
    "\n",
    "# Verificar los datos leídos\n",
    "dfuniGlobal\n"
   ]
  },
  {
   "cell_type": "code",
   "execution_count": 89,
   "id": "f6ccb042-8a9f-44f2-a7bd-956d7fb794b1",
   "metadata": {},
   "outputs": [],
   "source": [
    "# Observación. Se esta considerando dfuniGlobal_train = 1581 Registros"
   ]
  },
  {
   "cell_type": "code",
   "execution_count": 90,
   "id": "0c03e6ab-2b7b-4a19-8652-e7e25192ecbe",
   "metadata": {},
   "outputs": [
    {
     "name": "stdout",
     "output_type": "stream",
     "text": [
      "<class 'pandas.core.frame.DataFrame'>\n",
      "RangeIndex: 1581 entries, 0 to 1580\n",
      "Columns: 696 entries, Cod_Estudiante to AnioAcademico\n",
      "dtypes: int64(685), object(11)\n",
      "memory usage: 8.4+ MB\n"
     ]
    }
   ],
   "source": [
    "dfuniGlobal.info()"
   ]
  },
  {
   "cell_type": "code",
   "execution_count": null,
   "id": "c7a6ff1e-67e4-4bb8-9457-98c1966307de",
   "metadata": {},
   "outputs": [],
   "source": []
  },
  {
   "cell_type": "code",
   "execution_count": 91,
   "id": "28cd033c-9021-4475-ba75-090fc52c50da",
   "metadata": {},
   "outputs": [],
   "source": [
    "#  Cambiar tipo de datos\n",
    "dfuniGlobal['Cod_Estudiante']=dfuniGlobal['Cod_Estudiante'].astype(\"category\")\n",
    "dfuniGlobal['TipoCole']=dfuniGlobal['TipoCole'].astype(\"category\")\n",
    "dfuniGlobal['ModalidadIngreso']=dfuniGlobal['ModalidadIngreso'].astype(\"category\")\n",
    "dfuniGlobal['Escuela']=dfuniGlobal['Escuela'].astype(\"category\")\n",
    "dfuniGlobal['Facultad']=dfuniGlobal['Facultad'].astype(\"category\")\n",
    "#dfuniGlobal['PlanEstudio']=dfuniGlobal['PlanEstudio'].astype(\"category\")\n",
    "# dfuniGlobal['SemestreEnCurso']=dfuniGlobal['SemestreEnCurso'].astype(\"category\")\n",
    "\n",
    "dfuniGlobal['Sexo']=dfuniGlobal['Sexo'].astype(\"category\")\n",
    "dfuniGlobal['EstCivil']=dfuniGlobal['EstCivil'].astype(\"category\")\n",
    "dfuniGlobal['SemestreIngreso']=dfuniGlobal['SemestreIngreso'].astype(\"category\") # Ojo puede requerir operar como numerico.\n",
    "dfuniGlobal['Filial']=dfuniGlobal['Filial'].astype(\"category\")\n",
    "# dfuniGlobal['ControlCicloAcad']=dfuniGlobal['ControlCicloAcad'].astype(\"category\")\n",
    "# dfuniGlobal['CicloAsig']=dfuniGlobal['CicloAsig'].astype(\"category\")\n",
    "# dfuniGlobal['Cod_Asignatura']=dfuniGlobal['Cod_Asignatura'].astype(\"category\")\n",
    "dfuniGlobal['CursaCV']=dfuniGlobal['CursaCV'].astype(\"category\")\n",
    "dfuniGlobal['AnioAcademico']=dfuniGlobal['AnioAcademico'].astype(\"category\")\n",
    "# dfuniGlobal['EstadoEstudiante']=dfuniGlobal['EstadoEstudiante'].astype(\"int\")"
   ]
  },
  {
   "cell_type": "code",
   "execution_count": 92,
   "id": "92e67653-5e0d-45c3-be31-26d36f29b902",
   "metadata": {
    "tags": []
   },
   "outputs": [],
   "source": [
    "# Reemplazar los valores en la columna del Estado del estudiante, variable = EstadoEst\n",
    "dfuniGlobal['EstadoEstudiante'] = dfuniGlobal['EstadoEstudiante'].replace({\"No_Deserto\": 0, \"Deserto\": 1})"
   ]
  },
  {
   "cell_type": "code",
   "execution_count": 93,
   "id": "f838d787-c0bb-429a-b62f-25e5ba87d126",
   "metadata": {
    "tags": []
   },
   "outputs": [],
   "source": [
    "# Cambiar tipo de dato\n",
    "dfuniGlobal['EstadoEstudiante']=dfuniGlobal['EstadoEstudiante'].astype(\"int\")"
   ]
  },
  {
   "cell_type": "code",
   "execution_count": 94,
   "id": "704dbfe6-4ef1-49fe-b605-3a2696f3bd52",
   "metadata": {},
   "outputs": [
    {
     "name": "stdout",
     "output_type": "stream",
     "text": [
      "<class 'pandas.core.frame.DataFrame'>\n",
      "RangeIndex: 1581 entries, 0 to 1580\n",
      "Columns: 696 entries, Cod_Estudiante to AnioAcademico\n",
      "dtypes: category(11), int32(1), int64(683), object(1)\n",
      "memory usage: 8.4+ MB\n"
     ]
    }
   ],
   "source": [
    "dfuniGlobal.info()"
   ]
  },
  {
   "cell_type": "code",
   "execution_count": 95,
   "id": "6bdcdc36-cc4e-4464-af77-2b82a47ac3b6",
   "metadata": {
    "tags": []
   },
   "outputs": [
    {
     "data": {
      "text/html": [
       "<div>\n",
       "<style scoped>\n",
       "    .dataframe tbody tr th:only-of-type {\n",
       "        vertical-align: middle;\n",
       "    }\n",
       "\n",
       "    .dataframe tbody tr th {\n",
       "        vertical-align: top;\n",
       "    }\n",
       "\n",
       "    .dataframe thead th {\n",
       "        text-align: right;\n",
       "    }\n",
       "</style>\n",
       "<table border=\"1\" class=\"dataframe\">\n",
       "  <thead>\n",
       "    <tr style=\"text-align: right;\">\n",
       "      <th></th>\n",
       "      <th>Cod_Estudiante</th>\n",
       "      <th>TipoCole</th>\n",
       "      <th>ModalidadIngreso</th>\n",
       "      <th>Escuela</th>\n",
       "      <th>Facultad</th>\n",
       "      <th>UltimoPromSemestre</th>\n",
       "      <th>RepeticionAsigAcumuladas</th>\n",
       "      <th>ReingresoOtraEscuela</th>\n",
       "      <th>Sexo</th>\n",
       "      <th>EstCivil</th>\n",
       "      <th>...</th>\n",
       "      <th>Cod_AsignaturaISSDS07</th>\n",
       "      <th>Cod_AsignaturaISSDT10</th>\n",
       "      <th>Cod_AsignaturaISSEX07</th>\n",
       "      <th>Cod_AsignaturaISSIM09</th>\n",
       "      <th>Cod_AsignaturaISSOP06</th>\n",
       "      <th>Cod_AsignaturaISSSI09</th>\n",
       "      <th>Cod_AsignaturaISSTD08</th>\n",
       "      <th>Cod_AsignaturaISTGS05</th>\n",
       "      <th>Cod_AsignaturaISTYT10</th>\n",
       "      <th>AnioAcademico</th>\n",
       "    </tr>\n",
       "  </thead>\n",
       "  <tbody>\n",
       "    <tr>\n",
       "      <th>0</th>\n",
       "      <td>2016653801</td>\n",
       "      <td>Publico</td>\n",
       "      <td>OrdinarioGeneral</td>\n",
       "      <td>IMinas</td>\n",
       "      <td>Ingenieria</td>\n",
       "      <td>7</td>\n",
       "      <td>0</td>\n",
       "      <td>0</td>\n",
       "      <td>Fema</td>\n",
       "      <td>Soltero</td>\n",
       "      <td>...</td>\n",
       "      <td>0</td>\n",
       "      <td>0</td>\n",
       "      <td>0</td>\n",
       "      <td>0</td>\n",
       "      <td>0</td>\n",
       "      <td>0</td>\n",
       "      <td>0</td>\n",
       "      <td>0</td>\n",
       "      <td>0</td>\n",
       "      <td>Primero</td>\n",
       "    </tr>\n",
       "    <tr>\n",
       "      <th>1</th>\n",
       "      <td>2021653788</td>\n",
       "      <td>Publico</td>\n",
       "      <td>OrdinarioGeneral</td>\n",
       "      <td>IMinas</td>\n",
       "      <td>Ingenieria</td>\n",
       "      <td>0</td>\n",
       "      <td>2</td>\n",
       "      <td>0</td>\n",
       "      <td>Male</td>\n",
       "      <td>Soltero</td>\n",
       "      <td>...</td>\n",
       "      <td>0</td>\n",
       "      <td>0</td>\n",
       "      <td>0</td>\n",
       "      <td>0</td>\n",
       "      <td>0</td>\n",
       "      <td>0</td>\n",
       "      <td>0</td>\n",
       "      <td>0</td>\n",
       "      <td>0</td>\n",
       "      <td>Primero</td>\n",
       "    </tr>\n",
       "    <tr>\n",
       "      <th>2</th>\n",
       "      <td>2021853767</td>\n",
       "      <td>Publico</td>\n",
       "      <td>OrdinarioGeneral</td>\n",
       "      <td>IMinas</td>\n",
       "      <td>Ingenieria</td>\n",
       "      <td>5</td>\n",
       "      <td>0</td>\n",
       "      <td>0</td>\n",
       "      <td>Male</td>\n",
       "      <td>Soltero</td>\n",
       "      <td>...</td>\n",
       "      <td>0</td>\n",
       "      <td>0</td>\n",
       "      <td>0</td>\n",
       "      <td>0</td>\n",
       "      <td>0</td>\n",
       "      <td>0</td>\n",
       "      <td>0</td>\n",
       "      <td>0</td>\n",
       "      <td>0</td>\n",
       "      <td>Primero</td>\n",
       "    </tr>\n",
       "    <tr>\n",
       "      <th>3</th>\n",
       "      <td>2017653824</td>\n",
       "      <td>Publico</td>\n",
       "      <td>OrdinarioGeneral</td>\n",
       "      <td>IMinas</td>\n",
       "      <td>Ingenieria</td>\n",
       "      <td>0</td>\n",
       "      <td>0</td>\n",
       "      <td>0</td>\n",
       "      <td>Male</td>\n",
       "      <td>Soltero</td>\n",
       "      <td>...</td>\n",
       "      <td>0</td>\n",
       "      <td>0</td>\n",
       "      <td>0</td>\n",
       "      <td>0</td>\n",
       "      <td>0</td>\n",
       "      <td>0</td>\n",
       "      <td>0</td>\n",
       "      <td>0</td>\n",
       "      <td>0</td>\n",
       "      <td>Primero</td>\n",
       "    </tr>\n",
       "    <tr>\n",
       "      <th>4</th>\n",
       "      <td>2017651787</td>\n",
       "      <td>Publico</td>\n",
       "      <td>1erosPuestosColegios</td>\n",
       "      <td>GPDS</td>\n",
       "      <td>Letras</td>\n",
       "      <td>13</td>\n",
       "      <td>1</td>\n",
       "      <td>0</td>\n",
       "      <td>Fema</td>\n",
       "      <td>Soltero</td>\n",
       "      <td>...</td>\n",
       "      <td>0</td>\n",
       "      <td>0</td>\n",
       "      <td>0</td>\n",
       "      <td>0</td>\n",
       "      <td>0</td>\n",
       "      <td>0</td>\n",
       "      <td>0</td>\n",
       "      <td>0</td>\n",
       "      <td>0</td>\n",
       "      <td>Primero</td>\n",
       "    </tr>\n",
       "  </tbody>\n",
       "</table>\n",
       "<p>5 rows × 696 columns</p>\n",
       "</div>"
      ],
      "text/plain": [
       "  Cod_Estudiante TipoCole      ModalidadIngreso Escuela    Facultad  \\\n",
       "0     2016653801  Publico      OrdinarioGeneral  IMinas  Ingenieria   \n",
       "1     2021653788  Publico      OrdinarioGeneral  IMinas  Ingenieria   \n",
       "2     2021853767  Publico      OrdinarioGeneral  IMinas  Ingenieria   \n",
       "3     2017653824  Publico      OrdinarioGeneral  IMinas  Ingenieria   \n",
       "4     2017651787  Publico  1erosPuestosColegios    GPDS      Letras   \n",
       "\n",
       "   UltimoPromSemestre  RepeticionAsigAcumuladas  ReingresoOtraEscuela  Sexo  \\\n",
       "0                   7                         0                     0  Fema   \n",
       "1                   0                         2                     0  Male   \n",
       "2                   5                         0                     0  Male   \n",
       "3                   0                         0                     0  Male   \n",
       "4                  13                         1                     0  Fema   \n",
       "\n",
       "  EstCivil  ... Cod_AsignaturaISSDS07  Cod_AsignaturaISSDT10  \\\n",
       "0  Soltero  ...                     0                      0   \n",
       "1  Soltero  ...                     0                      0   \n",
       "2  Soltero  ...                     0                      0   \n",
       "3  Soltero  ...                     0                      0   \n",
       "4  Soltero  ...                     0                      0   \n",
       "\n",
       "  Cod_AsignaturaISSEX07 Cod_AsignaturaISSIM09 Cod_AsignaturaISSOP06  \\\n",
       "0                     0                     0                     0   \n",
       "1                     0                     0                     0   \n",
       "2                     0                     0                     0   \n",
       "3                     0                     0                     0   \n",
       "4                     0                     0                     0   \n",
       "\n",
       "   Cod_AsignaturaISSSI09  Cod_AsignaturaISSTD08  Cod_AsignaturaISTGS05  \\\n",
       "0                      0                      0                      0   \n",
       "1                      0                      0                      0   \n",
       "2                      0                      0                      0   \n",
       "3                      0                      0                      0   \n",
       "4                      0                      0                      0   \n",
       "\n",
       "   Cod_AsignaturaISTYT10  AnioAcademico  \n",
       "0                      0        Primero  \n",
       "1                      0        Primero  \n",
       "2                      0        Primero  \n",
       "3                      0        Primero  \n",
       "4                      0        Primero  \n",
       "\n",
       "[5 rows x 696 columns]"
      ]
     },
     "execution_count": 95,
     "metadata": {},
     "output_type": "execute_result"
    }
   ],
   "source": [
    "dfuniGlobal.head(5)"
   ]
  },
  {
   "cell_type": "code",
   "execution_count": 96,
   "id": "fade1599-a1a1-4db9-b29c-16f35f6c32e3",
   "metadata": {},
   "outputs": [],
   "source": [
    "# OBS: HAsta aqui hemos conseguido cambiar el tipo de datos, ahora debemos aplicr topot en la sección XXX."
   ]
  },
  {
   "cell_type": "markdown",
   "id": "2e91fc6d-14f4-4014-9304-730b70c73d0e",
   "metadata": {},
   "source": [
    "### Data Exploration"
   ]
  },
  {
   "cell_type": "code",
   "execution_count": 97,
   "id": "79e8a2f0-55e2-4186-973c-3ce808b2ce6e",
   "metadata": {
    "tags": []
   },
   "outputs": [
    {
     "data": {
      "text/plain": [
       "EstadoEstudiante\n",
       "0    1165\n",
       "1     416\n",
       "dtype: int64"
      ]
     },
     "execution_count": 97,
     "metadata": {},
     "output_type": "execute_result"
    }
   ],
   "source": [
    "# Vamos a verificar cuántos estudiantes Desertan o No_desertan. Periodo 20171 - 20212\n",
    "dfuniGlobal.groupby(['EstadoEstudiante']).size()"
   ]
  },
  {
   "cell_type": "code",
   "execution_count": 98,
   "id": "596c3067-faa4-49f4-afc5-2caed2d46b05",
   "metadata": {
    "tags": []
   },
   "outputs": [
    {
     "data": {
      "text/plain": [
       "1581"
      ]
     },
     "execution_count": 98,
     "metadata": {},
     "output_type": "execute_result"
    }
   ],
   "source": [
    "len(dfuniGlobal)"
   ]
  },
  {
   "cell_type": "code",
   "execution_count": 99,
   "id": "6b3699dc-d6ed-4a22-8027-041d06a1775c",
   "metadata": {
    "tags": []
   },
   "outputs": [
    {
     "data": {
      "text/plain": [
       "Escuela\n",
       "GPDS               342\n",
       "IAgroindustrial    231\n",
       "IAmbiental         311\n",
       "IInformatica       235\n",
       "IMinas             360\n",
       "IPesquera          102\n",
       "dtype: int64"
      ]
     },
     "execution_count": 99,
     "metadata": {},
     "output_type": "execute_result"
    }
   ],
   "source": [
    "# Agrupando en función a la Escuela Profesional\n",
    "dfuniGlobal.groupby(['Escuela']).size()"
   ]
  },
  {
   "cell_type": "code",
   "execution_count": 100,
   "id": "e13f3a06-8aa7-4cf7-bc02-57ee19c33246",
   "metadata": {},
   "outputs": [
    {
     "data": {
      "text/plain": [
       "Escuela          EstadoEstudiante\n",
       "GPDS             0                   286\n",
       "                 1                    56\n",
       "IAgroindustrial  0                   149\n",
       "                 1                    82\n",
       "IAmbiental       0                   247\n",
       "                 1                    64\n",
       "IInformatica     0                   150\n",
       "                 1                    85\n",
       "IMinas           0                   260\n",
       "                 1                   100\n",
       "IPesquera        0                    73\n",
       "                 1                    29\n",
       "Name: EstadoEstudiante, dtype: int64"
      ]
     },
     "execution_count": 100,
     "metadata": {},
     "output_type": "execute_result"
    }
   ],
   "source": [
    "# Agrupando en función a la Escuela Profesional y el EstadoEstudiante\n",
    "dfuniGlobal.groupby(\"Escuela\").EstadoEstudiante.value_counts()"
   ]
  },
  {
   "cell_type": "code",
   "execution_count": 101,
   "id": "a2324e1f-df7e-455b-9f52-65e947607b45",
   "metadata": {},
   "outputs": [],
   "source": [
    "# OBS -> Verificar con el sistema de la U si existen desertores (código 2017-1 y 2017-2) en Agroindustria, Ambiental y Minas "
   ]
  },
  {
   "cell_type": "code",
   "execution_count": 102,
   "id": "511aa4c4-fce6-423d-860d-01ba3a7a731e",
   "metadata": {},
   "outputs": [
    {
     "data": {
      "text/plain": [
       "Sexo          EstadoEstudiante\n",
       "Ausente_Sexo  0                     9\n",
       "Fema          0                   564\n",
       "              1                   121\n",
       "Male          0                   592\n",
       "              1                   295\n",
       "Name: EstadoEstudiante, dtype: int64"
      ]
     },
     "execution_count": 102,
     "metadata": {},
     "output_type": "execute_result"
    }
   ],
   "source": [
    "# Agrupando en función al sexo del estudiante\n",
    "dfuniGlobal.groupby(\"Sexo\").EstadoEstudiante.value_counts()"
   ]
  },
  {
   "cell_type": "code",
   "execution_count": 103,
   "id": "84d45b34-2d08-45cf-97ae-343667a13389",
   "metadata": {},
   "outputs": [
    {
     "data": {
      "text/plain": [
       "Escuela          Sexo          EstadoEstudiante\n",
       "GPDS             Ausente_Sexo  0                     3\n",
       "                 Fema          0                   181\n",
       "                               1                    21\n",
       "                 Male          0                   102\n",
       "                               1                    35\n",
       "IAgroindustrial  Ausente_Sexo  0                     1\n",
       "                 Fema          0                    72\n",
       "                               1                    27\n",
       "                 Male          0                    76\n",
       "                               1                    55\n",
       "IAmbiental       Ausente_Sexo  0                     2\n",
       "                 Fema          0                   149\n",
       "                               1                    25\n",
       "                 Male          0                    96\n",
       "                               1                    39\n",
       "IInformatica     Ausente_Sexo  0                     2\n",
       "                 Fema          0                    41\n",
       "                               1                    16\n",
       "                 Male          0                   107\n",
       "                               1                    69\n",
       "IMinas           Ausente_Sexo  0                     1\n",
       "                 Fema          0                    81\n",
       "                               1                    16\n",
       "                 Male          0                   178\n",
       "                               1                    84\n",
       "IPesquera        Fema          0                    40\n",
       "                               1                    16\n",
       "                 Male          0                    33\n",
       "                               1                    13\n",
       "Name: EstadoEstudiante, dtype: int64"
      ]
     },
     "execution_count": 103,
     "metadata": {},
     "output_type": "execute_result"
    }
   ],
   "source": [
    "# Agrupamos en funcion a dos variables\n",
    "dfuniGlobal.groupby(['Escuela','Sexo']).EstadoEstudiante.value_counts()"
   ]
  },
  {
   "cell_type": "code",
   "execution_count": null,
   "id": "654a3622-017d-4d6a-912a-a4742cf791a4",
   "metadata": {
    "tags": []
   },
   "outputs": [],
   "source": []
  },
  {
   "cell_type": "markdown",
   "id": "d29d7963-9fb9-4ea1-b1a7-22ac99897091",
   "metadata": {
    "tags": []
   },
   "source": [
    "## Aplicar Tipot"
   ]
  },
  {
   "cell_type": "markdown",
   "id": "0fb9ca2d-86a1-4a4f-b13f-68303a83c1fd",
   "metadata": {
    "tags": []
   },
   "source": [
    "### Data Munging (Recogida de datos)"
   ]
  },
  {
   "cell_type": "markdown",
   "id": "1992f71f-1d8d-43b8-a03b-1a8fcdece347",
   "metadata": {},
   "source": [
    "El primer y más importante paso en el uso de TPOT en cualquier conjunto de datos es cambiar el nombre de la \n",
    "clase de destino (variable de respuesta a la clase)."
   ]
  },
  {
   "cell_type": "code",
   "execution_count": 105,
   "id": "67a1d13c-265b-4238-bfe5-49c3629018f9",
   "metadata": {
    "tags": []
   },
   "outputs": [],
   "source": [
    "dfuniGlobal.rename(columns={'EstadoEstudiante': 'class'}, inplace=True)"
   ]
  },
  {
   "cell_type": "code",
   "execution_count": 106,
   "id": "ef6022e1-6daa-4c3b-93c0-cd08b568edd6",
   "metadata": {},
   "outputs": [],
   "source": [
    "# Actualmente, TPOT requiere que todos los datos estén en formato numérico. Como podemos ver a continuación, \n",
    "# nuestro conjunto de datos tiene XXX  variables categóricas que contienen valores no numéricos: CodEst, Cole, ModaIngreso,\n",
    "# Facu, PlanEst, SemEnCurso, SemPerma, Sexo, EstCivil, SemIngreso, Filial, ControlCV, CicloAsig, CodAsig y CursaCV"
   ]
  },
  {
   "cell_type": "code",
   "execution_count": 107,
   "id": "975eb44e-a07a-46b5-a325-db29b2bee209",
   "metadata": {
    "tags": []
   },
   "outputs": [
    {
     "data": {
      "text/plain": [
       "Cod_Estudiante           category\n",
       "TipoCole                 category\n",
       "ModalidadIngreso         category\n",
       "Escuela                  category\n",
       "Facultad                 category\n",
       "                           ...   \n",
       "Cod_AsignaturaISSSI09       int64\n",
       "Cod_AsignaturaISSTD08       int64\n",
       "Cod_AsignaturaISTGS05       int64\n",
       "Cod_AsignaturaISTYT10       int64\n",
       "AnioAcademico            category\n",
       "Length: 696, dtype: object"
      ]
     },
     "execution_count": 107,
     "metadata": {},
     "output_type": "execute_result"
    }
   ],
   "source": [
    "dfuniGlobal.dtypes"
   ]
  },
  {
   "cell_type": "code",
   "execution_count": 108,
   "id": "4f9d9829-8749-4756-81f5-d9f22bf4df99",
   "metadata": {},
   "outputs": [],
   "source": [
    "# A continuación, comprobamos el número de niveles que tiene cada una de las 9 variables categóricas."
   ]
  },
  {
   "cell_type": "code",
   "execution_count": 110,
   "id": "2ea60e7f-95bd-4e4d-8cd5-b52598dcd1c0",
   "metadata": {
    "tags": []
   },
   "outputs": [
    {
     "name": "stdout",
     "output_type": "stream",
     "text": [
      "Número de niveles de la categoría 'TipoCole': 3.00 \n",
      "Número de niveles de la categoría 'ModalidadIngreso': 12.00 \n",
      "Número de niveles de la categoría 'Facultad': 2.00 \n",
      "Número de niveles de la categoría 'Escuela': 6.00 \n",
      "Número de niveles de la categoría 'Sexo': 3.00 \n",
      "Número de niveles de la categoría 'EstCivil': 6.00 \n",
      "Número de niveles de la categoría 'SemestreIngreso': 11.00 \n",
      "Número de niveles de la categoría 'Filial': 3.00 \n",
      "Número de niveles de la categoría 'CursaCV': 2.00 \n",
      "Número de niveles de la categoría 'AnioAcademico': 1.00 \n"
     ]
    }
   ],
   "source": [
    "for cat in ['TipoCole', 'ModalidadIngreso', 'Facultad','Escuela','Sexo', 'EstCivil', 'SemestreIngreso', 'Filial','CursaCV','AnioAcademico']:\n",
    "    print(\"Número de niveles de la categoría '{0}': \\b {1:2.2f} \".format(cat, dfuniGlobal[cat].unique().size))"
   ]
  },
  {
   "cell_type": "code",
   "execution_count": 111,
   "id": "10d34527-58a8-4e7b-8588-6a927319f4b7",
   "metadata": {
    "tags": []
   },
   "outputs": [],
   "source": [
    "# ANALIZANDO QUE VARIABLES PUEDEN SER ELIMINADAS\n",
    "# SemestreIngreso - > Es importante para filtrar el año y semestre de ingreso del estudiante."
   ]
  },
  {
   "cell_type": "code",
   "execution_count": 112,
   "id": "1645048d-21b5-4321-b3c8-4abeb43113ed",
   "metadata": {
    "tags": []
   },
   "outputs": [
    {
     "data": {
      "text/plain": [
       "Cod_Estudiante              category\n",
       "TipoCole                    category\n",
       "ModalidadIngreso            category\n",
       "Escuela                     category\n",
       "Facultad                    category\n",
       "UltimoPromSemestre             int64\n",
       "RepeticionAsigAcumuladas       int64\n",
       "ReingresoOtraEscuela           int64\n",
       "Sexo                        category\n",
       "EstCivil                    category\n",
       "SemestreIngreso             category\n",
       "class                          int32\n",
       "Filial                      category\n",
       "Cod_Asignatura                object\n",
       "CursaCV                     category\n",
       "NumSemCV                       int64\n",
       "NumSemReg                      int64\n",
       "PromEgresoSalida               int64\n",
       "Cod_AsignaturaCIAI1008         int64\n",
       "Cod_AsignaturaCIAI807          int64\n",
       "dtype: object"
      ]
     },
     "execution_count": 112,
     "metadata": {},
     "output_type": "execute_result"
    }
   ],
   "source": [
    "# Tipo de datos de las 20 primeras columnas\n",
    "columnas_primeras = dfuniGlobal.columns[:20]\n",
    "tipos_datos = dfuniGlobal[columnas_primeras].dtypes\n",
    "tipos_datos"
   ]
  },
  {
   "cell_type": "code",
   "execution_count": 113,
   "id": "19fe14cf-e22c-46ee-b2f4-d28bd20c2cec",
   "metadata": {
    "tags": []
   },
   "outputs": [],
   "source": [
    "# Observación. Se verifica Object en el campo Cod_Asignatura, ademas este campo ya esta redundando en el pivot de la asignatura.\n",
    "# Eliminamos el campo Cod_Asignatura \n",
    "dfuniGlobal.drop(['Cod_Asignatura'],axis=1,inplace=True)"
   ]
  },
  {
   "cell_type": "code",
   "execution_count": 76,
   "id": "30a6165c-5ddc-4665-b014-c3a6fdf32305",
   "metadata": {
    "tags": []
   },
   "outputs": [
    {
     "data": {
      "text/html": [
       "<div>\n",
       "<style scoped>\n",
       "    .dataframe tbody tr th:only-of-type {\n",
       "        vertical-align: middle;\n",
       "    }\n",
       "\n",
       "    .dataframe tbody tr th {\n",
       "        vertical-align: top;\n",
       "    }\n",
       "\n",
       "    .dataframe thead th {\n",
       "        text-align: right;\n",
       "    }\n",
       "</style>\n",
       "<table border=\"1\" class=\"dataframe\">\n",
       "  <thead>\n",
       "    <tr style=\"text-align: right;\">\n",
       "      <th></th>\n",
       "      <th>Cod_Estudiante</th>\n",
       "      <th>TipoCole</th>\n",
       "      <th>ModalidadIngreso</th>\n",
       "      <th>Escuela</th>\n",
       "      <th>Facultad</th>\n",
       "      <th>UltimoPromSemestre</th>\n",
       "      <th>RepeticionAsigAcumuladas</th>\n",
       "      <th>ReingresoOtraEscuela</th>\n",
       "      <th>Sexo</th>\n",
       "      <th>EstCivil</th>\n",
       "      <th>...</th>\n",
       "      <th>Cod_AsignaturaISSDS07</th>\n",
       "      <th>Cod_AsignaturaISSDT10</th>\n",
       "      <th>Cod_AsignaturaISSEX07</th>\n",
       "      <th>Cod_AsignaturaISSIM09</th>\n",
       "      <th>Cod_AsignaturaISSOP06</th>\n",
       "      <th>Cod_AsignaturaISSSI09</th>\n",
       "      <th>Cod_AsignaturaISSTD08</th>\n",
       "      <th>Cod_AsignaturaISTGS05</th>\n",
       "      <th>Cod_AsignaturaISTYT10</th>\n",
       "      <th>AnioAcademico</th>\n",
       "    </tr>\n",
       "  </thead>\n",
       "  <tbody>\n",
       "    <tr>\n",
       "      <th>0</th>\n",
       "      <td>2016653801</td>\n",
       "      <td>Publico</td>\n",
       "      <td>OrdinarioGeneral</td>\n",
       "      <td>IMinas</td>\n",
       "      <td>Ingenieria</td>\n",
       "      <td>7</td>\n",
       "      <td>0</td>\n",
       "      <td>0</td>\n",
       "      <td>Fema</td>\n",
       "      <td>Soltero</td>\n",
       "      <td>...</td>\n",
       "      <td>0</td>\n",
       "      <td>0</td>\n",
       "      <td>0</td>\n",
       "      <td>0</td>\n",
       "      <td>0</td>\n",
       "      <td>0</td>\n",
       "      <td>0</td>\n",
       "      <td>0</td>\n",
       "      <td>0</td>\n",
       "      <td>Primero</td>\n",
       "    </tr>\n",
       "    <tr>\n",
       "      <th>1</th>\n",
       "      <td>2021653788</td>\n",
       "      <td>Publico</td>\n",
       "      <td>OrdinarioGeneral</td>\n",
       "      <td>IMinas</td>\n",
       "      <td>Ingenieria</td>\n",
       "      <td>0</td>\n",
       "      <td>2</td>\n",
       "      <td>0</td>\n",
       "      <td>Male</td>\n",
       "      <td>Soltero</td>\n",
       "      <td>...</td>\n",
       "      <td>0</td>\n",
       "      <td>0</td>\n",
       "      <td>0</td>\n",
       "      <td>0</td>\n",
       "      <td>0</td>\n",
       "      <td>0</td>\n",
       "      <td>0</td>\n",
       "      <td>0</td>\n",
       "      <td>0</td>\n",
       "      <td>Primero</td>\n",
       "    </tr>\n",
       "    <tr>\n",
       "      <th>2</th>\n",
       "      <td>2021853767</td>\n",
       "      <td>Publico</td>\n",
       "      <td>OrdinarioGeneral</td>\n",
       "      <td>IMinas</td>\n",
       "      <td>Ingenieria</td>\n",
       "      <td>5</td>\n",
       "      <td>0</td>\n",
       "      <td>0</td>\n",
       "      <td>Male</td>\n",
       "      <td>Soltero</td>\n",
       "      <td>...</td>\n",
       "      <td>0</td>\n",
       "      <td>0</td>\n",
       "      <td>0</td>\n",
       "      <td>0</td>\n",
       "      <td>0</td>\n",
       "      <td>0</td>\n",
       "      <td>0</td>\n",
       "      <td>0</td>\n",
       "      <td>0</td>\n",
       "      <td>Primero</td>\n",
       "    </tr>\n",
       "    <tr>\n",
       "      <th>3</th>\n",
       "      <td>2017653824</td>\n",
       "      <td>Publico</td>\n",
       "      <td>OrdinarioGeneral</td>\n",
       "      <td>IMinas</td>\n",
       "      <td>Ingenieria</td>\n",
       "      <td>0</td>\n",
       "      <td>0</td>\n",
       "      <td>0</td>\n",
       "      <td>Male</td>\n",
       "      <td>Soltero</td>\n",
       "      <td>...</td>\n",
       "      <td>0</td>\n",
       "      <td>0</td>\n",
       "      <td>0</td>\n",
       "      <td>0</td>\n",
       "      <td>0</td>\n",
       "      <td>0</td>\n",
       "      <td>0</td>\n",
       "      <td>0</td>\n",
       "      <td>0</td>\n",
       "      <td>Primero</td>\n",
       "    </tr>\n",
       "    <tr>\n",
       "      <th>4</th>\n",
       "      <td>2017651787</td>\n",
       "      <td>Publico</td>\n",
       "      <td>1erosPuestosColegios</td>\n",
       "      <td>GPDS</td>\n",
       "      <td>Letras</td>\n",
       "      <td>13</td>\n",
       "      <td>1</td>\n",
       "      <td>0</td>\n",
       "      <td>Fema</td>\n",
       "      <td>Soltero</td>\n",
       "      <td>...</td>\n",
       "      <td>0</td>\n",
       "      <td>0</td>\n",
       "      <td>0</td>\n",
       "      <td>0</td>\n",
       "      <td>0</td>\n",
       "      <td>0</td>\n",
       "      <td>0</td>\n",
       "      <td>0</td>\n",
       "      <td>0</td>\n",
       "      <td>Primero</td>\n",
       "    </tr>\n",
       "    <tr>\n",
       "      <th>...</th>\n",
       "      <td>...</td>\n",
       "      <td>...</td>\n",
       "      <td>...</td>\n",
       "      <td>...</td>\n",
       "      <td>...</td>\n",
       "      <td>...</td>\n",
       "      <td>...</td>\n",
       "      <td>...</td>\n",
       "      <td>...</td>\n",
       "      <td>...</td>\n",
       "      <td>...</td>\n",
       "      <td>...</td>\n",
       "      <td>...</td>\n",
       "      <td>...</td>\n",
       "      <td>...</td>\n",
       "      <td>...</td>\n",
       "      <td>...</td>\n",
       "      <td>...</td>\n",
       "      <td>...</td>\n",
       "      <td>...</td>\n",
       "      <td>...</td>\n",
       "    </tr>\n",
       "    <tr>\n",
       "      <th>1576</th>\n",
       "      <td>2020651797</td>\n",
       "      <td>Ausente_TipoCole</td>\n",
       "      <td>CEPRE</td>\n",
       "      <td>GPDS</td>\n",
       "      <td>Letras</td>\n",
       "      <td>14</td>\n",
       "      <td>0</td>\n",
       "      <td>0</td>\n",
       "      <td>Male</td>\n",
       "      <td>Soltero</td>\n",
       "      <td>...</td>\n",
       "      <td>0</td>\n",
       "      <td>0</td>\n",
       "      <td>0</td>\n",
       "      <td>0</td>\n",
       "      <td>0</td>\n",
       "      <td>0</td>\n",
       "      <td>0</td>\n",
       "      <td>0</td>\n",
       "      <td>0</td>\n",
       "      <td>Primero</td>\n",
       "    </tr>\n",
       "    <tr>\n",
       "      <th>1577</th>\n",
       "      <td>2018755807</td>\n",
       "      <td>Ausente_TipoCole</td>\n",
       "      <td>OrdinarioGeneral</td>\n",
       "      <td>IAmbiental</td>\n",
       "      <td>Ingenieria</td>\n",
       "      <td>0</td>\n",
       "      <td>1</td>\n",
       "      <td>0</td>\n",
       "      <td>Fema</td>\n",
       "      <td>Soltero</td>\n",
       "      <td>...</td>\n",
       "      <td>0</td>\n",
       "      <td>0</td>\n",
       "      <td>0</td>\n",
       "      <td>0</td>\n",
       "      <td>0</td>\n",
       "      <td>0</td>\n",
       "      <td>0</td>\n",
       "      <td>0</td>\n",
       "      <td>0</td>\n",
       "      <td>Primero</td>\n",
       "    </tr>\n",
       "    <tr>\n",
       "      <th>1578</th>\n",
       "      <td>2018651808</td>\n",
       "      <td>Ausente_TipoCole</td>\n",
       "      <td>OrdinarioGeneral</td>\n",
       "      <td>GPDS</td>\n",
       "      <td>Letras</td>\n",
       "      <td>13</td>\n",
       "      <td>0</td>\n",
       "      <td>0</td>\n",
       "      <td>Fema</td>\n",
       "      <td>Soltero</td>\n",
       "      <td>...</td>\n",
       "      <td>0</td>\n",
       "      <td>0</td>\n",
       "      <td>0</td>\n",
       "      <td>0</td>\n",
       "      <td>0</td>\n",
       "      <td>0</td>\n",
       "      <td>0</td>\n",
       "      <td>0</td>\n",
       "      <td>0</td>\n",
       "      <td>Primero</td>\n",
       "    </tr>\n",
       "    <tr>\n",
       "      <th>1579</th>\n",
       "      <td>2019754784</td>\n",
       "      <td>Publico</td>\n",
       "      <td>OrdinarioGeneral</td>\n",
       "      <td>IInformatica</td>\n",
       "      <td>Ingenieria</td>\n",
       "      <td>11</td>\n",
       "      <td>0</td>\n",
       "      <td>1</td>\n",
       "      <td>Fema</td>\n",
       "      <td>Soltero</td>\n",
       "      <td>...</td>\n",
       "      <td>0</td>\n",
       "      <td>0</td>\n",
       "      <td>0</td>\n",
       "      <td>0</td>\n",
       "      <td>0</td>\n",
       "      <td>0</td>\n",
       "      <td>0</td>\n",
       "      <td>0</td>\n",
       "      <td>0</td>\n",
       "      <td>Primero</td>\n",
       "    </tr>\n",
       "    <tr>\n",
       "      <th>1580</th>\n",
       "      <td>2018754756</td>\n",
       "      <td>Publico</td>\n",
       "      <td>OrdinarioGeneral</td>\n",
       "      <td>IInformatica</td>\n",
       "      <td>Ingenieria</td>\n",
       "      <td>0</td>\n",
       "      <td>0</td>\n",
       "      <td>0</td>\n",
       "      <td>Male</td>\n",
       "      <td>Soltero</td>\n",
       "      <td>...</td>\n",
       "      <td>0</td>\n",
       "      <td>0</td>\n",
       "      <td>0</td>\n",
       "      <td>0</td>\n",
       "      <td>0</td>\n",
       "      <td>0</td>\n",
       "      <td>0</td>\n",
       "      <td>0</td>\n",
       "      <td>0</td>\n",
       "      <td>Primero</td>\n",
       "    </tr>\n",
       "  </tbody>\n",
       "</table>\n",
       "<p>1581 rows × 695 columns</p>\n",
       "</div>"
      ],
      "text/plain": [
       "     Cod_Estudiante          TipoCole      ModalidadIngreso       Escuela  \\\n",
       "0        2016653801           Publico      OrdinarioGeneral        IMinas   \n",
       "1        2021653788           Publico      OrdinarioGeneral        IMinas   \n",
       "2        2021853767           Publico      OrdinarioGeneral        IMinas   \n",
       "3        2017653824           Publico      OrdinarioGeneral        IMinas   \n",
       "4        2017651787           Publico  1erosPuestosColegios          GPDS   \n",
       "...             ...               ...                   ...           ...   \n",
       "1576     2020651797  Ausente_TipoCole                 CEPRE          GPDS   \n",
       "1577     2018755807  Ausente_TipoCole      OrdinarioGeneral    IAmbiental   \n",
       "1578     2018651808  Ausente_TipoCole      OrdinarioGeneral          GPDS   \n",
       "1579     2019754784           Publico      OrdinarioGeneral  IInformatica   \n",
       "1580     2018754756           Publico      OrdinarioGeneral  IInformatica   \n",
       "\n",
       "        Facultad  UltimoPromSemestre  RepeticionAsigAcumuladas  \\\n",
       "0     Ingenieria                   7                         0   \n",
       "1     Ingenieria                   0                         2   \n",
       "2     Ingenieria                   5                         0   \n",
       "3     Ingenieria                   0                         0   \n",
       "4         Letras                  13                         1   \n",
       "...          ...                 ...                       ...   \n",
       "1576      Letras                  14                         0   \n",
       "1577  Ingenieria                   0                         1   \n",
       "1578      Letras                  13                         0   \n",
       "1579  Ingenieria                  11                         0   \n",
       "1580  Ingenieria                   0                         0   \n",
       "\n",
       "      ReingresoOtraEscuela  Sexo EstCivil  ... Cod_AsignaturaISSDS07  \\\n",
       "0                        0  Fema  Soltero  ...                     0   \n",
       "1                        0  Male  Soltero  ...                     0   \n",
       "2                        0  Male  Soltero  ...                     0   \n",
       "3                        0  Male  Soltero  ...                     0   \n",
       "4                        0  Fema  Soltero  ...                     0   \n",
       "...                    ...   ...      ...  ...                   ...   \n",
       "1576                     0  Male  Soltero  ...                     0   \n",
       "1577                     0  Fema  Soltero  ...                     0   \n",
       "1578                     0  Fema  Soltero  ...                     0   \n",
       "1579                     1  Fema  Soltero  ...                     0   \n",
       "1580                     0  Male  Soltero  ...                     0   \n",
       "\n",
       "      Cod_AsignaturaISSDT10 Cod_AsignaturaISSEX07 Cod_AsignaturaISSIM09  \\\n",
       "0                         0                     0                     0   \n",
       "1                         0                     0                     0   \n",
       "2                         0                     0                     0   \n",
       "3                         0                     0                     0   \n",
       "4                         0                     0                     0   \n",
       "...                     ...                   ...                   ...   \n",
       "1576                      0                     0                     0   \n",
       "1577                      0                     0                     0   \n",
       "1578                      0                     0                     0   \n",
       "1579                      0                     0                     0   \n",
       "1580                      0                     0                     0   \n",
       "\n",
       "      Cod_AsignaturaISSOP06  Cod_AsignaturaISSSI09  Cod_AsignaturaISSTD08  \\\n",
       "0                         0                      0                      0   \n",
       "1                         0                      0                      0   \n",
       "2                         0                      0                      0   \n",
       "3                         0                      0                      0   \n",
       "4                         0                      0                      0   \n",
       "...                     ...                    ...                    ...   \n",
       "1576                      0                      0                      0   \n",
       "1577                      0                      0                      0   \n",
       "1578                      0                      0                      0   \n",
       "1579                      0                      0                      0   \n",
       "1580                      0                      0                      0   \n",
       "\n",
       "      Cod_AsignaturaISTGS05  Cod_AsignaturaISTYT10  AnioAcademico  \n",
       "0                         0                      0        Primero  \n",
       "1                         0                      0        Primero  \n",
       "2                         0                      0        Primero  \n",
       "3                         0                      0        Primero  \n",
       "4                         0                      0        Primero  \n",
       "...                     ...                    ...            ...  \n",
       "1576                      0                      0        Primero  \n",
       "1577                      0                      0        Primero  \n",
       "1578                      0                      0        Primero  \n",
       "1579                      0                      0        Primero  \n",
       "1580                      0                      0        Primero  \n",
       "\n",
       "[1581 rows x 695 columns]"
      ]
     },
     "execution_count": 76,
     "metadata": {},
     "output_type": "execute_result"
    }
   ],
   "source": [
    "dfuniGlobal"
   ]
  },
  {
   "cell_type": "code",
   "execution_count": 114,
   "id": "6db66f3f-c63c-47ed-a9ad-abf33b700d46",
   "metadata": {
    "tags": []
   },
   "outputs": [
    {
     "data": {
      "text/plain": [
       "Cod_Estudiante              category\n",
       "TipoCole                    category\n",
       "ModalidadIngreso            category\n",
       "Escuela                     category\n",
       "Facultad                    category\n",
       "UltimoPromSemestre             int64\n",
       "RepeticionAsigAcumuladas       int64\n",
       "ReingresoOtraEscuela           int64\n",
       "Sexo                        category\n",
       "EstCivil                    category\n",
       "SemestreIngreso             category\n",
       "class                          int32\n",
       "Filial                      category\n",
       "CursaCV                     category\n",
       "NumSemCV                       int64\n",
       "NumSemReg                      int64\n",
       "PromEgresoSalida               int64\n",
       "Cod_AsignaturaCIAI1008         int64\n",
       "Cod_AsignaturaCIAI807          int64\n",
       "Cod_AsignaturaCIAI808          int64\n",
       "dtype: object"
      ]
     },
     "execution_count": 114,
     "metadata": {},
     "output_type": "execute_result"
    }
   ],
   "source": [
    "columnas_primeras = dfuniGlobal.columns[:20]\n",
    "tipos_datos = dfuniGlobal[columnas_primeras].dtypes\n",
    "tipos_datos"
   ]
  },
  {
   "cell_type": "code",
   "execution_count": 115,
   "id": "340da752-d7dd-4107-8a0f-c0d1a754268e",
   "metadata": {
    "tags": []
   },
   "outputs": [
    {
     "data": {
      "text/plain": [
       "Cod_AsignaturaISSSI09       int64\n",
       "Cod_AsignaturaISSTD08       int64\n",
       "Cod_AsignaturaISTGS05       int64\n",
       "Cod_AsignaturaISTYT10       int64\n",
       "AnioAcademico            category\n",
       "dtype: object"
      ]
     },
     "execution_count": 115,
     "metadata": {},
     "output_type": "execute_result"
    }
   ],
   "source": [
    "# Visualizar ultimas columnas\n",
    "ultimas_columnas = dfuniGlobal.dtypes.tail(5)\n",
    "ultimas_columnas"
   ]
  },
  {
   "cell_type": "code",
   "execution_count": 116,
   "id": "eae2139c-2bc6-435d-aae0-c36e699034f0",
   "metadata": {
    "tags": []
   },
   "outputs": [
    {
     "name": "stdout",
     "output_type": "stream",
     "text": [
      "Niveles de categoria 'TipoCole': ['Publico', 'Ausente_TipoCole', 'Privado']\n",
      "Categories (3, object): ['Ausente_TipoCole', 'Privado', 'Publico']\n",
      "Niveles de categoria 'ModalidadIngreso': ['OrdinarioGeneral', '1erosPuestosColegios', 'CEPRE', 'EgresoCOAR', 'MovilidadNacional', ..., 'MovilidadExtranjero', 'Discapacidad', 'Deportistas', 'VictimasTerrorismo', 'PlanIntegralDeRepacaciones']\n",
      "Length: 12\n",
      "Categories (12, object): ['1erosPuestosColegios', 'CEPRE', 'Deportistas', 'Discapacidad', ..., 'PlanIntegralDeRepacaciones', 'TituladosGraduadosUniversitarios', 'TrasladoExterno', 'VictimasTerrorismo']\n",
      "Niveles de categoria 'Escuela': ['IMinas', 'GPDS', 'IAmbiental', 'IPesquera', 'IInformatica', 'IAgroindustrial']\n",
      "Categories (6, object): ['GPDS', 'IAgroindustrial', 'IAmbiental', 'IInformatica', 'IMinas', 'IPesquera']\n",
      "Niveles de categoria 'Facultad': ['Ingenieria', 'Letras']\n",
      "Categories (2, object): ['Ingenieria', 'Letras']\n",
      "Niveles de categoria 'Sexo': ['Fema', 'Male', 'Ausente_Sexo']\n",
      "Categories (3, object): ['Ausente_Sexo', 'Fema', 'Male']\n",
      "Niveles de categoria 'EstCivil': ['Soltero', 'Ausente_EstadoCivil', 'Viudo', 'Casado', 'Conviviente', 'Divorciado']\n",
      "Categories (6, object): ['Ausente_EstadoCivil', 'Casado', 'Conviviente', 'Divorciado', 'Soltero', 'Viudo']\n",
      "Niveles de categoria 'SemestreIngreso': [20162, 20211, 20172, 20171, 20201, ..., 20191, 20202, 20182, 20161, 20192]\n",
      "Length: 11\n",
      "Categories (11, int64): [20161, 20162, 20171, 20172, ..., 20192, 20201, 20202, 20211]\n",
      "Niveles de categoria 'Filial': ['M', 'I', 'Ich']\n",
      "Categories (3, object): ['I', 'Ich', 'M']\n",
      "Niveles de categoria 'CursaCV': ['F', 'T']\n",
      "Categories (2, object): ['F', 'T']\n",
      "Niveles de categoria 'AnioAcademico': ['Primero']\n",
      "Categories (1, object): ['Primero']\n"
     ]
    }
   ],
   "source": [
    "# PAra conocer las categorías\n",
    "for cat in ['TipoCole', 'ModalidadIngreso', 'Escuela','Facultad','Sexo','EstCivil','SemestreIngreso','Filial','CursaCV','AnioAcademico']:\n",
    "    print(\"Niveles de categoria '{0}': {1}\".format(cat, dfuniGlobal[cat].unique()))"
   ]
  },
  {
   "cell_type": "code",
   "execution_count": 117,
   "id": "29a67e24-450c-41a4-b895-0eac93d07974",
   "metadata": {},
   "outputs": [],
   "source": [
    "# En las siguientes lineas se estaria configurando las categoriasa  numerico pero de forma manual"
   ]
  },
  {
   "cell_type": "code",
   "execution_count": 118,
   "id": "1c9a1e34-9e51-421b-bdb9-99d2c68405d1",
   "metadata": {
    "tags": []
   },
   "outputs": [
    {
     "name": "stdout",
     "output_type": "stream",
     "text": [
      "OrdinarioGeneral                    1111\n",
      "CEPRE                                336\n",
      "1erosPuestosColegios                  79\n",
      "TituladosGraduadosUniversitarios      13\n",
      "EgresoCOAR                            11\n",
      "MovilidadNacional                      9\n",
      "TrasladoExterno                        8\n",
      "MovilidadExtranjero                    6\n",
      "Deportistas                            5\n",
      "Discapacidad                           1\n",
      "PlanIntegralDeRepacaciones             1\n",
      "VictimasTerrorismo                     1\n",
      "Name: ModalidadIngreso, dtype: int64\n"
     ]
    }
   ],
   "source": [
    "# Verificando la cantidad de valores únicos (tipología) por columna.\n",
    "print(dfuniGlobal.ModalidadIngreso.value_counts())"
   ]
  },
  {
   "cell_type": "code",
   "execution_count": null,
   "id": "f488c26c-976d-40d0-8637-836d696603b3",
   "metadata": {},
   "outputs": [],
   "source": []
  },
  {
   "cell_type": "code",
   "execution_count": 119,
   "id": "2ddf2ab7-861f-44b4-9fc7-ff924da4977f",
   "metadata": {},
   "outputs": [],
   "source": [
    "# Llevar las categprías a formatos numéricos\n",
    "dfuniGlobal['TipoCole'] = dfuniGlobal['TipoCole'].map({'Publico':0,'Privado':1,'Ausente_TipoCole':-1})\n",
    "dfuniGlobal['ModalidadIngreso'] = dfuniGlobal['ModalidadIngreso'].map({'OrdinarioGeneral':0,'CEPRE':1,'1erosPuestosColegios':2, 'TrasladoExternoExcepcional':3, 'EgresoCOAR':4, 'TituladosGraduadosUniversitarios':5, 'Deportistas':6, 'TrasladoExterno':7, 'MovilidadNacional':8, 'Discapacidad':9, 'MovilidadExtranjero':10, 'PlanIntegralDeRepacaciones':11,\n",
    "'VictimasTerrorismo':12})\n",
    "dfuniGlobal['Facultad'] = dfuniGlobal['Facultad'].map({'Letras':0,'Ingenieria':1})\n",
    "dfuniGlobal['Escuela'] = dfuniGlobal['Escuela'].map({'GPDS':0, 'IAgroindustrial':1, 'IAmbiental':2, 'IInformatica':3, 'IMinas':4, 'IPesquera':5})\n",
    "dfuniGlobal['Sexo'] = dfuniGlobal['Sexo'].map({'Male':0,'Fema':1, 'Ausente_Sexo':-1})\n",
    "dfuniGlobal['EstCivil'] = dfuniGlobal['EstCivil'].map({'Soltero':0, 'Casado':1, 'Viudo':2, 'Divorciado':3, 'Conviviente':4, 'Ausente_EstadoCivil':-1})\n",
    "# dfuniGlobal['SemestreIngreso'] = dfuniGlobal['SemestreIngreso'].map({20161:0,20162:1,20171:2,20172:3,20181:4,20182:5,20191:6,20192:7,20201:8,20202:9,20211:10})\n",
    "dfuniGlobal['Filial'] = dfuniGlobal['Filial'].map({'M':0,'I':1,'Ich':1})\n",
    "# dfuniGlobal['ControlCV'] = dfuniGlobal['ControlCV'].map({20171:0,20172:1,20181:2,20182:3,20191:4,20192:5,20201:6,20202:7,20211:8,20212:9,20180:10,20190:11,20200:12,20210:13,20203:14})\n",
    "# dfuniGlobal['CicloAsig'] = dfuniGlobal['CicloAsig'].map({'I':0,'II':1,'III':2,'IV':3,'V':4,'VI':5,'VII':6,'VIII':7,'IX':8,'X':9})\n",
    "dfuniGlobal['CursaCV'] = dfuniGlobal['CursaCV'].map({'F':0,'T':1})\n",
    "dfuniGlobal['AnioAcademico'] = dfuniGlobal['AnioAcademico'].map({'Primero':1})\n",
    "# Falta codificar las asignaturas asignadas.\n",
    "                                                           "
   ]
  },
  {
   "cell_type": "code",
   "execution_count": 135,
   "id": "bc63e8f2-a669-48eb-bd5d-c2497a4d9ae7",
   "metadata": {
    "tags": []
   },
   "outputs": [
    {
     "name": "stdout",
     "output_type": "stream",
     "text": [
      "Niveles de categoria 'TipoCole': [ 0 -1  1]\n",
      "Niveles de categoria 'ModalidadIngreso': [ 0  2  1  4  8  5  7 10  9  6 12 11]\n",
      "Niveles de categoria 'Facultad': [1 0]\n",
      "Niveles de categoria 'Escuela': [4 0 2 5 3 1]\n",
      "Niveles de categoria 'Sexo': [ 1  0 -1]\n",
      "Niveles de categoria 'EstCivil': [ 0 -1  2  1  4  3]\n",
      "Niveles de categoria 'SemestreIngreso': [20162 20211 20172 20171 20201 20181 20191 20202 20182 20161 20192]\n",
      "Niveles de categoria 'Filial': [0 1]\n",
      "Niveles de categoria 'CursaCV': [0 1]\n",
      "Niveles de categoria 'AnioAcademico': [1]\n"
     ]
    }
   ],
   "source": [
    "# Volver a verificar las categorías\n",
    "for cat in ['TipoCole', 'ModalidadIngreso', 'Facultad', 'Escuela','Sexo', 'EstCivil', 'SemestreIngreso', 'Filial',  'CursaCV','AnioAcademico']:\n",
    "    print(\"Niveles de categoria '{0}': {1}\".format(cat, dfuniGlobal[cat].unique()))"
   ]
  },
  {
   "cell_type": "code",
   "execution_count": 136,
   "id": "16f5599d-8e9b-4572-831c-0b519efcd128",
   "metadata": {
    "tags": []
   },
   "outputs": [
    {
     "data": {
      "text/plain": [
       "Cod_Estudiante              category\n",
       "TipoCole                       int32\n",
       "ModalidadIngreso               int32\n",
       "Escuela                        int32\n",
       "Facultad                       int32\n",
       "UltimoPromSemestre             int64\n",
       "RepeticionAsigAcumuladas       int64\n",
       "ReingresoOtraEscuela           int64\n",
       "Sexo                           int32\n",
       "EstCivil                       int32\n",
       "SemestreIngreso                int32\n",
       "class                          int32\n",
       "Filial                         int32\n",
       "CursaCV                        int32\n",
       "NumSemCV                       int64\n",
       "NumSemReg                      int64\n",
       "PromEgresoSalida               int64\n",
       "Cod_AsignaturaCIAI1008         int64\n",
       "Cod_AsignaturaCIAI807          int64\n",
       "Cod_AsignaturaCIAI808          int64\n",
       "dtype: object"
      ]
     },
     "execution_count": 136,
     "metadata": {},
     "output_type": "execute_result"
    }
   ],
   "source": [
    "columnas_primeras = dfuniGlobal.columns[:20]\n",
    "tipos_datos = dfuniGlobal[columnas_primeras].dtypes\n",
    "tipos_datos"
   ]
  },
  {
   "cell_type": "code",
   "execution_count": 137,
   "id": "23365094-2f2c-423b-80fa-631fead3a57d",
   "metadata": {
    "tags": []
   },
   "outputs": [
    {
     "data": {
      "text/plain": [
       "Cod_AsignaturaISSSI09    int64\n",
       "Cod_AsignaturaISSTD08    int64\n",
       "Cod_AsignaturaISTGS05    int64\n",
       "Cod_AsignaturaISTYT10    int64\n",
       "AnioAcademico            int32\n",
       "dtype: object"
      ]
     },
     "execution_count": 137,
     "metadata": {},
     "output_type": "execute_result"
    }
   ],
   "source": [
    "# Visualizar ultimas columnas\n",
    "ultimas_columnas = dfuniGlobal.dtypes.tail(5)\n",
    "ultimas_columnas"
   ]
  },
  {
   "cell_type": "code",
   "execution_count": null,
   "id": "02961189-1227-445a-8f17-0a795248209b",
   "metadata": {
    "tags": []
   },
   "outputs": [],
   "source": []
  },
  {
   "cell_type": "code",
   "execution_count": 138,
   "id": "a2c75232-3cf2-4d14-b559-41f0cd8fbc3b",
   "metadata": {
    "tags": []
   },
   "outputs": [
    {
     "data": {
      "text/plain": [
       "Cod_Estudiante           category\n",
       "TipoCole                    int32\n",
       "ModalidadIngreso            int32\n",
       "Escuela                     int32\n",
       "Facultad                    int32\n",
       "                           ...   \n",
       "Cod_AsignaturaISSSI09       int64\n",
       "Cod_AsignaturaISSTD08       int64\n",
       "Cod_AsignaturaISTGS05       int64\n",
       "Cod_AsignaturaISTYT10       int64\n",
       "AnioAcademico               int32\n",
       "Length: 695, dtype: object"
      ]
     },
     "execution_count": 138,
     "metadata": {},
     "output_type": "execute_result"
    }
   ],
   "source": [
    "# Cambiar tipo de dato\n",
    "dfuniGlobal['TipoCole']=dfuniGlobal['TipoCole'].astype(\"int\")\n",
    "dfuniGlobal['ModalidadIngreso']=dfuniGlobal['ModalidadIngreso'].astype(\"int\")\n",
    "dfuniGlobal['Facultad']=dfuniGlobal['Facultad'].astype(\"int\")\n",
    "dfuniGlobal['Escuela']=dfuniGlobal['Escuela'].astype(\"int\")\n",
    "dfuniGlobal['Sexo']=dfuniGlobal['Sexo'].astype(\"int\")\n",
    "dfuniGlobal['EstCivil']=dfuniGlobal['EstCivil'].astype(\"int\")\n",
    "dfuniGlobal['Filial']=dfuniGlobal['Filial'].astype(\"int\")\n",
    "dfuniGlobal['SemestreIngreso']=dfuniGlobal['SemestreIngreso'].astype(\"int\")\n",
    "# dfuniGlobal['ControlCV']=dfuniGlobal['ControlCV'].astype(\"int\")\n",
    "# dfuniGlobal['CicloAsig']=dfuniGlobal['CicloAsig'].astype(\"int\")\n",
    "# dfuniGlobal['CodAsig']=dfuniGlobal['CodAsig'].astype(\"int\")\n",
    "dfuniGlobal['CursaCV']=dfuniGlobal['CursaCV'].astype(\"int\")\n",
    "dfuniGlobal['AnioAcademico']=dfuniGlobal['AnioAcademico'].astype(\"int\")\n",
    "dfuniGlobal.dtypes"
   ]
  },
  {
   "cell_type": "code",
   "execution_count": 139,
   "id": "7718997f-051c-4987-82dd-a3a6ad9725d3",
   "metadata": {
    "tags": []
   },
   "outputs": [
    {
     "data": {
      "text/plain": [
       "Cod_Estudiante              category\n",
       "TipoCole                       int32\n",
       "ModalidadIngreso               int32\n",
       "Escuela                        int32\n",
       "Facultad                       int32\n",
       "UltimoPromSemestre             int64\n",
       "RepeticionAsigAcumuladas       int64\n",
       "ReingresoOtraEscuela           int64\n",
       "Sexo                           int32\n",
       "EstCivil                       int32\n",
       "SemestreIngreso                int32\n",
       "class                          int32\n",
       "Filial                         int32\n",
       "CursaCV                        int32\n",
       "NumSemCV                       int64\n",
       "NumSemReg                      int64\n",
       "PromEgresoSalida               int64\n",
       "Cod_AsignaturaCIAI1008         int64\n",
       "Cod_AsignaturaCIAI807          int64\n",
       "Cod_AsignaturaCIAI808          int64\n",
       "dtype: object"
      ]
     },
     "execution_count": 139,
     "metadata": {},
     "output_type": "execute_result"
    }
   ],
   "source": [
    "# Tipo de datos de las 20 primeras columnas\n",
    "columnas_primeras = dfuniGlobal.columns[:20]\n",
    "tipos_datos = dfuniGlobal[columnas_primeras].dtypes\n",
    "tipos_datos"
   ]
  },
  {
   "cell_type": "code",
   "execution_count": 140,
   "id": "d0e62691-4e23-45e2-92ae-f5d35f9dd067",
   "metadata": {
    "tags": []
   },
   "outputs": [
    {
     "data": {
      "text/plain": [
       "Cod_Estudiante           0\n",
       "TipoCole                 0\n",
       "ModalidadIngreso         0\n",
       "Escuela                  0\n",
       "Facultad                 0\n",
       "                        ..\n",
       "Cod_AsignaturaISSSI09    0\n",
       "Cod_AsignaturaISSTD08    0\n",
       "Cod_AsignaturaISTGS05    0\n",
       "Cod_AsignaturaISTYT10    0\n",
       "AnioAcademico            0\n",
       "Length: 695, dtype: int64"
      ]
     },
     "execution_count": 140,
     "metadata": {},
     "output_type": "execute_result"
    }
   ],
   "source": [
    "# Verificando valores nulos\n",
    "dfuniGlobal.isnull().sum()"
   ]
  },
  {
   "cell_type": "code",
   "execution_count": 141,
   "id": "dc0b39c7-5b0f-4de1-bb89-72268a02025d",
   "metadata": {
    "tags": []
   },
   "outputs": [
    {
     "data": {
      "text/plain": [
       "Cod_Estudiante              0\n",
       "TipoCole                    0\n",
       "ModalidadIngreso            0\n",
       "Escuela                     0\n",
       "Facultad                    0\n",
       "UltimoPromSemestre          0\n",
       "RepeticionAsigAcumuladas    0\n",
       "ReingresoOtraEscuela        0\n",
       "Sexo                        0\n",
       "EstCivil                    0\n",
       "SemestreIngreso             0\n",
       "class                       0\n",
       "Filial                      0\n",
       "CursaCV                     0\n",
       "NumSemCV                    0\n",
       "NumSemReg                   0\n",
       "PromEgresoSalida            0\n",
       "Cod_AsignaturaCIAI1008      0\n",
       "Cod_AsignaturaCIAI807       0\n",
       "Cod_AsignaturaCIAI808       0\n",
       "dtype: int64"
      ]
     },
     "execution_count": 141,
     "metadata": {},
     "output_type": "execute_result"
    }
   ],
   "source": [
    "# NULOS de las primeras columnas\n",
    "columnas_primeras = dfuniGlobal.columns[:20]\n",
    "nulos_primeras_columnas = dfuniGlobal[columnas_primeras].isnull().sum()\n",
    "nulos_primeras_columnas"
   ]
  },
  {
   "cell_type": "code",
   "execution_count": 142,
   "id": "cbd55075-ca29-4320-b540-9617fc6ade76",
   "metadata": {
    "tags": []
   },
   "outputs": [
    {
     "data": {
      "text/plain": [
       "False"
      ]
     },
     "execution_count": 142,
     "metadata": {},
     "output_type": "execute_result"
    }
   ],
   "source": [
    "# Verificar si hay algun nulo en todo el dataframe\n",
    "hay_nulos = dfuniGlobal[columnas_primeras].isnull().any().any()\n",
    "hay_nulos"
   ]
  },
  {
   "cell_type": "code",
   "execution_count": 143,
   "id": "abbedc01-88d2-4b0a-a3c0-f7bb49905c7e",
   "metadata": {},
   "outputs": [],
   "source": [
    "# Se recomienda que las variables que presnetan varios niveles sean eliminados del análisis en aras de la simplicidad.\n",
    "# sin embargo, por ser la ESCUELA un elemento improtante  para la deserción, vamos a\n",
    "# intentar procesarlo."
   ]
  },
  {
   "cell_type": "code",
   "execution_count": 144,
   "id": "e472b600-9166-46ef-970b-f4011ec77584",
   "metadata": {},
   "outputs": [],
   "source": [
    "# Para _____________, codificamos los niveles como dígitos utilizando el MultiLabelBinarizer de Scikit-learn y los tratamos como \n",
    "# nuevas características.\n",
    "\n",
    "from sklearn.preprocessing import MultiLabelBinarizer\n",
    "mlb = MultiLabelBinarizer()\n",
    "ModalidadIngresoTrans = mlb.fit_transform([{str(val)} for val in dfuniGlobal['ModalidadIngreso'].values])"
   ]
  },
  {
   "cell_type": "code",
   "execution_count": 146,
   "id": "4025cebc-0d01-4637-8922-b7fb5edf2c80",
   "metadata": {
    "tags": []
   },
   "outputs": [
    {
     "data": {
      "text/plain": [
       "array([[1, 0, 0, ..., 0, 0, 0],\n",
       "       [1, 0, 0, ..., 0, 0, 0],\n",
       "       [1, 0, 0, ..., 0, 0, 0],\n",
       "       ...,\n",
       "       [1, 0, 0, ..., 0, 0, 0],\n",
       "       [1, 0, 0, ..., 0, 0, 0],\n",
       "       [1, 0, 0, ..., 0, 0, 0]])"
      ]
     },
     "execution_count": 146,
     "metadata": {},
     "output_type": "execute_result"
    }
   ],
   "source": [
    "ModalidadIngresoTrans"
   ]
  },
  {
   "cell_type": "code",
   "execution_count": 147,
   "id": "40463b51-38bf-4e8b-9fdd-cbd05f9a3528",
   "metadata": {
    "tags": []
   },
   "outputs": [],
   "source": [
    "\n",
    "# Se elimine las características que no serán utilizadas del conjunto de datos.\n",
    "dfuniGlobal_new = dfuniGlobal.drop(['ModalidadIngreso', 'Cod_Estudiante'], axis=1)"
   ]
  },
  {
   "cell_type": "code",
   "execution_count": 148,
   "id": "935a1cea-ac54-4e23-b231-c08b9b201b1e",
   "metadata": {},
   "outputs": [
    {
     "data": {
      "text/html": [
       "<div>\n",
       "<style scoped>\n",
       "    .dataframe tbody tr th:only-of-type {\n",
       "        vertical-align: middle;\n",
       "    }\n",
       "\n",
       "    .dataframe tbody tr th {\n",
       "        vertical-align: top;\n",
       "    }\n",
       "\n",
       "    .dataframe thead th {\n",
       "        text-align: right;\n",
       "    }\n",
       "</style>\n",
       "<table border=\"1\" class=\"dataframe\">\n",
       "  <thead>\n",
       "    <tr style=\"text-align: right;\">\n",
       "      <th></th>\n",
       "      <th>TipoCole</th>\n",
       "      <th>Escuela</th>\n",
       "      <th>Facultad</th>\n",
       "      <th>UltimoPromSemestre</th>\n",
       "      <th>RepeticionAsigAcumuladas</th>\n",
       "      <th>ReingresoOtraEscuela</th>\n",
       "      <th>Sexo</th>\n",
       "      <th>EstCivil</th>\n",
       "      <th>SemestreIngreso</th>\n",
       "      <th>class</th>\n",
       "      <th>...</th>\n",
       "      <th>Cod_AsignaturaISSDS07</th>\n",
       "      <th>Cod_AsignaturaISSDT10</th>\n",
       "      <th>Cod_AsignaturaISSEX07</th>\n",
       "      <th>Cod_AsignaturaISSIM09</th>\n",
       "      <th>Cod_AsignaturaISSOP06</th>\n",
       "      <th>Cod_AsignaturaISSSI09</th>\n",
       "      <th>Cod_AsignaturaISSTD08</th>\n",
       "      <th>Cod_AsignaturaISTGS05</th>\n",
       "      <th>Cod_AsignaturaISTYT10</th>\n",
       "      <th>AnioAcademico</th>\n",
       "    </tr>\n",
       "  </thead>\n",
       "  <tbody>\n",
       "    <tr>\n",
       "      <th>0</th>\n",
       "      <td>0</td>\n",
       "      <td>4</td>\n",
       "      <td>1</td>\n",
       "      <td>7</td>\n",
       "      <td>0</td>\n",
       "      <td>0</td>\n",
       "      <td>1</td>\n",
       "      <td>0</td>\n",
       "      <td>20162</td>\n",
       "      <td>1</td>\n",
       "      <td>...</td>\n",
       "      <td>0</td>\n",
       "      <td>0</td>\n",
       "      <td>0</td>\n",
       "      <td>0</td>\n",
       "      <td>0</td>\n",
       "      <td>0</td>\n",
       "      <td>0</td>\n",
       "      <td>0</td>\n",
       "      <td>0</td>\n",
       "      <td>1</td>\n",
       "    </tr>\n",
       "    <tr>\n",
       "      <th>1</th>\n",
       "      <td>0</td>\n",
       "      <td>4</td>\n",
       "      <td>1</td>\n",
       "      <td>0</td>\n",
       "      <td>2</td>\n",
       "      <td>0</td>\n",
       "      <td>0</td>\n",
       "      <td>0</td>\n",
       "      <td>20211</td>\n",
       "      <td>0</td>\n",
       "      <td>...</td>\n",
       "      <td>0</td>\n",
       "      <td>0</td>\n",
       "      <td>0</td>\n",
       "      <td>0</td>\n",
       "      <td>0</td>\n",
       "      <td>0</td>\n",
       "      <td>0</td>\n",
       "      <td>0</td>\n",
       "      <td>0</td>\n",
       "      <td>1</td>\n",
       "    </tr>\n",
       "    <tr>\n",
       "      <th>2</th>\n",
       "      <td>0</td>\n",
       "      <td>4</td>\n",
       "      <td>1</td>\n",
       "      <td>5</td>\n",
       "      <td>0</td>\n",
       "      <td>0</td>\n",
       "      <td>0</td>\n",
       "      <td>0</td>\n",
       "      <td>20211</td>\n",
       "      <td>0</td>\n",
       "      <td>...</td>\n",
       "      <td>0</td>\n",
       "      <td>0</td>\n",
       "      <td>0</td>\n",
       "      <td>0</td>\n",
       "      <td>0</td>\n",
       "      <td>0</td>\n",
       "      <td>0</td>\n",
       "      <td>0</td>\n",
       "      <td>0</td>\n",
       "      <td>1</td>\n",
       "    </tr>\n",
       "    <tr>\n",
       "      <th>3</th>\n",
       "      <td>0</td>\n",
       "      <td>4</td>\n",
       "      <td>1</td>\n",
       "      <td>0</td>\n",
       "      <td>0</td>\n",
       "      <td>0</td>\n",
       "      <td>0</td>\n",
       "      <td>0</td>\n",
       "      <td>20172</td>\n",
       "      <td>1</td>\n",
       "      <td>...</td>\n",
       "      <td>0</td>\n",
       "      <td>0</td>\n",
       "      <td>0</td>\n",
       "      <td>0</td>\n",
       "      <td>0</td>\n",
       "      <td>0</td>\n",
       "      <td>0</td>\n",
       "      <td>0</td>\n",
       "      <td>0</td>\n",
       "      <td>1</td>\n",
       "    </tr>\n",
       "    <tr>\n",
       "      <th>4</th>\n",
       "      <td>0</td>\n",
       "      <td>0</td>\n",
       "      <td>0</td>\n",
       "      <td>13</td>\n",
       "      <td>1</td>\n",
       "      <td>0</td>\n",
       "      <td>1</td>\n",
       "      <td>0</td>\n",
       "      <td>20171</td>\n",
       "      <td>0</td>\n",
       "      <td>...</td>\n",
       "      <td>0</td>\n",
       "      <td>0</td>\n",
       "      <td>0</td>\n",
       "      <td>0</td>\n",
       "      <td>0</td>\n",
       "      <td>0</td>\n",
       "      <td>0</td>\n",
       "      <td>0</td>\n",
       "      <td>0</td>\n",
       "      <td>1</td>\n",
       "    </tr>\n",
       "    <tr>\n",
       "      <th>...</th>\n",
       "      <td>...</td>\n",
       "      <td>...</td>\n",
       "      <td>...</td>\n",
       "      <td>...</td>\n",
       "      <td>...</td>\n",
       "      <td>...</td>\n",
       "      <td>...</td>\n",
       "      <td>...</td>\n",
       "      <td>...</td>\n",
       "      <td>...</td>\n",
       "      <td>...</td>\n",
       "      <td>...</td>\n",
       "      <td>...</td>\n",
       "      <td>...</td>\n",
       "      <td>...</td>\n",
       "      <td>...</td>\n",
       "      <td>...</td>\n",
       "      <td>...</td>\n",
       "      <td>...</td>\n",
       "      <td>...</td>\n",
       "      <td>...</td>\n",
       "    </tr>\n",
       "    <tr>\n",
       "      <th>1576</th>\n",
       "      <td>-1</td>\n",
       "      <td>0</td>\n",
       "      <td>0</td>\n",
       "      <td>14</td>\n",
       "      <td>0</td>\n",
       "      <td>0</td>\n",
       "      <td>0</td>\n",
       "      <td>0</td>\n",
       "      <td>20201</td>\n",
       "      <td>0</td>\n",
       "      <td>...</td>\n",
       "      <td>0</td>\n",
       "      <td>0</td>\n",
       "      <td>0</td>\n",
       "      <td>0</td>\n",
       "      <td>0</td>\n",
       "      <td>0</td>\n",
       "      <td>0</td>\n",
       "      <td>0</td>\n",
       "      <td>0</td>\n",
       "      <td>1</td>\n",
       "    </tr>\n",
       "    <tr>\n",
       "      <th>1577</th>\n",
       "      <td>-1</td>\n",
       "      <td>2</td>\n",
       "      <td>1</td>\n",
       "      <td>0</td>\n",
       "      <td>1</td>\n",
       "      <td>0</td>\n",
       "      <td>1</td>\n",
       "      <td>0</td>\n",
       "      <td>20182</td>\n",
       "      <td>0</td>\n",
       "      <td>...</td>\n",
       "      <td>0</td>\n",
       "      <td>0</td>\n",
       "      <td>0</td>\n",
       "      <td>0</td>\n",
       "      <td>0</td>\n",
       "      <td>0</td>\n",
       "      <td>0</td>\n",
       "      <td>0</td>\n",
       "      <td>0</td>\n",
       "      <td>1</td>\n",
       "    </tr>\n",
       "    <tr>\n",
       "      <th>1578</th>\n",
       "      <td>-1</td>\n",
       "      <td>0</td>\n",
       "      <td>0</td>\n",
       "      <td>13</td>\n",
       "      <td>0</td>\n",
       "      <td>0</td>\n",
       "      <td>1</td>\n",
       "      <td>0</td>\n",
       "      <td>20182</td>\n",
       "      <td>0</td>\n",
       "      <td>...</td>\n",
       "      <td>0</td>\n",
       "      <td>0</td>\n",
       "      <td>0</td>\n",
       "      <td>0</td>\n",
       "      <td>0</td>\n",
       "      <td>0</td>\n",
       "      <td>0</td>\n",
       "      <td>0</td>\n",
       "      <td>0</td>\n",
       "      <td>1</td>\n",
       "    </tr>\n",
       "    <tr>\n",
       "      <th>1579</th>\n",
       "      <td>0</td>\n",
       "      <td>3</td>\n",
       "      <td>1</td>\n",
       "      <td>11</td>\n",
       "      <td>0</td>\n",
       "      <td>1</td>\n",
       "      <td>1</td>\n",
       "      <td>0</td>\n",
       "      <td>20191</td>\n",
       "      <td>1</td>\n",
       "      <td>...</td>\n",
       "      <td>0</td>\n",
       "      <td>0</td>\n",
       "      <td>0</td>\n",
       "      <td>0</td>\n",
       "      <td>0</td>\n",
       "      <td>0</td>\n",
       "      <td>0</td>\n",
       "      <td>0</td>\n",
       "      <td>0</td>\n",
       "      <td>1</td>\n",
       "    </tr>\n",
       "    <tr>\n",
       "      <th>1580</th>\n",
       "      <td>0</td>\n",
       "      <td>3</td>\n",
       "      <td>1</td>\n",
       "      <td>0</td>\n",
       "      <td>0</td>\n",
       "      <td>0</td>\n",
       "      <td>0</td>\n",
       "      <td>0</td>\n",
       "      <td>20181</td>\n",
       "      <td>1</td>\n",
       "      <td>...</td>\n",
       "      <td>0</td>\n",
       "      <td>0</td>\n",
       "      <td>0</td>\n",
       "      <td>0</td>\n",
       "      <td>0</td>\n",
       "      <td>0</td>\n",
       "      <td>0</td>\n",
       "      <td>0</td>\n",
       "      <td>0</td>\n",
       "      <td>1</td>\n",
       "    </tr>\n",
       "  </tbody>\n",
       "</table>\n",
       "<p>1581 rows × 693 columns</p>\n",
       "</div>"
      ],
      "text/plain": [
       "      TipoCole  Escuela  Facultad  UltimoPromSemestre  \\\n",
       "0            0        4         1                   7   \n",
       "1            0        4         1                   0   \n",
       "2            0        4         1                   5   \n",
       "3            0        4         1                   0   \n",
       "4            0        0         0                  13   \n",
       "...        ...      ...       ...                 ...   \n",
       "1576        -1        0         0                  14   \n",
       "1577        -1        2         1                   0   \n",
       "1578        -1        0         0                  13   \n",
       "1579         0        3         1                  11   \n",
       "1580         0        3         1                   0   \n",
       "\n",
       "      RepeticionAsigAcumuladas  ReingresoOtraEscuela  Sexo  EstCivil  \\\n",
       "0                            0                     0     1         0   \n",
       "1                            2                     0     0         0   \n",
       "2                            0                     0     0         0   \n",
       "3                            0                     0     0         0   \n",
       "4                            1                     0     1         0   \n",
       "...                        ...                   ...   ...       ...   \n",
       "1576                         0                     0     0         0   \n",
       "1577                         1                     0     1         0   \n",
       "1578                         0                     0     1         0   \n",
       "1579                         0                     1     1         0   \n",
       "1580                         0                     0     0         0   \n",
       "\n",
       "      SemestreIngreso  class  ...  Cod_AsignaturaISSDS07  \\\n",
       "0               20162      1  ...                      0   \n",
       "1               20211      0  ...                      0   \n",
       "2               20211      0  ...                      0   \n",
       "3               20172      1  ...                      0   \n",
       "4               20171      0  ...                      0   \n",
       "...               ...    ...  ...                    ...   \n",
       "1576            20201      0  ...                      0   \n",
       "1577            20182      0  ...                      0   \n",
       "1578            20182      0  ...                      0   \n",
       "1579            20191      1  ...                      0   \n",
       "1580            20181      1  ...                      0   \n",
       "\n",
       "      Cod_AsignaturaISSDT10  Cod_AsignaturaISSEX07  Cod_AsignaturaISSIM09  \\\n",
       "0                         0                      0                      0   \n",
       "1                         0                      0                      0   \n",
       "2                         0                      0                      0   \n",
       "3                         0                      0                      0   \n",
       "4                         0                      0                      0   \n",
       "...                     ...                    ...                    ...   \n",
       "1576                      0                      0                      0   \n",
       "1577                      0                      0                      0   \n",
       "1578                      0                      0                      0   \n",
       "1579                      0                      0                      0   \n",
       "1580                      0                      0                      0   \n",
       "\n",
       "      Cod_AsignaturaISSOP06  Cod_AsignaturaISSSI09  Cod_AsignaturaISSTD08  \\\n",
       "0                         0                      0                      0   \n",
       "1                         0                      0                      0   \n",
       "2                         0                      0                      0   \n",
       "3                         0                      0                      0   \n",
       "4                         0                      0                      0   \n",
       "...                     ...                    ...                    ...   \n",
       "1576                      0                      0                      0   \n",
       "1577                      0                      0                      0   \n",
       "1578                      0                      0                      0   \n",
       "1579                      0                      0                      0   \n",
       "1580                      0                      0                      0   \n",
       "\n",
       "      Cod_AsignaturaISTGS05  Cod_AsignaturaISTYT10  AnioAcademico  \n",
       "0                         0                      0              1  \n",
       "1                         0                      0              1  \n",
       "2                         0                      0              1  \n",
       "3                         0                      0              1  \n",
       "4                         0                      0              1  \n",
       "...                     ...                    ...            ...  \n",
       "1576                      0                      0              1  \n",
       "1577                      0                      0              1  \n",
       "1578                      0                      0              1  \n",
       "1579                      0                      0              1  \n",
       "1580                      0                      0              1  \n",
       "\n",
       "[1581 rows x 693 columns]"
      ]
     },
     "execution_count": 148,
     "metadata": {},
     "output_type": "execute_result"
    }
   ],
   "source": [
    "dfuniGlobal_new"
   ]
  },
  {
   "cell_type": "code",
   "execution_count": 149,
   "id": "16873696-dc79-4fe1-a086-dbb196bf564a",
   "metadata": {
    "tags": []
   },
   "outputs": [],
   "source": [
    "# Comprobar que la codificación es correcta\n",
    "assert (len(dfuniGlobal['ModalidadIngreso'].unique()) == len(mlb.classes_)), \"Not Equal\" "
   ]
  },
  {
   "cell_type": "code",
   "execution_count": 150,
   "id": "caa894ab-9100-45ae-af6d-ff85151c08d0",
   "metadata": {
    "tags": []
   },
   "outputs": [],
   "source": [
    "# A continuación, añadimos las características codificadas para formar el conjunto de datos final que se utilizará con TPOT.\n",
    "dfuniGlobal_new = np.hstack((dfuniGlobal_new.values,ModalidadIngresoTrans))"
   ]
  },
  {
   "cell_type": "code",
   "execution_count": 151,
   "id": "f9d1f675-dd7b-45b6-9051-7e2f8469790c",
   "metadata": {
    "tags": []
   },
   "outputs": [
    {
     "data": {
      "text/plain": [
       "False"
      ]
     },
     "execution_count": 151,
     "metadata": {},
     "output_type": "execute_result"
    }
   ],
   "source": [
    "# Verificar si hay nulos\n",
    "np.isnan(dfuniGlobal_new).any()\n",
    "# hay_nulos = np.isnan(dfuni2017_new).any()\n",
    "# hay_nulos"
   ]
  },
  {
   "cell_type": "code",
   "execution_count": 152,
   "id": "d5ecc8a1-deba-49d6-bda9-6b61e500611a",
   "metadata": {
    "tags": []
   },
   "outputs": [
    {
     "data": {
      "text/plain": [
       "705"
      ]
     },
     "execution_count": 152,
     "metadata": {},
     "output_type": "execute_result"
    }
   ],
   "source": [
    "# Teniendo en cuenta que el conjunto de datos final está en la forma de una matriz numpy, podemos comprobar el número \n",
    "# de características en el conjunto de datos final de la siguiente manera.\n",
    "dfuniGlobal_new[0].size"
   ]
  },
  {
   "cell_type": "code",
   "execution_count": 153,
   "id": "81def1e1-aad1-45f7-9b80-2d23ab04f3ff",
   "metadata": {
    "tags": []
   },
   "outputs": [],
   "source": [
    "# Finalmente almacenamos las etiquetas de clase, que necesitamos predecir, en una variable separada.\n",
    "dfuniGlobal_class = dfuniGlobal['class'].values"
   ]
  },
  {
   "cell_type": "code",
   "execution_count": 154,
   "id": "2119b306-e112-404b-8073-09251cd93ab7",
   "metadata": {
    "tags": []
   },
   "outputs": [],
   "source": [
    "# CONTINUAR ANALIZANDO Y RECALCULANDO EL CODIGOOOOOOOO"
   ]
  },
  {
   "cell_type": "markdown",
   "id": "64230e5a-7c29-4c77-954b-82aa231906dc",
   "metadata": {
    "tags": []
   },
   "source": [
    "## Análisis de datos con TPOT"
   ]
  },
  {
   "cell_type": "markdown",
   "id": "16cac90f-a5ff-4e6a-a593-435f9a5a0512",
   "metadata": {
    "tags": []
   },
   "source": [
    "Para comenzar nuestro análisis, tenemos que dividir nuestros datos de entrenamiento en conjuntos de entrenamiento y validación. El conjunto de validación es sólo para darnos una idea del error del conjunto de prueba. La selección y ajuste del modelo está totalmente a cargo de TPOT, por lo que si queremos, podemos omitir la creación de este conjunto de validación."
   ]
  },
  {
   "cell_type": "code",
   "execution_count": 155,
   "id": "b0ac31f2-e478-4237-ae78-73d708769883",
   "metadata": {
    "tags": []
   },
   "outputs": [
    {
     "data": {
      "text/plain": [
       "(1185, 396)"
      ]
     },
     "execution_count": 155,
     "metadata": {},
     "output_type": "execute_result"
    }
   ],
   "source": [
    "# En este caso, se dividió el conjunto de índices dfuni2017.index en dos conjuntos: uno para entrenamiento y otro para prueba (validación).\n",
    "# El parámetro train_size se estableció en 0.75, lo que significa que el 75% de los índices se asignaron al conjunto de entrenamiento, \n",
    "# y el parámetro test_size se estableció en 0.25, lo que significa que el 25% de los índices se asignaron al conjunto de prueba (validación).\n",
    "training_indices, validation_indices = training_indices, testing_indices = train_test_split(dfuniGlobal.index, stratify = dfuniGlobal_class, train_size=0.75, test_size=0.25)\n",
    "training_indices.size, validation_indices.size"
   ]
  },
  {
   "cell_type": "code",
   "execution_count": null,
   "id": "38eadc3e-806f-4e57-ad2f-23d6a768c971",
   "metadata": {},
   "outputs": [],
   "source": [
    "# Observación:\n",
    "# El resultado (1185, 396) indica que el conjunto de entrenamiento tiene 1185 índices y el conjunto de prueba (validación) tiene 396 índices. \n",
    "# Es importante destacar que estos números pueden variar según la división aleatoria de los datos o los parámetros utilizados en la función train_test_split()."
   ]
  },
  {
   "cell_type": "markdown",
   "id": "30493d84-f777-4de6-bf0a-3a136b545f39",
   "metadata": {},
   "source": [
    "Después de eso, procedemos a llamar a las funciones de ajuste, puntuación y exportación en nuestro conjunto de datos de entrenamiento. Para tener una mejor idea de cómo funcionan estas funciones, consulte la documentación de TPOT aquí.\n",
    "\n",
    "Un parámetro importante de TPOT es el número de generaciones. Como nuestro objetivo es sólo ilustrar el uso de TPOT, hemos establecido el tiempo máximo de optimización en 5 minutos (max_time_mins=5). En un portátil estándar con 4 GB de RAM, tarda aproximadamente 5 minutos por generación en ejecutarse. Por cada generación añadida, debería tardar 5 minutos más. Así, para el valor por defecto de 100, el tiempo total de ejecución podría ser aproximadamente de unas 8 horas."
   ]
  },
  {
   "cell_type": "code",
   "execution_count": 156,
   "id": "627e7edb-b20c-47f8-91de-79ea2ec6eabf",
   "metadata": {
    "tags": []
   },
   "outputs": [
    {
     "name": "stderr",
     "output_type": "stream",
     "text": [
      "Version 0.11.7 of tpot is outdated. Version 0.12.0 was released Thursday May 25, 2023.\n"
     ]
    },
    {
     "data": {
      "application/vnd.jupyter.widget-view+json": {
       "model_id": "",
       "version_major": 2,
       "version_minor": 0
      },
      "text/plain": [
       "Optimization Progress:   0%|          | 0/60 [00:00<?, ?pipeline/s]"
      ]
     },
     "metadata": {},
     "output_type": "display_data"
    },
    {
     "name": "stdout",
     "output_type": "stream",
     "text": [
      "\n",
      "Generation 1 - Current best internal CV score: 1.0\n",
      "\n",
      "Generation 2 - Current best internal CV score: 1.0\n",
      "\n",
      "Generation 3 - Current best internal CV score: 1.0\n",
      "\n",
      "Generation 4 - Current best internal CV score: 1.0\n",
      "\n",
      "Generation 5 - Current best internal CV score: 1.0\n",
      "\n",
      "Generation 6 - Current best internal CV score: 1.0\n",
      "\n",
      "Generation 7 - Current best internal CV score: 1.0\n",
      "\n",
      "Generation 8 - Current best internal CV score: 1.0\n",
      "\n",
      "Generation 9 - Current best internal CV score: 1.0\n",
      "\n",
      "Generation 10 - Current best internal CV score: 1.0\n",
      "\n",
      "Generation 11 - Current best internal CV score: 1.0\n",
      "\n",
      "25.01 minutes have elapsed. TPOT will close down.\n",
      "TPOT closed during evaluation in one generation.\n",
      "WARNING: TPOT may not provide a good pipeline if TPOT is stopped/interrupted in a early generation.\n",
      "\n",
      "\n",
      "TPOT closed prematurely. Will use the current best pipeline.\n",
      "\n",
      "Best pipeline: GradientBoostingClassifier(input_matrix, learning_rate=0.5, max_depth=4, max_features=0.4, min_samples_leaf=1, min_samples_split=2, n_estimators=100, subsample=0.55)\n"
     ]
    },
    {
     "data": {
      "text/html": [
       "<style>#sk-container-id-1 {color: black;background-color: white;}#sk-container-id-1 pre{padding: 0;}#sk-container-id-1 div.sk-toggleable {background-color: white;}#sk-container-id-1 label.sk-toggleable__label {cursor: pointer;display: block;width: 100%;margin-bottom: 0;padding: 0.3em;box-sizing: border-box;text-align: center;}#sk-container-id-1 label.sk-toggleable__label-arrow:before {content: \"▸\";float: left;margin-right: 0.25em;color: #696969;}#sk-container-id-1 label.sk-toggleable__label-arrow:hover:before {color: black;}#sk-container-id-1 div.sk-estimator:hover label.sk-toggleable__label-arrow:before {color: black;}#sk-container-id-1 div.sk-toggleable__content {max-height: 0;max-width: 0;overflow: hidden;text-align: left;background-color: #f0f8ff;}#sk-container-id-1 div.sk-toggleable__content pre {margin: 0.2em;color: black;border-radius: 0.25em;background-color: #f0f8ff;}#sk-container-id-1 input.sk-toggleable__control:checked~div.sk-toggleable__content {max-height: 200px;max-width: 100%;overflow: auto;}#sk-container-id-1 input.sk-toggleable__control:checked~label.sk-toggleable__label-arrow:before {content: \"▾\";}#sk-container-id-1 div.sk-estimator input.sk-toggleable__control:checked~label.sk-toggleable__label {background-color: #d4ebff;}#sk-container-id-1 div.sk-label input.sk-toggleable__control:checked~label.sk-toggleable__label {background-color: #d4ebff;}#sk-container-id-1 input.sk-hidden--visually {border: 0;clip: rect(1px 1px 1px 1px);clip: rect(1px, 1px, 1px, 1px);height: 1px;margin: -1px;overflow: hidden;padding: 0;position: absolute;width: 1px;}#sk-container-id-1 div.sk-estimator {font-family: monospace;background-color: #f0f8ff;border: 1px dotted black;border-radius: 0.25em;box-sizing: border-box;margin-bottom: 0.5em;}#sk-container-id-1 div.sk-estimator:hover {background-color: #d4ebff;}#sk-container-id-1 div.sk-parallel-item::after {content: \"\";width: 100%;border-bottom: 1px solid gray;flex-grow: 1;}#sk-container-id-1 div.sk-label:hover label.sk-toggleable__label {background-color: #d4ebff;}#sk-container-id-1 div.sk-serial::before {content: \"\";position: absolute;border-left: 1px solid gray;box-sizing: border-box;top: 0;bottom: 0;left: 50%;z-index: 0;}#sk-container-id-1 div.sk-serial {display: flex;flex-direction: column;align-items: center;background-color: white;padding-right: 0.2em;padding-left: 0.2em;position: relative;}#sk-container-id-1 div.sk-item {position: relative;z-index: 1;}#sk-container-id-1 div.sk-parallel {display: flex;align-items: stretch;justify-content: center;background-color: white;position: relative;}#sk-container-id-1 div.sk-item::before, #sk-container-id-1 div.sk-parallel-item::before {content: \"\";position: absolute;border-left: 1px solid gray;box-sizing: border-box;top: 0;bottom: 0;left: 50%;z-index: -1;}#sk-container-id-1 div.sk-parallel-item {display: flex;flex-direction: column;z-index: 1;position: relative;background-color: white;}#sk-container-id-1 div.sk-parallel-item:first-child::after {align-self: flex-end;width: 50%;}#sk-container-id-1 div.sk-parallel-item:last-child::after {align-self: flex-start;width: 50%;}#sk-container-id-1 div.sk-parallel-item:only-child::after {width: 0;}#sk-container-id-1 div.sk-dashed-wrapped {border: 1px dashed gray;margin: 0 0.4em 0.5em 0.4em;box-sizing: border-box;padding-bottom: 0.4em;background-color: white;}#sk-container-id-1 div.sk-label label {font-family: monospace;font-weight: bold;display: inline-block;line-height: 1.2em;}#sk-container-id-1 div.sk-label-container {text-align: center;}#sk-container-id-1 div.sk-container {/* jupyter's `normalize.less` sets `[hidden] { display: none; }` but bootstrap.min.css set `[hidden] { display: none !important; }` so we also need the `!important` here to be able to override the default hidden behavior on the sphinx rendered scikit-learn.org. See: https://github.com/scikit-learn/scikit-learn/issues/21755 */display: inline-block !important;position: relative;}#sk-container-id-1 div.sk-text-repr-fallback {display: none;}</style><div id=\"sk-container-id-1\" class=\"sk-top-container\"><div class=\"sk-text-repr-fallback\"><pre>TPOTClassifier(max_eval_time_mins=0.06, max_time_mins=25, population_size=60,\n",
       "               verbosity=2)</pre><b>In a Jupyter environment, please rerun this cell to show the HTML representation or trust the notebook. <br />On GitHub, the HTML representation is unable to render, please try loading this page with nbviewer.org.</b></div><div class=\"sk-container\" hidden><div class=\"sk-item\"><div class=\"sk-estimator sk-toggleable\"><input class=\"sk-toggleable__control sk-hidden--visually\" id=\"sk-estimator-id-1\" type=\"checkbox\" checked><label for=\"sk-estimator-id-1\" class=\"sk-toggleable__label sk-toggleable__label-arrow\">TPOTClassifier</label><div class=\"sk-toggleable__content\"><pre>TPOTClassifier(max_eval_time_mins=0.06, max_time_mins=25, population_size=60,\n",
       "               verbosity=2)</pre></div></div></div></div></div>"
      ],
      "text/plain": [
       "TPOTClassifier(max_eval_time_mins=0.06, max_time_mins=25, population_size=60,\n",
       "               verbosity=2)"
      ]
     },
     "execution_count": 156,
     "metadata": {},
     "output_type": "execute_result"
    }
   ],
   "source": [
    "tpot = TPOTClassifier(verbosity=2, max_time_mins=25, max_eval_time_mins=0.06, population_size=60)\n",
    "tpot.fit(dfuniGlobal_new[training_indices], dfuniGlobal_class[training_indices])"
   ]
  },
  {
   "cell_type": "code",
   "execution_count": 157,
   "id": "c0851a1d-8cdc-4901-999c-bbb7151be539",
   "metadata": {},
   "outputs": [
    {
     "name": "stderr",
     "output_type": "stream",
     "text": [
      "C:\\Users\\Usuario\\AppData\\Local\\Programs\\Python\\Python310\\lib\\site-packages\\sklearn\\metrics\\_scorer.py:794: FutureWarning: sklearn.metrics.SCORERS is deprecated and will be removed in v1.3. Please use sklearn.metrics.get_scorer_names to get a list of available scorers and sklearn.metrics.get_metric to get scorer.\n",
      "  warnings.warn(\n"
     ]
    },
    {
     "data": {
      "text/plain": [
       "1.0"
      ]
     },
     "execution_count": 157,
     "metadata": {},
     "output_type": "execute_result"
    }
   ],
   "source": [
    "tpot.score(dfuniGlobal_new[validation_indices], dfuniGlobal.loc[validation_indices, 'class'].values)"
   ]
  },
  {
   "cell_type": "code",
   "execution_count": 158,
   "id": "71efb3dc-6502-4b4e-a2ad-4010f7a3e26d",
   "metadata": {},
   "outputs": [],
   "source": [
    "# Exportamos tpot_dfunam2017_pipeline\n",
    "tpot.export('tpot_dfuniGlobal_pipeline.py')"
   ]
  },
  {
   "cell_type": "markdown",
   "id": "648bbef1-ae38-4fba-8584-fc733eed9606",
   "metadata": {},
   "source": [
    "Veamos el código generado. Como podemos ver, el clasificador de _____  fue el que mejor funcionó en el conjunto de datos dado de todos los demás modelos que TPOT evalúa actualmente. Si ejecutamos TPOT durante más generaciones, la puntuación debería mejorar aún más."
   ]
  },
  {
   "cell_type": "code",
   "execution_count": 159,
   "id": "3bf256b3-d356-4439-9881-3a9b9de76d17",
   "metadata": {
    "tags": []
   },
   "outputs": [
    {
     "name": "stdout",
     "output_type": "stream",
     "text": [
      "import numpy as np\n",
      "import pandas as pd\n",
      "from sklearn.ensemble import GradientBoostingClassifier\n",
      "from sklearn.model_selection import train_test_split\n",
      "\n",
      "# NOTE: Make sure that the outcome column is labeled 'target' in the data file\n",
      "tpot_data = pd.read_csv('PATH/TO/DATA/FILE', sep='COLUMN_SEPARATOR', dtype=np.float64)\n",
      "features = tpot_data.drop('target', axis=1)\n",
      "training_features, testing_features, training_target, testing_target = \\\n",
      "            train_test_split(features, tpot_data['target'], random_state=None)\n",
      "\n",
      "# Average CV score on the training set was: 1.0\n",
      "exported_pipeline = GradientBoostingClassifier(learning_rate=0.5, max_depth=4, max_features=0.4, min_samples_leaf=1, min_samples_split=2, n_estimators=100, subsample=0.55)\n",
      "\n",
      "exported_pipeline.fit(training_features, training_target)\n",
      "results = exported_pipeline.predict(testing_features)\n",
      "\n"
     ]
    }
   ],
   "source": [
    "# VZ \n",
    "# Cargar el archivo del modelo\n",
    "with open('tpot_dfuniGlobal_PIPELINE.py', 'r') as file:\n",
    "    pipeline_code = file.read()\n",
    "\n",
    "# Visualizar el contenido del archivo\n",
    "print(pipeline_code)\n",
    "\n"
   ]
  },
  {
   "cell_type": "code",
   "execution_count": null,
   "id": "d79a68e4-1e90-4503-9edc-4995d612cebf",
   "metadata": {},
   "outputs": [],
   "source": []
  },
  {
   "cell_type": "markdown",
   "id": "a4975a76-2519-48ae-972e-8e32c9d2667b",
   "metadata": {},
   "source": [
    "### Hacer predicciones sobre los datos de envío"
   ]
  },
  {
   "cell_type": "code",
   "execution_count": 160,
   "id": "5de67518-95ae-4964-8fc6-517998110066",
   "metadata": {
    "tags": []
   },
   "outputs": [
    {
     "data": {
      "text/html": [
       "<div>\n",
       "<style scoped>\n",
       "    .dataframe tbody tr th:only-of-type {\n",
       "        vertical-align: middle;\n",
       "    }\n",
       "\n",
       "    .dataframe tbody tr th {\n",
       "        vertical-align: top;\n",
       "    }\n",
       "\n",
       "    .dataframe thead th {\n",
       "        text-align: right;\n",
       "    }\n",
       "</style>\n",
       "<table border=\"1\" class=\"dataframe\">\n",
       "  <thead>\n",
       "    <tr style=\"text-align: right;\">\n",
       "      <th></th>\n",
       "      <th>Cod_Estudiante</th>\n",
       "      <th>UltimoPromSemestre</th>\n",
       "      <th>RepeticionAsigAcumuladas</th>\n",
       "      <th>ReingresoOtraEscuela</th>\n",
       "      <th>SemestreIngreso</th>\n",
       "      <th>NumSemCV</th>\n",
       "      <th>NumSemReg</th>\n",
       "      <th>PromEgresoSalida</th>\n",
       "      <th>Cod_AsignaturaCIAI1008</th>\n",
       "      <th>Cod_AsignaturaCIAI807</th>\n",
       "      <th>...</th>\n",
       "      <th>Cod_AsignaturaISSDI06</th>\n",
       "      <th>Cod_AsignaturaISSDS07</th>\n",
       "      <th>Cod_AsignaturaISSDT10</th>\n",
       "      <th>Cod_AsignaturaISSEX07</th>\n",
       "      <th>Cod_AsignaturaISSIM09</th>\n",
       "      <th>Cod_AsignaturaISSOP06</th>\n",
       "      <th>Cod_AsignaturaISSSI09</th>\n",
       "      <th>Cod_AsignaturaISSTD08</th>\n",
       "      <th>Cod_AsignaturaISTGS05</th>\n",
       "      <th>Cod_AsignaturaISTYT10</th>\n",
       "    </tr>\n",
       "  </thead>\n",
       "  <tbody>\n",
       "    <tr>\n",
       "      <th>count</th>\n",
       "      <td>6.780000e+02</td>\n",
       "      <td>678.000000</td>\n",
       "      <td>678.000000</td>\n",
       "      <td>678.000000</td>\n",
       "      <td>678.000000</td>\n",
       "      <td>678.000000</td>\n",
       "      <td>678.000000</td>\n",
       "      <td>678.000000</td>\n",
       "      <td>678.000000</td>\n",
       "      <td>678.000000</td>\n",
       "      <td>...</td>\n",
       "      <td>678.0</td>\n",
       "      <td>678.0</td>\n",
       "      <td>678.0</td>\n",
       "      <td>678.0</td>\n",
       "      <td>678.0</td>\n",
       "      <td>678.0</td>\n",
       "      <td>678.0</td>\n",
       "      <td>678.0</td>\n",
       "      <td>678.0</td>\n",
       "      <td>678.0</td>\n",
       "    </tr>\n",
       "    <tr>\n",
       "      <th>mean</th>\n",
       "      <td>2.019090e+09</td>\n",
       "      <td>7.628319</td>\n",
       "      <td>3.846608</td>\n",
       "      <td>0.109145</td>\n",
       "      <td>20185.286136</td>\n",
       "      <td>0.660767</td>\n",
       "      <td>4.787611</td>\n",
       "      <td>10.910029</td>\n",
       "      <td>0.163717</td>\n",
       "      <td>0.117994</td>\n",
       "      <td>...</td>\n",
       "      <td>0.0</td>\n",
       "      <td>0.0</td>\n",
       "      <td>0.0</td>\n",
       "      <td>0.0</td>\n",
       "      <td>0.0</td>\n",
       "      <td>0.0</td>\n",
       "      <td>0.0</td>\n",
       "      <td>0.0</td>\n",
       "      <td>0.0</td>\n",
       "      <td>0.0</td>\n",
       "    </tr>\n",
       "    <tr>\n",
       "      <th>std</th>\n",
       "      <td>1.552607e+06</td>\n",
       "      <td>5.911001</td>\n",
       "      <td>4.644217</td>\n",
       "      <td>0.343591</td>\n",
       "      <td>15.448035</td>\n",
       "      <td>1.129683</td>\n",
       "      <td>2.976376</td>\n",
       "      <td>3.749448</td>\n",
       "      <td>1.611823</td>\n",
       "      <td>1.258684</td>\n",
       "      <td>...</td>\n",
       "      <td>0.0</td>\n",
       "      <td>0.0</td>\n",
       "      <td>0.0</td>\n",
       "      <td>0.0</td>\n",
       "      <td>0.0</td>\n",
       "      <td>0.0</td>\n",
       "      <td>0.0</td>\n",
       "      <td>0.0</td>\n",
       "      <td>0.0</td>\n",
       "      <td>0.0</td>\n",
       "    </tr>\n",
       "    <tr>\n",
       "      <th>min</th>\n",
       "      <td>2.016652e+09</td>\n",
       "      <td>0.000000</td>\n",
       "      <td>0.000000</td>\n",
       "      <td>0.000000</td>\n",
       "      <td>20161.000000</td>\n",
       "      <td>0.000000</td>\n",
       "      <td>1.000000</td>\n",
       "      <td>0.000000</td>\n",
       "      <td>0.000000</td>\n",
       "      <td>0.000000</td>\n",
       "      <td>...</td>\n",
       "      <td>0.0</td>\n",
       "      <td>0.0</td>\n",
       "      <td>0.0</td>\n",
       "      <td>0.0</td>\n",
       "      <td>0.0</td>\n",
       "      <td>0.0</td>\n",
       "      <td>0.0</td>\n",
       "      <td>0.0</td>\n",
       "      <td>0.0</td>\n",
       "      <td>0.0</td>\n",
       "    </tr>\n",
       "    <tr>\n",
       "      <th>25%</th>\n",
       "      <td>2.017755e+09</td>\n",
       "      <td>1.000000</td>\n",
       "      <td>0.000000</td>\n",
       "      <td>0.000000</td>\n",
       "      <td>20171.000000</td>\n",
       "      <td>0.000000</td>\n",
       "      <td>2.000000</td>\n",
       "      <td>10.000000</td>\n",
       "      <td>0.000000</td>\n",
       "      <td>0.000000</td>\n",
       "      <td>...</td>\n",
       "      <td>0.0</td>\n",
       "      <td>0.0</td>\n",
       "      <td>0.0</td>\n",
       "      <td>0.0</td>\n",
       "      <td>0.0</td>\n",
       "      <td>0.0</td>\n",
       "      <td>0.0</td>\n",
       "      <td>0.0</td>\n",
       "      <td>0.0</td>\n",
       "      <td>0.0</td>\n",
       "    </tr>\n",
       "    <tr>\n",
       "      <th>50%</th>\n",
       "      <td>2.018756e+09</td>\n",
       "      <td>9.000000</td>\n",
       "      <td>2.000000</td>\n",
       "      <td>0.000000</td>\n",
       "      <td>20182.000000</td>\n",
       "      <td>0.000000</td>\n",
       "      <td>4.000000</td>\n",
       "      <td>12.000000</td>\n",
       "      <td>0.000000</td>\n",
       "      <td>0.000000</td>\n",
       "      <td>...</td>\n",
       "      <td>0.0</td>\n",
       "      <td>0.0</td>\n",
       "      <td>0.0</td>\n",
       "      <td>0.0</td>\n",
       "      <td>0.0</td>\n",
       "      <td>0.0</td>\n",
       "      <td>0.0</td>\n",
       "      <td>0.0</td>\n",
       "      <td>0.0</td>\n",
       "      <td>0.0</td>\n",
       "    </tr>\n",
       "    <tr>\n",
       "      <th>75%</th>\n",
       "      <td>2.020652e+09</td>\n",
       "      <td>13.000000</td>\n",
       "      <td>6.000000</td>\n",
       "      <td>0.000000</td>\n",
       "      <td>20201.000000</td>\n",
       "      <td>1.000000</td>\n",
       "      <td>7.000000</td>\n",
       "      <td>13.000000</td>\n",
       "      <td>0.000000</td>\n",
       "      <td>0.000000</td>\n",
       "      <td>...</td>\n",
       "      <td>0.0</td>\n",
       "      <td>0.0</td>\n",
       "      <td>0.0</td>\n",
       "      <td>0.0</td>\n",
       "      <td>0.0</td>\n",
       "      <td>0.0</td>\n",
       "      <td>0.0</td>\n",
       "      <td>0.0</td>\n",
       "      <td>0.0</td>\n",
       "      <td>0.0</td>\n",
       "    </tr>\n",
       "    <tr>\n",
       "      <th>max</th>\n",
       "      <td>2.021854e+09</td>\n",
       "      <td>17.000000</td>\n",
       "      <td>24.000000</td>\n",
       "      <td>3.000000</td>\n",
       "      <td>20211.000000</td>\n",
       "      <td>6.000000</td>\n",
       "      <td>12.000000</td>\n",
       "      <td>17.000000</td>\n",
       "      <td>18.000000</td>\n",
       "      <td>16.000000</td>\n",
       "      <td>...</td>\n",
       "      <td>0.0</td>\n",
       "      <td>0.0</td>\n",
       "      <td>0.0</td>\n",
       "      <td>0.0</td>\n",
       "      <td>0.0</td>\n",
       "      <td>0.0</td>\n",
       "      <td>0.0</td>\n",
       "      <td>0.0</td>\n",
       "      <td>0.0</td>\n",
       "      <td>0.0</td>\n",
       "    </tr>\n",
       "  </tbody>\n",
       "</table>\n",
       "<p>8 rows × 685 columns</p>\n",
       "</div>"
      ],
      "text/plain": [
       "       Cod_Estudiante  UltimoPromSemestre  RepeticionAsigAcumuladas  \\\n",
       "count    6.780000e+02          678.000000                678.000000   \n",
       "mean     2.019090e+09            7.628319                  3.846608   \n",
       "std      1.552607e+06            5.911001                  4.644217   \n",
       "min      2.016652e+09            0.000000                  0.000000   \n",
       "25%      2.017755e+09            1.000000                  0.000000   \n",
       "50%      2.018756e+09            9.000000                  2.000000   \n",
       "75%      2.020652e+09           13.000000                  6.000000   \n",
       "max      2.021854e+09           17.000000                 24.000000   \n",
       "\n",
       "       ReingresoOtraEscuela  SemestreIngreso    NumSemCV   NumSemReg  \\\n",
       "count            678.000000       678.000000  678.000000  678.000000   \n",
       "mean               0.109145     20185.286136    0.660767    4.787611   \n",
       "std                0.343591        15.448035    1.129683    2.976376   \n",
       "min                0.000000     20161.000000    0.000000    1.000000   \n",
       "25%                0.000000     20171.000000    0.000000    2.000000   \n",
       "50%                0.000000     20182.000000    0.000000    4.000000   \n",
       "75%                0.000000     20201.000000    1.000000    7.000000   \n",
       "max                3.000000     20211.000000    6.000000   12.000000   \n",
       "\n",
       "       PromEgresoSalida  Cod_AsignaturaCIAI1008  Cod_AsignaturaCIAI807  ...  \\\n",
       "count        678.000000              678.000000             678.000000  ...   \n",
       "mean          10.910029                0.163717               0.117994  ...   \n",
       "std            3.749448                1.611823               1.258684  ...   \n",
       "min            0.000000                0.000000               0.000000  ...   \n",
       "25%           10.000000                0.000000               0.000000  ...   \n",
       "50%           12.000000                0.000000               0.000000  ...   \n",
       "75%           13.000000                0.000000               0.000000  ...   \n",
       "max           17.000000               18.000000              16.000000  ...   \n",
       "\n",
       "       Cod_AsignaturaISSDI06  Cod_AsignaturaISSDS07  Cod_AsignaturaISSDT10  \\\n",
       "count                  678.0                  678.0                  678.0   \n",
       "mean                     0.0                    0.0                    0.0   \n",
       "std                      0.0                    0.0                    0.0   \n",
       "min                      0.0                    0.0                    0.0   \n",
       "25%                      0.0                    0.0                    0.0   \n",
       "50%                      0.0                    0.0                    0.0   \n",
       "75%                      0.0                    0.0                    0.0   \n",
       "max                      0.0                    0.0                    0.0   \n",
       "\n",
       "       Cod_AsignaturaISSEX07  Cod_AsignaturaISSIM09  Cod_AsignaturaISSOP06  \\\n",
       "count                  678.0                  678.0                  678.0   \n",
       "mean                     0.0                    0.0                    0.0   \n",
       "std                      0.0                    0.0                    0.0   \n",
       "min                      0.0                    0.0                    0.0   \n",
       "25%                      0.0                    0.0                    0.0   \n",
       "50%                      0.0                    0.0                    0.0   \n",
       "75%                      0.0                    0.0                    0.0   \n",
       "max                      0.0                    0.0                    0.0   \n",
       "\n",
       "       Cod_AsignaturaISSSI09  Cod_AsignaturaISSTD08  Cod_AsignaturaISTGS05  \\\n",
       "count                  678.0                  678.0                  678.0   \n",
       "mean                     0.0                    0.0                    0.0   \n",
       "std                      0.0                    0.0                    0.0   \n",
       "min                      0.0                    0.0                    0.0   \n",
       "25%                      0.0                    0.0                    0.0   \n",
       "50%                      0.0                    0.0                    0.0   \n",
       "75%                      0.0                    0.0                    0.0   \n",
       "max                      0.0                    0.0                    0.0   \n",
       "\n",
       "       Cod_AsignaturaISTYT10  \n",
       "count                  678.0  \n",
       "mean                     0.0  \n",
       "std                      0.0  \n",
       "min                      0.0  \n",
       "25%                      0.0  \n",
       "50%                      0.0  \n",
       "75%                      0.0  \n",
       "max                      0.0  \n",
       "\n",
       "[8 rows x 685 columns]"
      ]
     },
     "execution_count": 160,
     "metadata": {},
     "output_type": "execute_result"
    }
   ],
   "source": [
    "# Leer el conjunto de datos de envío\n",
    "\n",
    "# Ruta relativa a la carpeta \"DATA\"\n",
    "data_path = 'DATA/dfuniGlobal_test.csv'\n",
    "\n",
    "# Leer el archivo CSV\n",
    "dfuniGlobal_sub = pd.read_csv(data_path)\n",
    "\n",
    "# Verificar los datos leídos\n",
    "dfuniGlobal_sub\n",
    "\n",
    "dfuniGlobal_sub.describe()"
   ]
  },
  {
   "cell_type": "code",
   "execution_count": 163,
   "id": "0eb9d387-8de4-4d9a-a3c3-da836a367223",
   "metadata": {
    "tags": []
   },
   "outputs": [
    {
     "data": {
      "text/html": [
       "<div>\n",
       "<style scoped>\n",
       "    .dataframe tbody tr th:only-of-type {\n",
       "        vertical-align: middle;\n",
       "    }\n",
       "\n",
       "    .dataframe tbody tr th {\n",
       "        vertical-align: top;\n",
       "    }\n",
       "\n",
       "    .dataframe thead th {\n",
       "        text-align: right;\n",
       "    }\n",
       "</style>\n",
       "<table border=\"1\" class=\"dataframe\">\n",
       "  <thead>\n",
       "    <tr style=\"text-align: right;\">\n",
       "      <th></th>\n",
       "      <th>Cod_Estudiante</th>\n",
       "      <th>TipoCole</th>\n",
       "      <th>ModalidadIngreso</th>\n",
       "      <th>Escuela</th>\n",
       "      <th>Facultad</th>\n",
       "      <th>UltimoPromSemestre</th>\n",
       "      <th>RepeticionAsigAcumuladas</th>\n",
       "      <th>ReingresoOtraEscuela</th>\n",
       "      <th>Sexo</th>\n",
       "      <th>EstCivil</th>\n",
       "      <th>...</th>\n",
       "      <th>Cod_AsignaturaISSDS07</th>\n",
       "      <th>Cod_AsignaturaISSDT10</th>\n",
       "      <th>Cod_AsignaturaISSEX07</th>\n",
       "      <th>Cod_AsignaturaISSIM09</th>\n",
       "      <th>Cod_AsignaturaISSOP06</th>\n",
       "      <th>Cod_AsignaturaISSSI09</th>\n",
       "      <th>Cod_AsignaturaISSTD08</th>\n",
       "      <th>Cod_AsignaturaISTGS05</th>\n",
       "      <th>Cod_AsignaturaISTYT10</th>\n",
       "      <th>AnioAcademico</th>\n",
       "    </tr>\n",
       "  </thead>\n",
       "  <tbody>\n",
       "    <tr>\n",
       "      <th>0</th>\n",
       "      <td>2019756854</td>\n",
       "      <td>Publico</td>\n",
       "      <td>-999</td>\n",
       "      <td>IPesquera</td>\n",
       "      <td>Ingenieria</td>\n",
       "      <td>14</td>\n",
       "      <td>1</td>\n",
       "      <td>0</td>\n",
       "      <td>Male</td>\n",
       "      <td>Soltero</td>\n",
       "      <td>...</td>\n",
       "      <td>0</td>\n",
       "      <td>0</td>\n",
       "      <td>0</td>\n",
       "      <td>0</td>\n",
       "      <td>0</td>\n",
       "      <td>0</td>\n",
       "      <td>0</td>\n",
       "      <td>0</td>\n",
       "      <td>0</td>\n",
       "      <td>Primero</td>\n",
       "    </tr>\n",
       "    <tr>\n",
       "      <th>1</th>\n",
       "      <td>2017652790</td>\n",
       "      <td>Publico</td>\n",
       "      <td>-999</td>\n",
       "      <td>IAgroindustrial</td>\n",
       "      <td>Ingenieria</td>\n",
       "      <td>17</td>\n",
       "      <td>0</td>\n",
       "      <td>0</td>\n",
       "      <td>Fema</td>\n",
       "      <td>Soltero</td>\n",
       "      <td>...</td>\n",
       "      <td>0</td>\n",
       "      <td>0</td>\n",
       "      <td>0</td>\n",
       "      <td>0</td>\n",
       "      <td>0</td>\n",
       "      <td>0</td>\n",
       "      <td>0</td>\n",
       "      <td>0</td>\n",
       "      <td>0</td>\n",
       "      <td>Primero</td>\n",
       "    </tr>\n",
       "    <tr>\n",
       "      <th>2</th>\n",
       "      <td>2017756768</td>\n",
       "      <td>Privado</td>\n",
       "      <td>-999</td>\n",
       "      <td>IPesquera</td>\n",
       "      <td>Ingenieria</td>\n",
       "      <td>15</td>\n",
       "      <td>10</td>\n",
       "      <td>0</td>\n",
       "      <td>Fema</td>\n",
       "      <td>Soltero</td>\n",
       "      <td>...</td>\n",
       "      <td>0</td>\n",
       "      <td>0</td>\n",
       "      <td>0</td>\n",
       "      <td>0</td>\n",
       "      <td>0</td>\n",
       "      <td>0</td>\n",
       "      <td>0</td>\n",
       "      <td>0</td>\n",
       "      <td>0</td>\n",
       "      <td>Primero</td>\n",
       "    </tr>\n",
       "    <tr>\n",
       "      <th>3</th>\n",
       "      <td>2019755860</td>\n",
       "      <td>Publico</td>\n",
       "      <td>-999</td>\n",
       "      <td>IAmbiental</td>\n",
       "      <td>Ingenieria</td>\n",
       "      <td>0</td>\n",
       "      <td>2</td>\n",
       "      <td>0</td>\n",
       "      <td>Fema</td>\n",
       "      <td>Soltero</td>\n",
       "      <td>...</td>\n",
       "      <td>0</td>\n",
       "      <td>0</td>\n",
       "      <td>0</td>\n",
       "      <td>0</td>\n",
       "      <td>0</td>\n",
       "      <td>0</td>\n",
       "      <td>0</td>\n",
       "      <td>0</td>\n",
       "      <td>0</td>\n",
       "      <td>Primero</td>\n",
       "    </tr>\n",
       "    <tr>\n",
       "      <th>4</th>\n",
       "      <td>2016653773</td>\n",
       "      <td>Publico</td>\n",
       "      <td>-999</td>\n",
       "      <td>IMinas</td>\n",
       "      <td>Ingenieria</td>\n",
       "      <td>0</td>\n",
       "      <td>0</td>\n",
       "      <td>0</td>\n",
       "      <td>Male</td>\n",
       "      <td>Soltero</td>\n",
       "      <td>...</td>\n",
       "      <td>0</td>\n",
       "      <td>0</td>\n",
       "      <td>0</td>\n",
       "      <td>0</td>\n",
       "      <td>0</td>\n",
       "      <td>0</td>\n",
       "      <td>0</td>\n",
       "      <td>0</td>\n",
       "      <td>0</td>\n",
       "      <td>Primero</td>\n",
       "    </tr>\n",
       "    <tr>\n",
       "      <th>...</th>\n",
       "      <td>...</td>\n",
       "      <td>...</td>\n",
       "      <td>...</td>\n",
       "      <td>...</td>\n",
       "      <td>...</td>\n",
       "      <td>...</td>\n",
       "      <td>...</td>\n",
       "      <td>...</td>\n",
       "      <td>...</td>\n",
       "      <td>...</td>\n",
       "      <td>...</td>\n",
       "      <td>...</td>\n",
       "      <td>...</td>\n",
       "      <td>...</td>\n",
       "      <td>...</td>\n",
       "      <td>...</td>\n",
       "      <td>...</td>\n",
       "      <td>...</td>\n",
       "      <td>...</td>\n",
       "      <td>...</td>\n",
       "      <td>...</td>\n",
       "    </tr>\n",
       "    <tr>\n",
       "      <th>673</th>\n",
       "      <td>2016652787</td>\n",
       "      <td>Publico</td>\n",
       "      <td>-999</td>\n",
       "      <td>IAgroindustrial</td>\n",
       "      <td>Ingenieria</td>\n",
       "      <td>8</td>\n",
       "      <td>2</td>\n",
       "      <td>0</td>\n",
       "      <td>Fema</td>\n",
       "      <td>Soltero</td>\n",
       "      <td>...</td>\n",
       "      <td>0</td>\n",
       "      <td>0</td>\n",
       "      <td>0</td>\n",
       "      <td>0</td>\n",
       "      <td>0</td>\n",
       "      <td>0</td>\n",
       "      <td>0</td>\n",
       "      <td>0</td>\n",
       "      <td>0</td>\n",
       "      <td>Primero</td>\n",
       "    </tr>\n",
       "    <tr>\n",
       "      <th>674</th>\n",
       "      <td>2017754783</td>\n",
       "      <td>Publico</td>\n",
       "      <td>-999</td>\n",
       "      <td>IInformatica</td>\n",
       "      <td>Ingenieria</td>\n",
       "      <td>4</td>\n",
       "      <td>3</td>\n",
       "      <td>0</td>\n",
       "      <td>Male</td>\n",
       "      <td>Soltero</td>\n",
       "      <td>...</td>\n",
       "      <td>0</td>\n",
       "      <td>0</td>\n",
       "      <td>0</td>\n",
       "      <td>0</td>\n",
       "      <td>0</td>\n",
       "      <td>0</td>\n",
       "      <td>0</td>\n",
       "      <td>0</td>\n",
       "      <td>0</td>\n",
       "      <td>Primero</td>\n",
       "    </tr>\n",
       "    <tr>\n",
       "      <th>675</th>\n",
       "      <td>2021755763</td>\n",
       "      <td>Privado</td>\n",
       "      <td>-999</td>\n",
       "      <td>IAmbiental</td>\n",
       "      <td>Ingenieria</td>\n",
       "      <td>1</td>\n",
       "      <td>0</td>\n",
       "      <td>0</td>\n",
       "      <td>Male</td>\n",
       "      <td>Soltero</td>\n",
       "      <td>...</td>\n",
       "      <td>0</td>\n",
       "      <td>0</td>\n",
       "      <td>0</td>\n",
       "      <td>0</td>\n",
       "      <td>0</td>\n",
       "      <td>0</td>\n",
       "      <td>0</td>\n",
       "      <td>0</td>\n",
       "      <td>0</td>\n",
       "      <td>Primero</td>\n",
       "    </tr>\n",
       "    <tr>\n",
       "      <th>676</th>\n",
       "      <td>2019754862</td>\n",
       "      <td>Publico</td>\n",
       "      <td>-999</td>\n",
       "      <td>IInformatica</td>\n",
       "      <td>Ingenieria</td>\n",
       "      <td>11</td>\n",
       "      <td>0</td>\n",
       "      <td>0</td>\n",
       "      <td>Male</td>\n",
       "      <td>Soltero</td>\n",
       "      <td>...</td>\n",
       "      <td>0</td>\n",
       "      <td>0</td>\n",
       "      <td>0</td>\n",
       "      <td>0</td>\n",
       "      <td>0</td>\n",
       "      <td>0</td>\n",
       "      <td>0</td>\n",
       "      <td>0</td>\n",
       "      <td>0</td>\n",
       "      <td>Primero</td>\n",
       "    </tr>\n",
       "    <tr>\n",
       "      <th>677</th>\n",
       "      <td>2017651796</td>\n",
       "      <td>Publico</td>\n",
       "      <td>-999</td>\n",
       "      <td>GPDS</td>\n",
       "      <td>Letras</td>\n",
       "      <td>12</td>\n",
       "      <td>0</td>\n",
       "      <td>0</td>\n",
       "      <td>Fema</td>\n",
       "      <td>Soltero</td>\n",
       "      <td>...</td>\n",
       "      <td>0</td>\n",
       "      <td>0</td>\n",
       "      <td>0</td>\n",
       "      <td>0</td>\n",
       "      <td>0</td>\n",
       "      <td>0</td>\n",
       "      <td>0</td>\n",
       "      <td>0</td>\n",
       "      <td>0</td>\n",
       "      <td>Primero</td>\n",
       "    </tr>\n",
       "  </tbody>\n",
       "</table>\n",
       "<p>678 rows × 696 columns</p>\n",
       "</div>"
      ],
      "text/plain": [
       "     Cod_Estudiante TipoCole ModalidadIngreso          Escuela    Facultad  \\\n",
       "0        2019756854  Publico             -999        IPesquera  Ingenieria   \n",
       "1        2017652790  Publico             -999  IAgroindustrial  Ingenieria   \n",
       "2        2017756768  Privado             -999        IPesquera  Ingenieria   \n",
       "3        2019755860  Publico             -999       IAmbiental  Ingenieria   \n",
       "4        2016653773  Publico             -999           IMinas  Ingenieria   \n",
       "..              ...      ...              ...              ...         ...   \n",
       "673      2016652787  Publico             -999  IAgroindustrial  Ingenieria   \n",
       "674      2017754783  Publico             -999     IInformatica  Ingenieria   \n",
       "675      2021755763  Privado             -999       IAmbiental  Ingenieria   \n",
       "676      2019754862  Publico             -999     IInformatica  Ingenieria   \n",
       "677      2017651796  Publico             -999             GPDS      Letras   \n",
       "\n",
       "     UltimoPromSemestre  RepeticionAsigAcumuladas  ReingresoOtraEscuela  Sexo  \\\n",
       "0                    14                         1                     0  Male   \n",
       "1                    17                         0                     0  Fema   \n",
       "2                    15                        10                     0  Fema   \n",
       "3                     0                         2                     0  Fema   \n",
       "4                     0                         0                     0  Male   \n",
       "..                  ...                       ...                   ...   ...   \n",
       "673                   8                         2                     0  Fema   \n",
       "674                   4                         3                     0  Male   \n",
       "675                   1                         0                     0  Male   \n",
       "676                  11                         0                     0  Male   \n",
       "677                  12                         0                     0  Fema   \n",
       "\n",
       "    EstCivil  ...  Cod_AsignaturaISSDS07 Cod_AsignaturaISSDT10  \\\n",
       "0    Soltero  ...                      0                     0   \n",
       "1    Soltero  ...                      0                     0   \n",
       "2    Soltero  ...                      0                     0   \n",
       "3    Soltero  ...                      0                     0   \n",
       "4    Soltero  ...                      0                     0   \n",
       "..       ...  ...                    ...                   ...   \n",
       "673  Soltero  ...                      0                     0   \n",
       "674  Soltero  ...                      0                     0   \n",
       "675  Soltero  ...                      0                     0   \n",
       "676  Soltero  ...                      0                     0   \n",
       "677  Soltero  ...                      0                     0   \n",
       "\n",
       "    Cod_AsignaturaISSEX07 Cod_AsignaturaISSIM09 Cod_AsignaturaISSOP06  \\\n",
       "0                       0                     0                     0   \n",
       "1                       0                     0                     0   \n",
       "2                       0                     0                     0   \n",
       "3                       0                     0                     0   \n",
       "4                       0                     0                     0   \n",
       "..                    ...                   ...                   ...   \n",
       "673                     0                     0                     0   \n",
       "674                     0                     0                     0   \n",
       "675                     0                     0                     0   \n",
       "676                     0                     0                     0   \n",
       "677                     0                     0                     0   \n",
       "\n",
       "     Cod_AsignaturaISSSI09  Cod_AsignaturaISSTD08  Cod_AsignaturaISTGS05  \\\n",
       "0                        0                      0                      0   \n",
       "1                        0                      0                      0   \n",
       "2                        0                      0                      0   \n",
       "3                        0                      0                      0   \n",
       "4                        0                      0                      0   \n",
       "..                     ...                    ...                    ...   \n",
       "673                      0                      0                      0   \n",
       "674                      0                      0                      0   \n",
       "675                      0                      0                      0   \n",
       "676                      0                      0                      0   \n",
       "677                      0                      0                      0   \n",
       "\n",
       "     Cod_AsignaturaISTYT10  AnioAcademico  \n",
       "0                        0        Primero  \n",
       "1                        0        Primero  \n",
       "2                        0        Primero  \n",
       "3                        0        Primero  \n",
       "4                        0        Primero  \n",
       "..                     ...            ...  \n",
       "673                      0        Primero  \n",
       "674                      0        Primero  \n",
       "675                      0        Primero  \n",
       "676                      0        Primero  \n",
       "677                      0        Primero  \n",
       "\n",
       "[678 rows x 696 columns]"
      ]
     },
     "execution_count": 163,
     "metadata": {},
     "output_type": "execute_result"
    }
   ],
   "source": [
    "dfuniGlobal_sub"
   ]
  },
  {
   "cell_type": "markdown",
   "id": "7843aa07-98ed-4cd7-a698-d6b012226eec",
   "metadata": {},
   "source": [
    "El paso más importante aquí es comprobar si hay nuevos niveles en las variables categóricas del conjunto de datos de envío que están ausentes en el conjunto de entrenamiento. Los identificamos y los establecemos en nuestro valor de marcador de posición \"-999\", es decir, los tratamos como valores perdidos. Esto garantiza la coherencia del entrenamiento, ya que, de lo contrario, el modelo no sabría qué hacer con los nuevos niveles del conjunto de datos enviado.\n"
   ]
  },
  {
   "cell_type": "code",
   "execution_count": 161,
   "id": "12ca825a-981c-485a-8ab0-bec482a29368",
   "metadata": {
    "tags": []
   },
   "outputs": [],
   "source": [
    "   \n",
    "for var in ['ModalidadIngreso']:\n",
    "    new = list(set(dfuniGlobal_sub[var]) - set(dfuniGlobal[var]))\n",
    "    dfuniGlobal_sub.loc[dfuniGlobal_sub[var].isin(new), var] = -999\n",
    "    "
   ]
  },
  {
   "cell_type": "markdown",
   "id": "e2b14367-0741-4377-bf1e-f377cd3f27e6",
   "metadata": {},
   "source": [
    "A continuación, llevamos a cabo los pasos de munición de datos como se hizo anteriormente para el conjunto de datos de entrenamiento."
   ]
  },
  {
   "cell_type": "code",
   "execution_count": null,
   "id": "72a6a46a-90bf-418d-9220-852c606bee5b",
   "metadata": {},
   "outputs": [],
   "source": []
  },
  {
   "cell_type": "code",
   "execution_count": 164,
   "id": "61154254-1edf-4489-88da-95f7dd368551",
   "metadata": {
    "tags": []
   },
   "outputs": [
    {
     "data": {
      "text/plain": [
       "Cod_Estudiante           category\n",
       "TipoCole                 category\n",
       "ModalidadIngreso         category\n",
       "Escuela                  category\n",
       "Facultad                 category\n",
       "                           ...   \n",
       "Cod_AsignaturaISSSI09       int64\n",
       "Cod_AsignaturaISSTD08       int64\n",
       "Cod_AsignaturaISTGS05       int64\n",
       "Cod_AsignaturaISTYT10       int64\n",
       "AnioAcademico            category\n",
       "Length: 696, dtype: object"
      ]
     },
     "execution_count": 164,
     "metadata": {},
     "output_type": "execute_result"
    }
   ],
   "source": [
    "# Cambiar tipo de dato\n",
    "dfuniGlobal_sub['Cod_Estudiante']=dfuniGlobal_sub['Cod_Estudiante'].astype(\"category\")\n",
    "dfuniGlobal_sub['TipoCole']=dfuniGlobal_sub['TipoCole'].astype(\"category\")\n",
    "dfuniGlobal_sub['ModalidadIngreso']=dfuniGlobal_sub['ModalidadIngreso'].astype(\"category\")\n",
    "dfuniGlobal_sub['Facultad']=dfuniGlobal_sub['Facultad'].astype(\"category\")\n",
    "dfuniGlobal_sub['Escuela']=dfuniGlobal_sub['Escuela'].astype(\"category\")\n",
    "dfuniGlobal_sub['Sexo']=dfuniGlobal_sub['Sexo'].astype(\"category\")\n",
    "dfuniGlobal_sub['EstCivil']=dfuniGlobal_sub['EstCivil'].astype(\"category\")\n",
    "dfuniGlobal_sub['Filial']=dfuniGlobal_sub['Filial'].astype(\"category\")\n",
    "dfuniGlobal_sub['SemestreIngreso']=dfuniGlobal_sub['SemestreIngreso'].astype(\"category\")\n",
    "# dfuniGlobal_sub['ControlCV']=dfuniGlobal_sub['ControlCV'].astype(\"category\")\n",
    "# dfuniGlobal_sub['CicloAsig']=dfuniGlobal_sub['CicloAsig'].astype(\"category\")\n",
    "# dfuniGlobal_sub['CodAsig']=dfuniGlobal_sub['CodAsig'].astype(\"category\")\n",
    "dfuniGlobal_sub['CursaCV']=dfuniGlobal_sub['CursaCV'].astype(\"category\")\n",
    "dfuniGlobal_sub['AnioAcademico']=dfuniGlobal_sub['AnioAcademico'].astype(\"category\")\n",
    "dfuniGlobal_sub.dtypes"
   ]
  },
  {
   "cell_type": "code",
   "execution_count": 168,
   "id": "075ecd4b-95c0-41db-914f-b564c0cc8d16",
   "metadata": {
    "tags": []
   },
   "outputs": [
    {
     "data": {
      "text/plain": [
       "Cod_Estudiante              category\n",
       "TipoCole                    category\n",
       "ModalidadIngreso             float64\n",
       "Escuela                     category\n",
       "Facultad                    category\n",
       "UltimoPromSemestre             int64\n",
       "RepeticionAsigAcumuladas       int64\n",
       "ReingresoOtraEscuela           int64\n",
       "Sexo                        category\n",
       "EstCivil                    category\n",
       "SemestreIngreso             category\n",
       "EstadoEstudiante              object\n",
       "Filial                         int64\n",
       "Cod_Asignatura                object\n",
       "CursaCV                     category\n",
       "NumSemCV                       int64\n",
       "NumSemReg                      int64\n",
       "PromEgresoSalida               int64\n",
       "Cod_AsignaturaCIAI1008         int64\n",
       "Cod_AsignaturaCIAI807          int64\n",
       "dtype: object"
      ]
     },
     "execution_count": 168,
     "metadata": {},
     "output_type": "execute_result"
    }
   ],
   "source": [
    "# Tipo de datos de las 20 primeras columnas\n",
    "columnas_primeras = dfuniGlobal_sub.columns[:20]\n",
    "tipos_datos = dfuniGlobal_sub[columnas_primeras].dtypes\n",
    "tipos_datos"
   ]
  },
  {
   "cell_type": "code",
   "execution_count": null,
   "id": "959760fc-9665-4dca-9798-7d68ad1221f2",
   "metadata": {
    "tags": []
   },
   "outputs": [],
   "source": [
    "# En las siguientes lineas se estaria configurando las categoriasa  numerico pero de forma manual"
   ]
  },
  {
   "cell_type": "code",
   "execution_count": null,
   "id": "8cfa608f-2d66-47d6-bef2-ea919f46eb95",
   "metadata": {
    "tags": []
   },
   "outputs": [],
   "source": [
    "# aCTUAIZARRRRRR , BORRAR ESTO Y CONSRVAR EL SIGUIENTE\n",
    "\n",
    "# Llevar las categprías a formatos numéricos\n",
    "# dfuni2017_sub['TipoCole'] = dfuni2017_sub['TipoCole'].map({'Publico':0,'Privado':1})\n",
    "# dfuni2017_sub['ModalidadIngreso'] = dfuni2017_sub['ModalidadIngreso'].map({'OrdinarioGeneral':0,'1erosPuestosColegios':1,'CEPRE':2, 'Discapacidad':3, 'TituladosGraduadosUniversitarios':4})\n",
    "# dfuni2017_sub['Facultad'] = dfuni2017_sub['Facultad'].map({'Letras':0,'Ingenieria':1})\n",
    "# dfuni2017_sub['Escuela'] = dfuni2017_sub['Escuela'].map({'GPDS':0, 'IAgroindustrial':1, 'IAmbiental':2, 'IInformatica':3, 'IMinas':4, 'IPesquera':5})\n",
    "# dfuni2017_sub['Sexo'] = dfuni2017_sub['Sexo'].map({'Male':0,'Fema':1})\n",
    "# dfuni2017_sub['EstCivil'] = dfuni2017_sub['EstCivil'].map({'Soltero':0, 'Casado':1,'Divorciado':2,'Conviviente':3})\n",
    "\n",
    "# dfuni2017_sub['Filial'] = dfuni2017_sub['Filial'].map({'M':0,'I':1,'Ich':1})\n",
    "\n",
    "\n",
    "# dfuni2017_sub['CursaCV'] = dfuni2017_sub['CursaCV'].map({'F':0,'T':1})\n",
    "# Falta codificar las asignaturas asignadas."
   ]
  },
  {
   "cell_type": "code",
   "execution_count": null,
   "id": "47ea1e43-e508-48ad-8442-83bcd0b0962a",
   "metadata": {
    "tags": []
   },
   "outputs": [],
   "source": []
  },
  {
   "cell_type": "code",
   "execution_count": 165,
   "id": "8f414745-5fdd-44fa-98e0-0d5b07306e90",
   "metadata": {
    "tags": []
   },
   "outputs": [],
   "source": [
    "# Llevar las categprías a formatos numéricos\n",
    "dfuniGlobal_sub['TipoCole'] = dfuniGlobal_sub['TipoCole'].map({'Publico':0,'Privado':1,'Ausente_TipoCole':-1})\n",
    "dfuniGlobal_sub['ModalidadIngreso'] = dfuniGlobal_sub['ModalidadIngreso'].map({'OrdinarioGeneral':0,'CEPRE':1,'1erosPuestosColegios':2, 'TrasladoExternoExcepcional':3, 'EgresoCOAR':4, 'TituladosGraduadosUniversitarios':5, 'Deportistas':6, 'TrasladoExterno':7, 'MovilidadNacional':8, 'Discapacidad':9, 'MovilidadExtranjero':10, 'PlanIntegralDeRepacaciones':11,\n",
    "'VictimasTerrorismo':12})\n",
    "dfuniGlobal_sub['Facultad'] = dfuniGlobal_sub['Facultad'].map({'Letras':0,'Ingenieria':1})\n",
    "dfuniGlobal_sub['Escuela'] = dfuniGlobal_sub['Escuela'].map({'GPDS':0, 'IAgroindustrial':1, 'IAmbiental':2, 'IInformatica':3, 'IMinas':4, 'IPesquera':5})\n",
    "dfuniGlobal_sub['Sexo'] = dfuniGlobal_sub['Sexo'].map({'Male':0,'Fema':1, 'Ausente_Sexo':-1})\n",
    "dfuniGlobal_sub['EstCivil'] = dfuniGlobal_sub['EstCivil'].map({'Soltero':0, 'Casado':1, 'Viudo':2, 'Divorciado':3, 'Conviviente':4, 'Ausente_EstadoCivil':-1})\n",
    "# dfuniGlobal_sub['SemestreIngreso'] = dfuniGlobal['SemestreIngreso'].map({20161:0,20162:1,20171:2,20172:3,20181:4,20182:5,20191:6,20192:7,20201:8,20202:9,20211:10})\n",
    "dfuniGlobal_sub['Filial'] = dfuniGlobal_sub['Filial'].map({'M':0,'I':1,'Ich':1})\n",
    "# dfuniGlobal_sub['ControlCV'] = dfuniGlobal_sub['ControlCV'].map({20171:0,20172:1,20181:2,20182:3,20191:4,20192:5,20201:6,20202:7,20211:8,20212:9,20180:10,20190:11,20200:12,20210:13,20203:14})\n",
    "# dfuniGlobal_sub['CicloAsig'] = dfuniGlobal_sub['CicloAsig'].map({'I':0,'II':1,'III':2,'IV':3,'V':4,'VI':5,'VII':6,'VIII':7,'IX':8,'X':9})\n",
    "dfuniGlobal_sub['CursaCV'] = dfuniGlobal_sub['CursaCV'].map({'F':0,'T':1})\n",
    "dfuniGlobal_sub['AnioAcademico'] = dfuniGlobal_sub['AnioAcademico'].map({'Primero':1})\n",
    "# Falta codificar las asignaturas asignadas."
   ]
  },
  {
   "cell_type": "code",
   "execution_count": null,
   "id": "727f105e-2095-4535-bfc6-097b2c78f1be",
   "metadata": {},
   "outputs": [],
   "source": []
  },
  {
   "cell_type": "code",
   "execution_count": null,
   "id": "ca66a010-efe7-422a-8632-3e210e1e88af",
   "metadata": {},
   "outputs": [],
   "source": []
  },
  {
   "cell_type": "code",
   "execution_count": 166,
   "id": "a138618f-26a4-4d02-82c8-9de888c4a3f6",
   "metadata": {},
   "outputs": [
    {
     "name": "stdout",
     "output_type": "stream",
     "text": [
      "Niveles de categoria 'TipoCole': [0, 1, -1]\n",
      "Categories (3, int64): [-1, 1, 0]\n",
      "Niveles de categoria 'ModalidadIngreso': [nan]\n",
      "Niveles de categoria 'Facultad': [1, 0]\n",
      "Categories (2, int64): [1, 0]\n",
      "Niveles de categoria 'Escuela': [5, 1, 2, 4, 0, 3]\n",
      "Categories (6, int64): [0, 1, 2, 3, 4, 5]\n",
      "Niveles de categoria 'Sexo': [0, 1, -1]\n",
      "Categories (3, int64): [-1, 1, 0]\n",
      "Niveles de categoria 'EstCivil': [0, 1, -1, 4]\n",
      "Categories (4, int64): [-1, 1, 4, 0]\n",
      "Niveles de categoria 'SemestreIngreso': [20192, 20171, 20161, 20191, 20182, ..., 20202, 20201, 20181, 20211, 20172]\n",
      "Length: 11\n",
      "Categories (11, int64): [20161, 20162, 20171, 20172, ..., 20192, 20201, 20202, 20211]\n",
      "Niveles de categoria 'Filial': [1 0]\n",
      "Niveles de categoria 'CursaCV': [0, 1]\n",
      "Categories (2, int64): [0, 1]\n",
      "Niveles de categoria 'AnioAcademico': [1]\n",
      "Categories (1, int64): [1]\n"
     ]
    }
   ],
   "source": [
    "# Volver a verificar las categorías\n",
    "for cat in ['TipoCole', 'ModalidadIngreso', 'Facultad', 'Escuela','Sexo', 'EstCivil', 'SemestreIngreso', 'Filial',  'CursaCV','AnioAcademico']:\n",
    "    print(\"Niveles de categoria '{0}': {1}\".format(cat, dfuniGlobal_sub[cat].unique()))"
   ]
  },
  {
   "cell_type": "code",
   "execution_count": 167,
   "id": "edc1669c-c33f-4c34-bf07-0321bc068d16",
   "metadata": {},
   "outputs": [
    {
     "data": {
      "text/plain": [
       "Cod_Estudiante           False\n",
       "TipoCole                 False\n",
       "ModalidadIngreso         False\n",
       "Escuela                  False\n",
       "Facultad                 False\n",
       "                         ...  \n",
       "Cod_AsignaturaISSSI09    False\n",
       "Cod_AsignaturaISSTD08    False\n",
       "Cod_AsignaturaISTGS05    False\n",
       "Cod_AsignaturaISTYT10    False\n",
       "AnioAcademico            False\n",
       "Length: 696, dtype: bool"
      ]
     },
     "execution_count": 167,
     "metadata": {},
     "output_type": "execute_result"
    }
   ],
   "source": [
    "dfuniGlobal_sub = dfuniGlobal_sub.fillna(-999)\n",
    "pd.isnull(dfuniGlobal_sub).any()"
   ]
  },
  {
   "cell_type": "code",
   "execution_count": 169,
   "id": "4b585ff1-3370-461b-8785-343eb744b1d4",
   "metadata": {
    "tags": []
   },
   "outputs": [
    {
     "data": {
      "text/plain": [
       "Cod_Estudiante              category\n",
       "TipoCole                    category\n",
       "ModalidadIngreso             float64\n",
       "Escuela                     category\n",
       "Facultad                    category\n",
       "UltimoPromSemestre             int64\n",
       "RepeticionAsigAcumuladas       int64\n",
       "ReingresoOtraEscuela           int64\n",
       "Sexo                        category\n",
       "EstCivil                    category\n",
       "SemestreIngreso             category\n",
       "EstadoEstudiante              object\n",
       "Filial                         int64\n",
       "Cod_Asignatura                object\n",
       "CursaCV                     category\n",
       "NumSemCV                       int64\n",
       "NumSemReg                      int64\n",
       "PromEgresoSalida               int64\n",
       "Cod_AsignaturaCIAI1008         int64\n",
       "Cod_AsignaturaCIAI807          int64\n",
       "dtype: object"
      ]
     },
     "execution_count": 169,
     "metadata": {},
     "output_type": "execute_result"
    }
   ],
   "source": [
    "# Tipo de datos de las 20 primeras columnas\n",
    "columnas_primeras = dfuniGlobal_sub.columns[:20]\n",
    "tipos_datos = dfuniGlobal_sub[columnas_primeras].dtypes\n",
    "tipos_datos"
   ]
  },
  {
   "cell_type": "markdown",
   "id": "2b1a17ae-28d8-4f10-8f6c-9893ae0197f2",
   "metadata": {},
   "source": [
    "Al llamar a MultiLabelBinarizer para el conjunto de datos de envío, primero ajustamos de nuevo el conjunto de datos de entrenamiento para aprender los niveles y, a continuación, transformamos los valores del conjunto de datos de envío. Esto garantiza que sólo se transformen los niveles presentes en el conjunto de datos de entrenamiento. Si se siguen encontrando nuevos niveles en el conjunto de datos enviado, se producirá un error y tendremos que volver atrás y comprobar el paso anterior de sustituir los nuevos niveles por el valor del marcador de posición."
   ]
  },
  {
   "cell_type": "code",
   "execution_count": 170,
   "id": "bb8bc22b-9af4-4bb2-9cbb-f410adcc81f8",
   "metadata": {},
   "outputs": [
    {
     "name": "stderr",
     "output_type": "stream",
     "text": [
      "C:\\Users\\Usuario\\AppData\\Local\\Programs\\Python\\Python310\\lib\\site-packages\\sklearn\\preprocessing\\_label.py:895: UserWarning: unknown class(es) ['-999.0'] will be ignored\n",
      "  warnings.warn(\n"
     ]
    }
   ],
   "source": [
    "from sklearn.preprocessing import MultiLabelBinarizer\n",
    "mlb = MultiLabelBinarizer()\n",
    "SubModalidadIngresoTrans = mlb.fit([{str(val)} for val in dfuniGlobal['ModalidadIngreso'].values]).transform([{str(val)} for val in dfuniGlobal_sub['ModalidadIngreso'].values])\n",
    "# Eliminamos campos\n",
    "dfuniGlobal_sub.drop(['Cod_Asignatura'],axis=1,inplace=True)\n"
   ]
  },
  {
   "cell_type": "code",
   "execution_count": 171,
   "id": "dba18250-e04b-4dcb-81fb-92191a5d3580",
   "metadata": {},
   "outputs": [],
   "source": [
    "# Formar el nuevo conjunto de datos de presentación\n",
    "dfuniGlobal_sub_new = np.hstack((dfuniGlobal_sub.values,SubModalidadIngresoTrans))"
   ]
  },
  {
   "cell_type": "code",
   "execution_count": 172,
   "id": "3bc1e939-77aa-4c8b-82fc-62788acc1007",
   "metadata": {},
   "outputs": [
    {
     "ename": "TypeError",
     "evalue": "ufunc 'isnan' not supported for the input types, and the inputs could not be safely coerced to any supported types according to the casting rule ''safe''",
     "output_type": "error",
     "traceback": [
      "\u001b[1;31m---------------------------------------------------------------------------\u001b[0m",
      "\u001b[1;31mTypeError\u001b[0m                                 Traceback (most recent call last)",
      "Cell \u001b[1;32mIn[172], line 1\u001b[0m\n\u001b[1;32m----> 1\u001b[0m np\u001b[38;5;241m.\u001b[39many(\u001b[43mnp\u001b[49m\u001b[38;5;241;43m.\u001b[39;49m\u001b[43misnan\u001b[49m\u001b[43m(\u001b[49m\u001b[43mdfuniGlobal_sub_new\u001b[49m\u001b[43m)\u001b[49m)\n",
      "\u001b[1;31mTypeError\u001b[0m: ufunc 'isnan' not supported for the input types, and the inputs could not be safely coerced to any supported types according to the casting rule ''safe''"
     ]
    }
   ],
   "source": [
    "np.any(np.isnan(dfuniGlobal_sub_new))"
   ]
  },
  {
   "cell_type": "code",
   "execution_count": 173,
   "id": "21f74f45-b035-451b-bb73-dfd0d95436ab",
   "metadata": {},
   "outputs": [],
   "source": [
    "# N\n",
    "# Se elimine las características que no serán utilizadas del conjunto de datos.\n",
    "dfuniGlobal_new = dfuniGlobal.drop(['Cod_Estudiante'], axis=1)"
   ]
  },
  {
   "cell_type": "code",
   "execution_count": 174,
   "id": "61f5b484-c35e-45b7-9478-43c7fe926067",
   "metadata": {},
   "outputs": [
    {
     "ename": "AssertionError",
     "evalue": "Not Equal",
     "output_type": "error",
     "traceback": [
      "\u001b[1;31m---------------------------------------------------------------------------\u001b[0m",
      "\u001b[1;31mAssertionError\u001b[0m                            Traceback (most recent call last)",
      "Cell \u001b[1;32mIn[174], line 2\u001b[0m\n\u001b[0;32m      1\u001b[0m \u001b[38;5;66;03m# Garantizar el mismo número de características tanto en el conjunto de datos final de entrenamiento como en el de envío.\u001b[39;00m\n\u001b[1;32m----> 2\u001b[0m \u001b[38;5;28;01massert\u001b[39;00m (dfuniGlobal_new\u001b[38;5;241m.\u001b[39mshape[\u001b[38;5;241m1\u001b[39m] \u001b[38;5;241m==\u001b[39m dfuniGlobal_sub_new\u001b[38;5;241m.\u001b[39mshape[\u001b[38;5;241m1\u001b[39m]), \u001b[38;5;124m'\u001b[39m\u001b[38;5;124mNot Equal\u001b[39m\u001b[38;5;124m'\u001b[39m\n",
      "\u001b[1;31mAssertionError\u001b[0m: Not Equal"
     ]
    }
   ],
   "source": [
    " # Garantizar el mismo número de características tanto en el conjunto de datos final de entrenamiento como en el de envío.\n",
    "assert (dfuniGlobal_new.shape[1] == dfuniGlobal_sub_new.shape[1]), 'Not Equal'"
   ]
  },
  {
   "cell_type": "code",
   "execution_count": 175,
   "id": "1fa86ef2-2e34-49f3-ac68-6071b3e8ee18",
   "metadata": {},
   "outputs": [
    {
     "name": "stdout",
     "output_type": "stream",
     "text": [
      "Número de columnas en dfuniGlobal_new: 694\n",
      "Número de columnas en dfuniGlobal_sub_new: 707\n"
     ]
    }
   ],
   "source": [
    "# N\n",
    "# Para verificar el tamaño de cada dataframe\n",
    "print(\"Número de columnas en dfuniGlobal_new:\", dfuniGlobal_new.shape[1])\n",
    "print(\"Número de columnas en dfuniGlobal_sub_new:\", dfuniGlobal_sub_new.shape[1])"
   ]
  },
  {
   "cell_type": "code",
   "execution_count": null,
   "id": "334413a1-7740-47e8-a24e-3b3aa1db5494",
   "metadata": {},
   "outputs": [],
   "source": [
    "# N\n",
    "# Observación, debemos examinar cada dataframe para corregir la desigualdad."
   ]
  },
  {
   "cell_type": "code",
   "execution_count": null,
   "id": "59ff1e39-f723-4c80-a0e2-3736bbefdc37",
   "metadata": {},
   "outputs": [],
   "source": [
    "# Generate the predictions\n",
    "submission = tpot.predict(dfuniGlobal_sub_new)"
   ]
  },
  {
   "cell_type": "code",
   "execution_count": null,
   "id": "e7192746-ce5f-42cb-a23b-f814bc52af70",
   "metadata": {},
   "outputs": [],
   "source": [
    "# Create the submission file\n",
    "final = pd.DataFrame({'PassengerId': dfuniGlobal_sub['PassengerId'], 'EstadoEstudiante': submission})\n",
    "final.to_csv('data/submission.csv', index = False)"
   ]
  },
  {
   "cell_type": "code",
   "execution_count": null,
   "id": "3a0a9e63-f40a-4eaf-a615-0860ac8b9983",
   "metadata": {},
   "outputs": [],
   "source": [
    "final.shape"
   ]
  },
  {
   "cell_type": "markdown",
   "id": "73c8a5e1-6844-4dc4-b9b1-59432b9c596f",
   "metadata": {},
   "source": [
    "Ya está. Hemos generado con éxito las predicciones para los 418 puntos de datos en el conjunto de datos de presentación, y estamos listos para seguir adelante para presentar estas predicciones en Kaggle."
   ]
  },
  {
   "cell_type": "code",
   "execution_count": null,
   "id": "eeafedc4-c4e5-4b0c-a024-928a103dca80",
   "metadata": {},
   "outputs": [],
   "source": []
  },
  {
   "cell_type": "code",
   "execution_count": null,
   "id": "395b4a06-1db6-4411-a7f3-1aa18a6eed37",
   "metadata": {},
   "outputs": [],
   "source": []
  },
  {
   "cell_type": "code",
   "execution_count": null,
   "id": "4539b103-3b15-4354-be7c-c8f282458de4",
   "metadata": {},
   "outputs": [],
   "source": []
  },
  {
   "cell_type": "code",
   "execution_count": null,
   "id": "afa3a25c-c204-4ba7-a460-6d03e9b51621",
   "metadata": {},
   "outputs": [],
   "source": []
  },
  {
   "cell_type": "code",
   "execution_count": null,
   "id": "e2a895ce-501e-4abc-a88d-5b1328800683",
   "metadata": {},
   "outputs": [],
   "source": []
  },
  {
   "cell_type": "code",
   "execution_count": null,
   "id": "c79522df-ecaa-4f82-8765-b109711210b2",
   "metadata": {},
   "outputs": [],
   "source": []
  },
  {
   "cell_type": "code",
   "execution_count": null,
   "id": "d3d69df5-0794-4d77-862f-99bd58fd3868",
   "metadata": {},
   "outputs": [],
   "source": []
  }
 ],
 "metadata": {
  "kernelspec": {
   "display_name": "Python 3 (ipykernel)",
   "language": "python",
   "name": "python3"
  },
  "language_info": {
   "codemirror_mode": {
    "name": "ipython",
    "version": 3
   },
   "file_extension": ".py",
   "mimetype": "text/x-python",
   "name": "python",
   "nbconvert_exporter": "python",
   "pygments_lexer": "ipython3",
   "version": "3.10.7"
  }
 },
 "nbformat": 4,
 "nbformat_minor": 5
}
